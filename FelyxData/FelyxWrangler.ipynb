{
 "cells": [
  {
   "cell_type": "code",
   "execution_count": 1,
   "metadata": {
    "collapsed": true
   },
   "outputs": [],
   "source": [
    "import geopandas as gpd\n",
    "import pandas as pd\n",
    "import xgboost as xgb\n",
    "from sklearn.preprocessing import LabelEncoder\n",
    "from sklearn.metrics import accuracy_score\n",
    "from sklearn.model_selection import train_test_split\n",
    "import numpy as np\n",
    "from sklearn.metrics import classification_report\n",
    "import seaborn as sns\n",
    "from sklearn.metrics import confusion_matrix\n",
    "from sklearn.utils.class_weight import compute_sample_weight\n",
    "import os"
   ]
  },
  {
   "cell_type": "code",
   "execution_count": 56,
   "outputs": [],
   "source": [
    "city = 'AADO'\n",
    "felyxotp23 = pd.read_pickle('OTPFused/felyxfused' + city)\n",
    "felyxotp22 = pd.read_pickle('OTPFused/felyxfused' + 'Amsterdam2022')\n",
    "# PCs = gpd.read_file(os.path.join('..', 'PublicGeoJsons', city + '_PC4.geojson'))\n",
    "PCs = pd.read_pickle(os.path.join('..', 'PublicGeoJsons', city + '_PC4.geojson'))\n",
    "pcdata = pd.read_pickle('../PostcodeInfo/PCData')\n",
    "pcdata.index.names = ['pc4']\n",
    "pcdata = pcdata.reset_index()"
   ],
   "metadata": {
    "collapsed": false
   }
  },
  {
   "cell_type": "code",
   "execution_count": 57,
   "outputs": [
    {
     "data": {
      "text/plain": "       carId  fuelLevel  vehicleTypeId  pricingTime  isDamaged  city  time   \nmonth                                                                        \n7       3727       3727           3727         3727       3727  3727  3727  \\\n8       3722       3722           3722         3722       3722  3722  3722   \n9       3601       3601           3601         3601       3601  3601  3601   \n10      3722       3722           3722         3722       3722  3722  3722   \n11      3600       3600           3600         3600       3600  3600  3600   \n12      3721       3721           3721         3721       3721  3721  3721   \n\n       prev_time  geometry  prev_location  ...  pt_modechain  walk_duration   \nmonth                                      ...                                \n7           3727      3727           3727  ...          3727           3727  \\\n8           3722      3722           3722  ...          3722           3722   \n9           3601      3601           3601  ...          3601           3601   \n10          3722      3722           3722  ...          3722           3722   \n11          3600      3600           3600  ...          3600           3600   \n12          3721      3721           3721  ...          3721           3721   \n\n       walk_distance  walk_modechain  bike_duration  bike_distance   \nmonth                                                                \n7               3727            3727           3727           3727  \\\n8               3722            3722           3722           3722   \n9               3601            3601           3601           3601   \n10              3722            3722           3722           3722   \n11              3600            3600           3600           3600   \n12              3721            3721           3721           3721   \n\n       bike_modechain  car_duration  car_distance  car_modechain  \nmonth                                                             \n7                3727          3727          3727           3727  \n8                3722          3722          3722           3722  \n9                3601          3601          3601           3601  \n10               3722          3722          3722           3722  \n11               3600          3600          3600           3600  \n12               3721          3721          3721           3721  \n\n[6 rows x 28 columns]",
      "text/html": "<div>\n<style scoped>\n    .dataframe tbody tr th:only-of-type {\n        vertical-align: middle;\n    }\n\n    .dataframe tbody tr th {\n        vertical-align: top;\n    }\n\n    .dataframe thead th {\n        text-align: right;\n    }\n</style>\n<table border=\"1\" class=\"dataframe\">\n  <thead>\n    <tr style=\"text-align: right;\">\n      <th></th>\n      <th>carId</th>\n      <th>fuelLevel</th>\n      <th>vehicleTypeId</th>\n      <th>pricingTime</th>\n      <th>isDamaged</th>\n      <th>city</th>\n      <th>time</th>\n      <th>prev_time</th>\n      <th>geometry</th>\n      <th>prev_location</th>\n      <th>...</th>\n      <th>pt_modechain</th>\n      <th>walk_duration</th>\n      <th>walk_distance</th>\n      <th>walk_modechain</th>\n      <th>bike_duration</th>\n      <th>bike_distance</th>\n      <th>bike_modechain</th>\n      <th>car_duration</th>\n      <th>car_distance</th>\n      <th>car_modechain</th>\n    </tr>\n    <tr>\n      <th>month</th>\n      <th></th>\n      <th></th>\n      <th></th>\n      <th></th>\n      <th></th>\n      <th></th>\n      <th></th>\n      <th></th>\n      <th></th>\n      <th></th>\n      <th></th>\n      <th></th>\n      <th></th>\n      <th></th>\n      <th></th>\n      <th></th>\n      <th></th>\n      <th></th>\n      <th></th>\n      <th></th>\n      <th></th>\n    </tr>\n  </thead>\n  <tbody>\n    <tr>\n      <th>7</th>\n      <td>3727</td>\n      <td>3727</td>\n      <td>3727</td>\n      <td>3727</td>\n      <td>3727</td>\n      <td>3727</td>\n      <td>3727</td>\n      <td>3727</td>\n      <td>3727</td>\n      <td>3727</td>\n      <td>...</td>\n      <td>3727</td>\n      <td>3727</td>\n      <td>3727</td>\n      <td>3727</td>\n      <td>3727</td>\n      <td>3727</td>\n      <td>3727</td>\n      <td>3727</td>\n      <td>3727</td>\n      <td>3727</td>\n    </tr>\n    <tr>\n      <th>8</th>\n      <td>3722</td>\n      <td>3722</td>\n      <td>3722</td>\n      <td>3722</td>\n      <td>3722</td>\n      <td>3722</td>\n      <td>3722</td>\n      <td>3722</td>\n      <td>3722</td>\n      <td>3722</td>\n      <td>...</td>\n      <td>3722</td>\n      <td>3722</td>\n      <td>3722</td>\n      <td>3722</td>\n      <td>3722</td>\n      <td>3722</td>\n      <td>3722</td>\n      <td>3722</td>\n      <td>3722</td>\n      <td>3722</td>\n    </tr>\n    <tr>\n      <th>9</th>\n      <td>3601</td>\n      <td>3601</td>\n      <td>3601</td>\n      <td>3601</td>\n      <td>3601</td>\n      <td>3601</td>\n      <td>3601</td>\n      <td>3601</td>\n      <td>3601</td>\n      <td>3601</td>\n      <td>...</td>\n      <td>3601</td>\n      <td>3601</td>\n      <td>3601</td>\n      <td>3601</td>\n      <td>3601</td>\n      <td>3601</td>\n      <td>3601</td>\n      <td>3601</td>\n      <td>3601</td>\n      <td>3601</td>\n    </tr>\n    <tr>\n      <th>10</th>\n      <td>3722</td>\n      <td>3722</td>\n      <td>3722</td>\n      <td>3722</td>\n      <td>3722</td>\n      <td>3722</td>\n      <td>3722</td>\n      <td>3722</td>\n      <td>3722</td>\n      <td>3722</td>\n      <td>...</td>\n      <td>3722</td>\n      <td>3722</td>\n      <td>3722</td>\n      <td>3722</td>\n      <td>3722</td>\n      <td>3722</td>\n      <td>3722</td>\n      <td>3722</td>\n      <td>3722</td>\n      <td>3722</td>\n    </tr>\n    <tr>\n      <th>11</th>\n      <td>3600</td>\n      <td>3600</td>\n      <td>3600</td>\n      <td>3600</td>\n      <td>3600</td>\n      <td>3600</td>\n      <td>3600</td>\n      <td>3600</td>\n      <td>3600</td>\n      <td>3600</td>\n      <td>...</td>\n      <td>3600</td>\n      <td>3600</td>\n      <td>3600</td>\n      <td>3600</td>\n      <td>3600</td>\n      <td>3600</td>\n      <td>3600</td>\n      <td>3600</td>\n      <td>3600</td>\n      <td>3600</td>\n    </tr>\n    <tr>\n      <th>12</th>\n      <td>3721</td>\n      <td>3721</td>\n      <td>3721</td>\n      <td>3721</td>\n      <td>3721</td>\n      <td>3721</td>\n      <td>3721</td>\n      <td>3721</td>\n      <td>3721</td>\n      <td>3721</td>\n      <td>...</td>\n      <td>3721</td>\n      <td>3721</td>\n      <td>3721</td>\n      <td>3721</td>\n      <td>3721</td>\n      <td>3721</td>\n      <td>3721</td>\n      <td>3721</td>\n      <td>3721</td>\n      <td>3721</td>\n    </tr>\n  </tbody>\n</table>\n<p>6 rows × 28 columns</p>\n</div>"
     },
     "execution_count": 57,
     "metadata": {},
     "output_type": "execute_result"
    }
   ],
   "source": [
    "felyxotp22.groupby('month').count()"
   ],
   "metadata": {
    "collapsed": false
   }
  },
  {
   "cell_type": "code",
   "execution_count": 59,
   "outputs": [
    {
     "data": {
      "text/plain": "       carId  fuelLevel  vehicleTypeId  pricingTime  isDamaged   city   time   \nmonth                                                                          \n1       3105       3105           3105         3105       3105   3105   3105  \\\n2       2800       2800           2800         2800       2800   2800   2800   \n3       3101       3101           3101         3101       3101   3101   3101   \n4      17395      17395          17395        17395      17395  17395  17395   \n5       3102       3102           3102         3102       3102   3102   3102   \n6       3000       3000           3000         3000       3000   3000   3000   \n\n       prev_time  geometry  prev_location  ...  pt_modechain  walk_duration   \nmonth                                      ...                                \n1           3105      3105           3105  ...          3105           3105  \\\n2           2800      2800           2800  ...          2800           2800   \n3           3101      3101           3101  ...          3101           3101   \n4          17395     17395          17395  ...         17395          17395   \n5           3102      3102           3102  ...          3102           3102   \n6           3000      3000           3000  ...          3000           3000   \n\n       walk_distance  walk_modechain  bike_duration  bike_distance   \nmonth                                                                \n1               3105            3105           3105           3105  \\\n2               2800            2800           2800           2800   \n3               3101            3101           3101           3101   \n4              17395           17395          17395          17395   \n5               3102            3102           3102           3102   \n6               3000            3000           3000           3000   \n\n       bike_modechain  car_duration  car_distance  car_modechain  \nmonth                                                             \n1                3105          3105          3105           3105  \n2                2800          2800          2800           2800  \n3                3101          3101          3101           3101  \n4               17395         17395         17395          17395  \n5                3102          3102          3102           3102  \n6                3000          3000          3000           3000  \n\n[6 rows x 32 columns]",
      "text/html": "<div>\n<style scoped>\n    .dataframe tbody tr th:only-of-type {\n        vertical-align: middle;\n    }\n\n    .dataframe tbody tr th {\n        vertical-align: top;\n    }\n\n    .dataframe thead th {\n        text-align: right;\n    }\n</style>\n<table border=\"1\" class=\"dataframe\">\n  <thead>\n    <tr style=\"text-align: right;\">\n      <th></th>\n      <th>carId</th>\n      <th>fuelLevel</th>\n      <th>vehicleTypeId</th>\n      <th>pricingTime</th>\n      <th>isDamaged</th>\n      <th>city</th>\n      <th>time</th>\n      <th>prev_time</th>\n      <th>geometry</th>\n      <th>prev_location</th>\n      <th>...</th>\n      <th>pt_modechain</th>\n      <th>walk_duration</th>\n      <th>walk_distance</th>\n      <th>walk_modechain</th>\n      <th>bike_duration</th>\n      <th>bike_distance</th>\n      <th>bike_modechain</th>\n      <th>car_duration</th>\n      <th>car_distance</th>\n      <th>car_modechain</th>\n    </tr>\n    <tr>\n      <th>month</th>\n      <th></th>\n      <th></th>\n      <th></th>\n      <th></th>\n      <th></th>\n      <th></th>\n      <th></th>\n      <th></th>\n      <th></th>\n      <th></th>\n      <th></th>\n      <th></th>\n      <th></th>\n      <th></th>\n      <th></th>\n      <th></th>\n      <th></th>\n      <th></th>\n      <th></th>\n      <th></th>\n      <th></th>\n    </tr>\n  </thead>\n  <tbody>\n    <tr>\n      <th>1</th>\n      <td>3105</td>\n      <td>3105</td>\n      <td>3105</td>\n      <td>3105</td>\n      <td>3105</td>\n      <td>3105</td>\n      <td>3105</td>\n      <td>3105</td>\n      <td>3105</td>\n      <td>3105</td>\n      <td>...</td>\n      <td>3105</td>\n      <td>3105</td>\n      <td>3105</td>\n      <td>3105</td>\n      <td>3105</td>\n      <td>3105</td>\n      <td>3105</td>\n      <td>3105</td>\n      <td>3105</td>\n      <td>3105</td>\n    </tr>\n    <tr>\n      <th>2</th>\n      <td>2800</td>\n      <td>2800</td>\n      <td>2800</td>\n      <td>2800</td>\n      <td>2800</td>\n      <td>2800</td>\n      <td>2800</td>\n      <td>2800</td>\n      <td>2800</td>\n      <td>2800</td>\n      <td>...</td>\n      <td>2800</td>\n      <td>2800</td>\n      <td>2800</td>\n      <td>2800</td>\n      <td>2800</td>\n      <td>2800</td>\n      <td>2800</td>\n      <td>2800</td>\n      <td>2800</td>\n      <td>2800</td>\n    </tr>\n    <tr>\n      <th>3</th>\n      <td>3101</td>\n      <td>3101</td>\n      <td>3101</td>\n      <td>3101</td>\n      <td>3101</td>\n      <td>3101</td>\n      <td>3101</td>\n      <td>3101</td>\n      <td>3101</td>\n      <td>3101</td>\n      <td>...</td>\n      <td>3101</td>\n      <td>3101</td>\n      <td>3101</td>\n      <td>3101</td>\n      <td>3101</td>\n      <td>3101</td>\n      <td>3101</td>\n      <td>3101</td>\n      <td>3101</td>\n      <td>3101</td>\n    </tr>\n    <tr>\n      <th>4</th>\n      <td>17395</td>\n      <td>17395</td>\n      <td>17395</td>\n      <td>17395</td>\n      <td>17395</td>\n      <td>17395</td>\n      <td>17395</td>\n      <td>17395</td>\n      <td>17395</td>\n      <td>17395</td>\n      <td>...</td>\n      <td>17395</td>\n      <td>17395</td>\n      <td>17395</td>\n      <td>17395</td>\n      <td>17395</td>\n      <td>17395</td>\n      <td>17395</td>\n      <td>17395</td>\n      <td>17395</td>\n      <td>17395</td>\n    </tr>\n    <tr>\n      <th>5</th>\n      <td>3102</td>\n      <td>3102</td>\n      <td>3102</td>\n      <td>3102</td>\n      <td>3102</td>\n      <td>3102</td>\n      <td>3102</td>\n      <td>3102</td>\n      <td>3102</td>\n      <td>3102</td>\n      <td>...</td>\n      <td>3102</td>\n      <td>3102</td>\n      <td>3102</td>\n      <td>3102</td>\n      <td>3102</td>\n      <td>3102</td>\n      <td>3102</td>\n      <td>3102</td>\n      <td>3102</td>\n      <td>3102</td>\n    </tr>\n    <tr>\n      <th>6</th>\n      <td>3000</td>\n      <td>3000</td>\n      <td>3000</td>\n      <td>3000</td>\n      <td>3000</td>\n      <td>3000</td>\n      <td>3000</td>\n      <td>3000</td>\n      <td>3000</td>\n      <td>3000</td>\n      <td>...</td>\n      <td>3000</td>\n      <td>3000</td>\n      <td>3000</td>\n      <td>3000</td>\n      <td>3000</td>\n      <td>3000</td>\n      <td>3000</td>\n      <td>3000</td>\n      <td>3000</td>\n      <td>3000</td>\n    </tr>\n  </tbody>\n</table>\n<p>6 rows × 32 columns</p>\n</div>"
     },
     "execution_count": 59,
     "metadata": {},
     "output_type": "execute_result"
    }
   ],
   "source": [
    "felyxotp23.groupby('month').count()"
   ],
   "metadata": {
    "collapsed": false
   }
  },
  {
   "cell_type": "code",
   "execution_count": 60,
   "outputs": [
    {
     "data": {
      "text/plain": "       carId  fuelLevel  vehicleTypeId  pricingTime  isDamaged   city   time   \nmonth                                                                          \n1       3105       3105           3105         3105       3105   3105   3105  \\\n2       2800       2800           2800         2800       2800   2800   2800   \n3       3101       3101           3101         3101       3101   3101   3101   \n4      17395      17395          17395        17395      17395  17395  17395   \n5       3102       3102           3102         3102       3102   3102   3102   \n6       3000       3000           3000         3000       3000   3000   3000   \n7       3727       3727           3727         3727       3727   3727   3727   \n8       3722       3722           3722         3722       3722   3722   3722   \n9       3601       3601           3601         3601       3601   3601   3601   \n10      3722       3722           3722         3722       3722   3722   3722   \n11      3600       3600           3600         3600       3600   3600   3600   \n12      3721       3721           3721         3721       3721   3721   3721   \n\n       prev_time  geometry  prev_location  ...  pt_modechain  walk_duration   \nmonth                                      ...                                \n1           3105      3105           3105  ...          3105           3105  \\\n2           2800      2800           2800  ...          2800           2800   \n3           3101      3101           3101  ...          3101           3101   \n4          17395     17395          17395  ...         17395          17395   \n5           3102      3102           3102  ...          3102           3102   \n6           3000      3000           3000  ...          3000           3000   \n7           3727      3727           3727  ...          3727           3727   \n8           3722      3722           3722  ...          3722           3722   \n9           3601      3601           3601  ...          3601           3601   \n10          3722      3722           3722  ...          3722           3722   \n11          3600      3600           3600  ...          3600           3600   \n12          3721      3721           3721  ...          3721           3721   \n\n       walk_distance  walk_modechain  bike_duration  bike_distance   \nmonth                                                                \n1               3105            3105           3105           3105  \\\n2               2800            2800           2800           2800   \n3               3101            3101           3101           3101   \n4              17395           17395          17395          17395   \n5               3102            3102           3102           3102   \n6               3000            3000           3000           3000   \n7               3727            3727           3727           3727   \n8               3722            3722           3722           3722   \n9               3601            3601           3601           3601   \n10              3722            3722           3722           3722   \n11              3600            3600           3600           3600   \n12              3721            3721           3721           3721   \n\n       bike_modechain  car_duration  car_distance  car_modechain  \nmonth                                                             \n1                3105          3105          3105           3105  \n2                2800          2800          2800           2800  \n3                3101          3101          3101           3101  \n4               17395         17395         17395          17395  \n5                3102          3102          3102           3102  \n6                3000          3000          3000           3000  \n7                3727          3727          3727           3727  \n8                3722          3722          3722           3722  \n9                3601          3601          3601           3601  \n10               3722          3722          3722           3722  \n11               3600          3600          3600           3600  \n12               3721          3721          3721           3721  \n\n[12 rows x 32 columns]",
      "text/html": "<div>\n<style scoped>\n    .dataframe tbody tr th:only-of-type {\n        vertical-align: middle;\n    }\n\n    .dataframe tbody tr th {\n        vertical-align: top;\n    }\n\n    .dataframe thead th {\n        text-align: right;\n    }\n</style>\n<table border=\"1\" class=\"dataframe\">\n  <thead>\n    <tr style=\"text-align: right;\">\n      <th></th>\n      <th>carId</th>\n      <th>fuelLevel</th>\n      <th>vehicleTypeId</th>\n      <th>pricingTime</th>\n      <th>isDamaged</th>\n      <th>city</th>\n      <th>time</th>\n      <th>prev_time</th>\n      <th>geometry</th>\n      <th>prev_location</th>\n      <th>...</th>\n      <th>pt_modechain</th>\n      <th>walk_duration</th>\n      <th>walk_distance</th>\n      <th>walk_modechain</th>\n      <th>bike_duration</th>\n      <th>bike_distance</th>\n      <th>bike_modechain</th>\n      <th>car_duration</th>\n      <th>car_distance</th>\n      <th>car_modechain</th>\n    </tr>\n    <tr>\n      <th>month</th>\n      <th></th>\n      <th></th>\n      <th></th>\n      <th></th>\n      <th></th>\n      <th></th>\n      <th></th>\n      <th></th>\n      <th></th>\n      <th></th>\n      <th></th>\n      <th></th>\n      <th></th>\n      <th></th>\n      <th></th>\n      <th></th>\n      <th></th>\n      <th></th>\n      <th></th>\n      <th></th>\n      <th></th>\n    </tr>\n  </thead>\n  <tbody>\n    <tr>\n      <th>1</th>\n      <td>3105</td>\n      <td>3105</td>\n      <td>3105</td>\n      <td>3105</td>\n      <td>3105</td>\n      <td>3105</td>\n      <td>3105</td>\n      <td>3105</td>\n      <td>3105</td>\n      <td>3105</td>\n      <td>...</td>\n      <td>3105</td>\n      <td>3105</td>\n      <td>3105</td>\n      <td>3105</td>\n      <td>3105</td>\n      <td>3105</td>\n      <td>3105</td>\n      <td>3105</td>\n      <td>3105</td>\n      <td>3105</td>\n    </tr>\n    <tr>\n      <th>2</th>\n      <td>2800</td>\n      <td>2800</td>\n      <td>2800</td>\n      <td>2800</td>\n      <td>2800</td>\n      <td>2800</td>\n      <td>2800</td>\n      <td>2800</td>\n      <td>2800</td>\n      <td>2800</td>\n      <td>...</td>\n      <td>2800</td>\n      <td>2800</td>\n      <td>2800</td>\n      <td>2800</td>\n      <td>2800</td>\n      <td>2800</td>\n      <td>2800</td>\n      <td>2800</td>\n      <td>2800</td>\n      <td>2800</td>\n    </tr>\n    <tr>\n      <th>3</th>\n      <td>3101</td>\n      <td>3101</td>\n      <td>3101</td>\n      <td>3101</td>\n      <td>3101</td>\n      <td>3101</td>\n      <td>3101</td>\n      <td>3101</td>\n      <td>3101</td>\n      <td>3101</td>\n      <td>...</td>\n      <td>3101</td>\n      <td>3101</td>\n      <td>3101</td>\n      <td>3101</td>\n      <td>3101</td>\n      <td>3101</td>\n      <td>3101</td>\n      <td>3101</td>\n      <td>3101</td>\n      <td>3101</td>\n    </tr>\n    <tr>\n      <th>4</th>\n      <td>17395</td>\n      <td>17395</td>\n      <td>17395</td>\n      <td>17395</td>\n      <td>17395</td>\n      <td>17395</td>\n      <td>17395</td>\n      <td>17395</td>\n      <td>17395</td>\n      <td>17395</td>\n      <td>...</td>\n      <td>17395</td>\n      <td>17395</td>\n      <td>17395</td>\n      <td>17395</td>\n      <td>17395</td>\n      <td>17395</td>\n      <td>17395</td>\n      <td>17395</td>\n      <td>17395</td>\n      <td>17395</td>\n    </tr>\n    <tr>\n      <th>5</th>\n      <td>3102</td>\n      <td>3102</td>\n      <td>3102</td>\n      <td>3102</td>\n      <td>3102</td>\n      <td>3102</td>\n      <td>3102</td>\n      <td>3102</td>\n      <td>3102</td>\n      <td>3102</td>\n      <td>...</td>\n      <td>3102</td>\n      <td>3102</td>\n      <td>3102</td>\n      <td>3102</td>\n      <td>3102</td>\n      <td>3102</td>\n      <td>3102</td>\n      <td>3102</td>\n      <td>3102</td>\n      <td>3102</td>\n    </tr>\n    <tr>\n      <th>6</th>\n      <td>3000</td>\n      <td>3000</td>\n      <td>3000</td>\n      <td>3000</td>\n      <td>3000</td>\n      <td>3000</td>\n      <td>3000</td>\n      <td>3000</td>\n      <td>3000</td>\n      <td>3000</td>\n      <td>...</td>\n      <td>3000</td>\n      <td>3000</td>\n      <td>3000</td>\n      <td>3000</td>\n      <td>3000</td>\n      <td>3000</td>\n      <td>3000</td>\n      <td>3000</td>\n      <td>3000</td>\n      <td>3000</td>\n    </tr>\n    <tr>\n      <th>7</th>\n      <td>3727</td>\n      <td>3727</td>\n      <td>3727</td>\n      <td>3727</td>\n      <td>3727</td>\n      <td>3727</td>\n      <td>3727</td>\n      <td>3727</td>\n      <td>3727</td>\n      <td>3727</td>\n      <td>...</td>\n      <td>3727</td>\n      <td>3727</td>\n      <td>3727</td>\n      <td>3727</td>\n      <td>3727</td>\n      <td>3727</td>\n      <td>3727</td>\n      <td>3727</td>\n      <td>3727</td>\n      <td>3727</td>\n    </tr>\n    <tr>\n      <th>8</th>\n      <td>3722</td>\n      <td>3722</td>\n      <td>3722</td>\n      <td>3722</td>\n      <td>3722</td>\n      <td>3722</td>\n      <td>3722</td>\n      <td>3722</td>\n      <td>3722</td>\n      <td>3722</td>\n      <td>...</td>\n      <td>3722</td>\n      <td>3722</td>\n      <td>3722</td>\n      <td>3722</td>\n      <td>3722</td>\n      <td>3722</td>\n      <td>3722</td>\n      <td>3722</td>\n      <td>3722</td>\n      <td>3722</td>\n    </tr>\n    <tr>\n      <th>9</th>\n      <td>3601</td>\n      <td>3601</td>\n      <td>3601</td>\n      <td>3601</td>\n      <td>3601</td>\n      <td>3601</td>\n      <td>3601</td>\n      <td>3601</td>\n      <td>3601</td>\n      <td>3601</td>\n      <td>...</td>\n      <td>3601</td>\n      <td>3601</td>\n      <td>3601</td>\n      <td>3601</td>\n      <td>3601</td>\n      <td>3601</td>\n      <td>3601</td>\n      <td>3601</td>\n      <td>3601</td>\n      <td>3601</td>\n    </tr>\n    <tr>\n      <th>10</th>\n      <td>3722</td>\n      <td>3722</td>\n      <td>3722</td>\n      <td>3722</td>\n      <td>3722</td>\n      <td>3722</td>\n      <td>3722</td>\n      <td>3722</td>\n      <td>3722</td>\n      <td>3722</td>\n      <td>...</td>\n      <td>3722</td>\n      <td>3722</td>\n      <td>3722</td>\n      <td>3722</td>\n      <td>3722</td>\n      <td>3722</td>\n      <td>3722</td>\n      <td>3722</td>\n      <td>3722</td>\n      <td>3722</td>\n    </tr>\n    <tr>\n      <th>11</th>\n      <td>3600</td>\n      <td>3600</td>\n      <td>3600</td>\n      <td>3600</td>\n      <td>3600</td>\n      <td>3600</td>\n      <td>3600</td>\n      <td>3600</td>\n      <td>3600</td>\n      <td>3600</td>\n      <td>...</td>\n      <td>3600</td>\n      <td>3600</td>\n      <td>3600</td>\n      <td>3600</td>\n      <td>3600</td>\n      <td>3600</td>\n      <td>3600</td>\n      <td>3600</td>\n      <td>3600</td>\n      <td>3600</td>\n    </tr>\n    <tr>\n      <th>12</th>\n      <td>3721</td>\n      <td>3721</td>\n      <td>3721</td>\n      <td>3721</td>\n      <td>3721</td>\n      <td>3721</td>\n      <td>3721</td>\n      <td>3721</td>\n      <td>3721</td>\n      <td>3721</td>\n      <td>...</td>\n      <td>3721</td>\n      <td>3721</td>\n      <td>3721</td>\n      <td>3721</td>\n      <td>3721</td>\n      <td>3721</td>\n      <td>3721</td>\n      <td>3721</td>\n      <td>3721</td>\n      <td>3721</td>\n    </tr>\n  </tbody>\n</table>\n<p>12 rows × 32 columns</p>\n</div>"
     },
     "execution_count": 60,
     "metadata": {},
     "output_type": "execute_result"
    }
   ],
   "source": [
    "felyxotp = pd.concat([felyxotp23, felyxotp22])\n",
    "felyxotp.groupby(['month']).count()"
   ],
   "metadata": {
    "collapsed": false
   }
  },
  {
   "cell_type": "code",
   "execution_count": 61,
   "outputs": [
    {
     "data": {
      "text/plain": "                 carId  fuelLevel  vehicleTypeId  pricingTime  isDamaged   \ntripid                                                                     \n100020235312110   1000         90            109  €0.33 / min      False  \\\n10002023611341    1000         84            109  €0.33 / min      False   \n10002023621348    1000         56            109  €0.33 / min      False   \n100420231101053   1004         41             67  €0.30 / min      False   \n10042023112127    1004         91             67  €0.30 / min      False   \n\n                      city                      time   \ntripid                                                 \n100020235312110  Amsterdam 2023-05-31 21:10:05+02:00  \\\n10002023611341   Amsterdam 2023-06-11 03:41:05+02:00   \n10002023621348   Amsterdam 2023-06-02 13:48:06+02:00   \n100420231101053  Amsterdam 2023-01-10 10:53:06+01:00   \n10042023112127   Amsterdam 2023-01-12 12:07:37+01:00   \n\n                                prev_time                  geometry   \ntripid                                                                \n100020235312110 2023-05-31 20:55:05+02:00  POINT (4.85609 52.37163)  \\\n10002023611341  2023-06-11 03:24:05+02:00  POINT (4.89393 52.37891)   \n10002023621348  2023-06-02 13:35:05+02:00  POINT (4.91139 52.36204)   \n100420231101053 2023-01-10 10:31:06+01:00  POINT (4.87111 52.35553)   \n10042023112127  2023-01-12 11:49:38+01:00  POINT (4.89534 52.35146)   \n\n                            prev_location  ...              pt_modechain   \ntripid                                     ...                             \n100020235312110  POINT (4.85463 52.35017)  ...             WALK_BUS_WALK  \\\n10002023611341   POINT (4.84561 52.34019)  ...             WALK_BUS_WALK   \n10002023621348   POINT (4.89490 52.37080)  ...          WALK_SUBWAY_WALK   \n100420231101053  POINT (4.89552 52.37765)  ...            WALK_TRAM_WALK   \n10042023112127   POINT (4.85382 52.35137)  ...  WALK_TRAM_WALK_TRAM_WALK   \n\n                walk_duration walk_distance  walk_modechain  bike_duration   \ntripid                                                                       \n100020235312110        2062.0      2627.116            WALK          622.0  \\\n10002023611341         4885.0      6210.960            WALK         1467.0   \n10002023621348         1502.0      1834.903            WALK          486.0   \n100420231101053        2761.0      3413.321            WALK          864.0   \n10042023112127         2617.0      3313.670            WALK          768.0   \n\n                 bike_distance  bike_modechain  car_duration car_distance   \ntripid                                                                      \n100020235312110       2689.335         BICYCLE         637.0     4442.820  \\\n10002023611341        6401.921         BICYCLE        1169.0     9127.600   \n10002023621348        1946.833         BICYCLE         790.0     2648.568   \n100420231101053       3596.987         BICYCLE         903.0     4018.479   \n10042023112127        3374.388         BICYCLE         874.0     4231.134   \n\n                car_modechain  \ntripid                         \n100020235312110           CAR  \n10002023611341            CAR  \n10002023621348            CAR  \n100420231101053           CAR  \n10042023112127            CAR  \n\n[5 rows x 33 columns]",
      "text/html": "<div>\n<style scoped>\n    .dataframe tbody tr th:only-of-type {\n        vertical-align: middle;\n    }\n\n    .dataframe tbody tr th {\n        vertical-align: top;\n    }\n\n    .dataframe thead th {\n        text-align: right;\n    }\n</style>\n<table border=\"1\" class=\"dataframe\">\n  <thead>\n    <tr style=\"text-align: right;\">\n      <th></th>\n      <th>carId</th>\n      <th>fuelLevel</th>\n      <th>vehicleTypeId</th>\n      <th>pricingTime</th>\n      <th>isDamaged</th>\n      <th>city</th>\n      <th>time</th>\n      <th>prev_time</th>\n      <th>geometry</th>\n      <th>prev_location</th>\n      <th>...</th>\n      <th>pt_modechain</th>\n      <th>walk_duration</th>\n      <th>walk_distance</th>\n      <th>walk_modechain</th>\n      <th>bike_duration</th>\n      <th>bike_distance</th>\n      <th>bike_modechain</th>\n      <th>car_duration</th>\n      <th>car_distance</th>\n      <th>car_modechain</th>\n    </tr>\n    <tr>\n      <th>tripid</th>\n      <th></th>\n      <th></th>\n      <th></th>\n      <th></th>\n      <th></th>\n      <th></th>\n      <th></th>\n      <th></th>\n      <th></th>\n      <th></th>\n      <th></th>\n      <th></th>\n      <th></th>\n      <th></th>\n      <th></th>\n      <th></th>\n      <th></th>\n      <th></th>\n      <th></th>\n      <th></th>\n      <th></th>\n    </tr>\n  </thead>\n  <tbody>\n    <tr>\n      <th>100020235312110</th>\n      <td>1000</td>\n      <td>90</td>\n      <td>109</td>\n      <td>€0.33 / min</td>\n      <td>False</td>\n      <td>Amsterdam</td>\n      <td>2023-05-31 21:10:05+02:00</td>\n      <td>2023-05-31 20:55:05+02:00</td>\n      <td>POINT (4.85609 52.37163)</td>\n      <td>POINT (4.85463 52.35017)</td>\n      <td>...</td>\n      <td>WALK_BUS_WALK</td>\n      <td>2062.0</td>\n      <td>2627.116</td>\n      <td>WALK</td>\n      <td>622.0</td>\n      <td>2689.335</td>\n      <td>BICYCLE</td>\n      <td>637.0</td>\n      <td>4442.820</td>\n      <td>CAR</td>\n    </tr>\n    <tr>\n      <th>10002023611341</th>\n      <td>1000</td>\n      <td>84</td>\n      <td>109</td>\n      <td>€0.33 / min</td>\n      <td>False</td>\n      <td>Amsterdam</td>\n      <td>2023-06-11 03:41:05+02:00</td>\n      <td>2023-06-11 03:24:05+02:00</td>\n      <td>POINT (4.89393 52.37891)</td>\n      <td>POINT (4.84561 52.34019)</td>\n      <td>...</td>\n      <td>WALK_BUS_WALK</td>\n      <td>4885.0</td>\n      <td>6210.960</td>\n      <td>WALK</td>\n      <td>1467.0</td>\n      <td>6401.921</td>\n      <td>BICYCLE</td>\n      <td>1169.0</td>\n      <td>9127.600</td>\n      <td>CAR</td>\n    </tr>\n    <tr>\n      <th>10002023621348</th>\n      <td>1000</td>\n      <td>56</td>\n      <td>109</td>\n      <td>€0.33 / min</td>\n      <td>False</td>\n      <td>Amsterdam</td>\n      <td>2023-06-02 13:48:06+02:00</td>\n      <td>2023-06-02 13:35:05+02:00</td>\n      <td>POINT (4.91139 52.36204)</td>\n      <td>POINT (4.89490 52.37080)</td>\n      <td>...</td>\n      <td>WALK_SUBWAY_WALK</td>\n      <td>1502.0</td>\n      <td>1834.903</td>\n      <td>WALK</td>\n      <td>486.0</td>\n      <td>1946.833</td>\n      <td>BICYCLE</td>\n      <td>790.0</td>\n      <td>2648.568</td>\n      <td>CAR</td>\n    </tr>\n    <tr>\n      <th>100420231101053</th>\n      <td>1004</td>\n      <td>41</td>\n      <td>67</td>\n      <td>€0.30 / min</td>\n      <td>False</td>\n      <td>Amsterdam</td>\n      <td>2023-01-10 10:53:06+01:00</td>\n      <td>2023-01-10 10:31:06+01:00</td>\n      <td>POINT (4.87111 52.35553)</td>\n      <td>POINT (4.89552 52.37765)</td>\n      <td>...</td>\n      <td>WALK_TRAM_WALK</td>\n      <td>2761.0</td>\n      <td>3413.321</td>\n      <td>WALK</td>\n      <td>864.0</td>\n      <td>3596.987</td>\n      <td>BICYCLE</td>\n      <td>903.0</td>\n      <td>4018.479</td>\n      <td>CAR</td>\n    </tr>\n    <tr>\n      <th>10042023112127</th>\n      <td>1004</td>\n      <td>91</td>\n      <td>67</td>\n      <td>€0.30 / min</td>\n      <td>False</td>\n      <td>Amsterdam</td>\n      <td>2023-01-12 12:07:37+01:00</td>\n      <td>2023-01-12 11:49:38+01:00</td>\n      <td>POINT (4.89534 52.35146)</td>\n      <td>POINT (4.85382 52.35137)</td>\n      <td>...</td>\n      <td>WALK_TRAM_WALK_TRAM_WALK</td>\n      <td>2617.0</td>\n      <td>3313.670</td>\n      <td>WALK</td>\n      <td>768.0</td>\n      <td>3374.388</td>\n      <td>BICYCLE</td>\n      <td>874.0</td>\n      <td>4231.134</td>\n      <td>CAR</td>\n    </tr>\n  </tbody>\n</table>\n<p>5 rows × 33 columns</p>\n</div>"
     },
     "execution_count": 61,
     "metadata": {},
     "output_type": "execute_result"
    }
   ],
   "source": [
    "felyxotp = felyxotp.replace({-3: np.nan})\n",
    "felyxotp.head()"
   ],
   "metadata": {
    "collapsed": false
   }
  },
  {
   "cell_type": "code",
   "execution_count": 62,
   "outputs": [
    {
     "data": {
      "text/plain": "count    25688.000000\nmean      2826.692517\nstd       1807.749864\nmin        100.090826\n25%       1548.258847\n50%       2441.579119\n75%       3674.822167\nmax      24756.617217\nName: distance_moved, dtype: float64"
     },
     "execution_count": 62,
     "metadata": {},
     "output_type": "execute_result"
    }
   ],
   "source": [
    "felyxotp[felyxotp.isna().sum(axis = 1) > 0].distance_moved.describe()"
   ],
   "metadata": {
    "collapsed": false
   }
  },
  {
   "cell_type": "code",
   "execution_count": 63,
   "outputs": [
    {
     "data": {
      "text/plain": "count    54596.000000\nmean      2764.710621\nstd       1740.207299\nmin        100.090826\n25%       1520.285556\n50%       2384.865046\n75%       3597.417484\nmax      24756.617217\nName: distance_moved, dtype: float64"
     },
     "execution_count": 63,
     "metadata": {},
     "output_type": "execute_result"
    }
   ],
   "source": [
    "felyxotp.distance_moved.describe()"
   ],
   "metadata": {
    "collapsed": false
   }
  },
  {
   "cell_type": "code",
   "execution_count": 64,
   "outputs": [
    {
     "data": {
      "text/plain": "carId                 0\nfuelLevel             0\nvehicleTypeId         0\npricingTime           0\nisDamaged             0\ncity                  0\ntime                  0\nprev_time             0\ngeometry              0\nprev_location         0\ndistance_moved        0\ntimedelta             0\nPC4                   0\nduration              0\nyear                  0\nmonth                 0\nday                   0\nweekday           22093\norigin            22093\ndestination       22093\ndeparturetime     22093\npt_duration        1881\npt_distance        1881\npt_modechain          0\nwalk_duration       448\nwalk_distance       448\nwalk_modechain        0\nbike_duration       451\nbike_distance       451\nbike_modechain        0\ncar_duration       3907\ncar_distance       3907\ncar_modechain         0\ndtype: int64"
     },
     "execution_count": 64,
     "metadata": {},
     "output_type": "execute_result"
    }
   ],
   "source": [
    "felyxotp.isna().sum()"
   ],
   "metadata": {
    "collapsed": false
   }
  },
  {
   "cell_type": "code",
   "execution_count": 65,
   "outputs": [
    {
     "data": {
      "text/plain": "tripid\n100020235312110    4.0\n10002023611341     1.0\n10002023621348     6.0\n100420231101053    3.0\n10042023112127     5.0\n                  ... \n9982022811649      NaN\n9982022831416      NaN\n998202288144       NaN\n998202288187       NaN\n998202294180       NaN\nName: weekday, Length: 54596, dtype: float64"
     },
     "execution_count": 65,
     "metadata": {},
     "output_type": "execute_result"
    }
   ],
   "source": [
    "felyxotp.weekday"
   ],
   "metadata": {
    "collapsed": false
   }
  },
  {
   "cell_type": "code",
   "execution_count": 66,
   "outputs": [],
   "source": [
    "# felyxotp = felyxotp.dropna()"
   ],
   "metadata": {
    "collapsed": false
   }
  },
  {
   "cell_type": "code",
   "execution_count": 67,
   "outputs": [],
   "source": [
    "def add_time(df):\n",
    "    df['seconds'] = df.prev_time.dt.second + 60*(df.prev_time.dt.minute) +3600*(df.prev_time.dt.hour)\n",
    "    seconds_in_day = 24*60*60\n",
    "    df['secondsangle'] = (2*np.pi)* (df['seconds']/seconds_in_day)\n",
    "    df['sin_time'] = np.sin((2*np.pi)*(df.secondsangle))\n",
    "    df['cos_time'] = np.cos((2*np.pi)*(df.secondsangle))\n",
    "    df = df.drop(['seconds', 'secondsangle'], axis = 1)\n",
    "    return df"
   ],
   "metadata": {
    "collapsed": false
   }
  },
  {
   "cell_type": "code",
   "execution_count": 68,
   "outputs": [],
   "source": [
    "felyxotp['weekdag'] = felyxotp.prev_time.dt.dayofweek\n",
    "import holidays\n",
    "hols = holidays.NL()\n",
    "felyxotp['feestdag'] = felyxotp['prev_time'].apply(lambda x: x in(hols)).astype(int)\n",
    "felyxotp.weekdag = felyxotp.weekdag.replace({0:'Maandag', 1:'Dinsdag', 2:'Woensdag', 3:'Donderdag', 4:'Vrijdag', 5:'Zaterdag', 6:'Zondag'})"
   ],
   "metadata": {
    "collapsed": false
   }
  },
  {
   "cell_type": "code",
   "execution_count": 69,
   "outputs": [],
   "source": [
    "if city == 'AADO':\n",
    "    felyxotp = felyxotp.join(\n",
    "        gpd.GeoDataFrame(\n",
    "            felyxotp[['prev_location']], geometry=felyxotp[['prev_location']].prev_location,\n",
    "            crs='EPSG:4326'\n",
    "        ).drop('prev_location', axis=1).sjoin(PCs.reset_index().rename(columns={'PC4': 'vertpc'})).vertpc\n",
    "    )\n",
    "    felyxotp = felyxotp.join(\n",
    "        gpd.GeoDataFrame(\n",
    "            felyxotp, geometry=felyxotp.geometry,\n",
    "            crs='EPSG:4326'\n",
    "        ).sjoin(PCs.reset_index().rename(columns={'PC4': 'aankpc'})).aankpc\n",
    "    )"
   ],
   "metadata": {
    "collapsed": false
   }
  },
  {
   "cell_type": "code",
   "execution_count": 70,
   "outputs": [],
   "source": [
    "# if city == 'Amsterdam':\n",
    "#     felyxotp = felyxotp.join(\n",
    "#         gpd.GeoDataFrame(\n",
    "#             felyxotp[['prev_location']], geometry=felyxotp[['prev_location']].prev_location,\n",
    "#             crs='EPSG:4326'\n",
    "#         ).drop('prev_location', axis=1).sjoin(PCs.rename(columns={'Postcode4': 'vertpc'})).vertpc\n",
    "#     )\n",
    "#     felyxotp = felyxotp.join(\n",
    "#         gpd.GeoDataFrame(\n",
    "#             felyxotp, geometry=felyxotp.geometry,\n",
    "#             crs='EPSG:4326'\n",
    "#         ).sjoin(PCs.rename(columns={'Postcode4': 'aankpc'})).aankpc\n",
    "#     )\n",
    "# if city == 'Rotterdam':\n",
    "#     # PCs = gpd.read_file(os.path.join('..', 'PublicGeoJsons', 'NetherlandsPC4.geojson'))\n",
    "#     felyxotp = felyxotp.join(\n",
    "#         gpd.GeoDataFrame(\n",
    "#             felyxotp[['prev_location']], geometry=felyxotp[['prev_location']].prev_location,\n",
    "#             crs='EPSG:4326'\n",
    "#         ).drop('prev_location', axis=1).sjoin(PCs.rename(columns={'pc4_code': 'vertpc'})).vertpc\n",
    "#     )\n",
    "#     felyxotp = felyxotp.join(\n",
    "#         gpd.GeoDataFrame(\n",
    "#             felyxotp, geometry=felyxotp.geometry,\n",
    "#             crs='EPSG:4326'\n",
    "#         ).sjoin(PCs.rename(columns={'pc4_code': 'aankpc'})).aankpc\n",
    "#     )"
   ],
   "metadata": {
    "collapsed": false
   }
  },
  {
   "cell_type": "code",
   "execution_count": 71,
   "outputs": [],
   "source": [
    "# felyxotp['oprijbewijsau'] = [1] * len(felyxotp)\n",
    "# felyxotp['oprijbewijsmo'] = [1] * len(felyxotp)\n",
    "felyxotp['CanFelyx'] = [1] * len(felyxotp)"
   ],
   "metadata": {
    "collapsed": false
   }
  },
  {
   "cell_type": "code",
   "execution_count": 72,
   "outputs": [],
   "source": [
    "def add_PC4_data(felyxotp):\n",
    "    felyxotp = felyxotp.merge(pcdata.add_prefix('aank '), left_on = 'aankpc', right_on = 'aank pc4')\n",
    "    felyxotp = felyxotp.merge(pcdata.add_prefix('vert '), left_on = 'vertpc', right_on = 'vert pc4')\n",
    "    felyxotp = felyxotp.drop(['aank pc4', 'vert pc4'], axis = 1)\n",
    "    return felyxotp"
   ],
   "metadata": {
    "collapsed": false
   }
  },
  {
   "cell_type": "code",
   "execution_count": 73,
   "outputs": [
    {
     "data": {
      "text/plain": "tripid\n1000202210111720     540.0\n1000202210131411     660.0\n100020221015036      540.0\n1000202210161447    1140.0\n1000202210191613     780.0\n                     ...  \n9982023621729        480.0\n9982023626055       1680.0\n99820236271213      1080.0\n99820236281754      1440.0\n9982023651238        720.0\nName: duration, Length: 54960, dtype: float64"
     },
     "execution_count": 73,
     "metadata": {},
     "output_type": "execute_result"
    }
   ],
   "source": [
    "felyxotp.duration = round(felyxotp.duration / 60) * 60\n",
    "felyxotp.duration"
   ],
   "metadata": {
    "collapsed": false
   }
  },
  {
   "cell_type": "code",
   "execution_count": 74,
   "outputs": [],
   "source": [
    "# pd.read_pickle('../Odin/OdinWrangled/Odin2018-2021AADO').odin_duration.unique()"
   ],
   "metadata": {
    "collapsed": false
   }
  },
  {
   "cell_type": "code",
   "execution_count": 77,
   "outputs": [
    {
     "data": {
      "text/plain": "                  carId  fuelLevel  vehicleTypeId  pricingTime  isDamaged   \ntripid                                                                      \n1000202210111720   1000         99             67  €0.30 / min      False  \\\n1000202210131411   1000         30             67  €0.30 / min      False   \n100020221015036    1000         49            102  €0.30 / min      False   \n1000202210161447   1000         44            102  €0.30 / min      False   \n1000202210191613   1000         55            102  €0.30 / min      False   \n...                 ...        ...            ...          ...        ...   \n9982023621729       998         49            109  €0.33 / min      False   \n9982023626055       998         51            109  €0.33 / min      False   \n99820236271213      998         90            109  €0.33 / min      False   \n99820236281754      998         63            109  €0.33 / min      False   \n9982023651238       998         30            109  €0.33 / min      False   \n\n                       city                      time   \ntripid                                                  \n1000202210111720  Amsterdam 2022-10-11 17:20:04+02:00  \\\n1000202210131411  Amsterdam 2022-10-13 14:11:04+02:00   \n100020221015036   Amsterdam 2022-10-15 00:36:04+02:00   \n1000202210161447  Amsterdam 2022-10-16 14:47:04+02:00   \n1000202210191613  Amsterdam 2022-10-19 16:13:04+02:00   \n...                     ...                       ...   \n9982023621729     Amsterdam 2023-06-21 07:29:05+02:00   \n9982023626055     Amsterdam 2023-06-26 00:55:05+02:00   \n99820236271213    Amsterdam 2023-06-27 12:13:05+02:00   \n99820236281754    Amsterdam 2023-06-28 17:54:05+02:00   \n9982023651238     Amsterdam 2023-06-05 12:38:06+02:00   \n\n                                 prev_time                  geometry   \ntripid                                                                 \n1000202210111720 2022-10-11 17:11:04+02:00  POINT (4.89474 52.34317)  \\\n1000202210131411 2022-10-13 14:00:04+02:00  POINT (4.88406 52.36556)   \n100020221015036  2022-10-15 00:27:04+02:00  POINT (4.88661 52.36151)   \n1000202210161447 2022-10-16 14:28:04+02:00  POINT (4.84947 52.36956)   \n1000202210191613 2022-10-19 16:00:04+02:00  POINT (4.88615 52.36495)   \n...                                    ...                       ...   \n9982023621729    2023-06-21 07:21:05+02:00  POINT (4.89086 52.34438)   \n9982023626055    2023-06-26 00:27:05+02:00  POINT (4.89307 52.37656)   \n99820236271213   2023-06-27 11:55:05+02:00  POINT (4.93275 52.36241)   \n99820236281754   2023-06-28 17:30:05+02:00  POINT (4.94154 52.37298)   \n9982023651238    2023-06-05 12:26:06+02:00  POINT (4.86833 52.33813)   \n\n                             prev_location  ...  bike_distance bike_modechain   \ntripid                                      ...                                 \n1000202210111720  POINT (4.87797 52.34705)  ...       1430.373        BICYCLE  \\\n1000202210131411  POINT (4.88126 52.37786)  ...       1733.690        BICYCLE   \n100020221015036   POINT (4.89745 52.36984)  ...       1377.731        BICYCLE   \n1000202210161447  POINT (4.88822 52.37026)  ...       3093.306        BICYCLE   \n1000202210191613  POINT (4.87439 52.38635)  ...       3049.808        BICYCLE   \n...                                    ...  ...            ...            ...   \n9982023621729     POINT (4.89833 52.34527)  ...        881.192   BICYCLE_WALK   \n9982023626055     POINT (4.82190 52.38111)  ...       5729.407        BICYCLE   \n99820236271213    POINT (4.88619 52.38953)  ...       5188.410        BICYCLE   \n99820236281754    POINT (4.86045 52.33540)  ...       8298.308        BICYCLE   \n9982023651238     POINT (4.85237 52.35471)  ...       2610.152        BICYCLE   \n\n                 car_duration  car_distance          car_modechain    weekdag   \ntripid                                                                          \n1000202210111720        410.0      1983.710                    CAR    Dinsdag  \\\n1000202210131411        582.0      2135.634                    CAR  Donderdag   \n100020221015036           NaN           NaN  error: PATH_NOT_FOUND   Zaterdag   \n1000202210161447        954.0      3969.177                    CAR     Zondag   \n1000202210191613        894.0      4193.492                    CAR   Woensdag   \n...                       ...           ...                    ...        ...   \n9982023621729           239.0      1163.039                    CAR   Woensdag   \n9982023626055          1121.0      6583.493                    CAR    Maandag   \n99820236271213         1231.0      6925.314                    CAR    Dinsdag   \n99820236281754         1050.0     14797.438                    CAR   Woensdag   \n9982023651238           847.0      3390.679                    CAR    Maandag   \n\n                  feestdag  vertpc aankpc CanFelyx  \ntripid                                              \n1000202210111720         0    1077   1078        1  \n1000202210131411         0    1015   1017        1  \n100020221015036          0    1012   1017        1  \n1000202210161447         0    1012   1057        1  \n1000202210191613         0    1014   1017        1  \n...                    ...     ...    ...      ...  \n9982023621729            0    1078   1078        1  \n9982023626055            0    1063   1012        1  \n99820236271213           0    1013   1094        1  \n99820236281754           0    1081   1019        1  \n9982023651238            0    1058   1081        1  \n\n[54960 rows x 38 columns]",
      "text/html": "<div>\n<style scoped>\n    .dataframe tbody tr th:only-of-type {\n        vertical-align: middle;\n    }\n\n    .dataframe tbody tr th {\n        vertical-align: top;\n    }\n\n    .dataframe thead th {\n        text-align: right;\n    }\n</style>\n<table border=\"1\" class=\"dataframe\">\n  <thead>\n    <tr style=\"text-align: right;\">\n      <th></th>\n      <th>carId</th>\n      <th>fuelLevel</th>\n      <th>vehicleTypeId</th>\n      <th>pricingTime</th>\n      <th>isDamaged</th>\n      <th>city</th>\n      <th>time</th>\n      <th>prev_time</th>\n      <th>geometry</th>\n      <th>prev_location</th>\n      <th>...</th>\n      <th>bike_distance</th>\n      <th>bike_modechain</th>\n      <th>car_duration</th>\n      <th>car_distance</th>\n      <th>car_modechain</th>\n      <th>weekdag</th>\n      <th>feestdag</th>\n      <th>vertpc</th>\n      <th>aankpc</th>\n      <th>CanFelyx</th>\n    </tr>\n    <tr>\n      <th>tripid</th>\n      <th></th>\n      <th></th>\n      <th></th>\n      <th></th>\n      <th></th>\n      <th></th>\n      <th></th>\n      <th></th>\n      <th></th>\n      <th></th>\n      <th></th>\n      <th></th>\n      <th></th>\n      <th></th>\n      <th></th>\n      <th></th>\n      <th></th>\n      <th></th>\n      <th></th>\n      <th></th>\n      <th></th>\n    </tr>\n  </thead>\n  <tbody>\n    <tr>\n      <th>1000202210111720</th>\n      <td>1000</td>\n      <td>99</td>\n      <td>67</td>\n      <td>€0.30 / min</td>\n      <td>False</td>\n      <td>Amsterdam</td>\n      <td>2022-10-11 17:20:04+02:00</td>\n      <td>2022-10-11 17:11:04+02:00</td>\n      <td>POINT (4.89474 52.34317)</td>\n      <td>POINT (4.87797 52.34705)</td>\n      <td>...</td>\n      <td>1430.373</td>\n      <td>BICYCLE</td>\n      <td>410.0</td>\n      <td>1983.710</td>\n      <td>CAR</td>\n      <td>Dinsdag</td>\n      <td>0</td>\n      <td>1077</td>\n      <td>1078</td>\n      <td>1</td>\n    </tr>\n    <tr>\n      <th>1000202210131411</th>\n      <td>1000</td>\n      <td>30</td>\n      <td>67</td>\n      <td>€0.30 / min</td>\n      <td>False</td>\n      <td>Amsterdam</td>\n      <td>2022-10-13 14:11:04+02:00</td>\n      <td>2022-10-13 14:00:04+02:00</td>\n      <td>POINT (4.88406 52.36556)</td>\n      <td>POINT (4.88126 52.37786)</td>\n      <td>...</td>\n      <td>1733.690</td>\n      <td>BICYCLE</td>\n      <td>582.0</td>\n      <td>2135.634</td>\n      <td>CAR</td>\n      <td>Donderdag</td>\n      <td>0</td>\n      <td>1015</td>\n      <td>1017</td>\n      <td>1</td>\n    </tr>\n    <tr>\n      <th>100020221015036</th>\n      <td>1000</td>\n      <td>49</td>\n      <td>102</td>\n      <td>€0.30 / min</td>\n      <td>False</td>\n      <td>Amsterdam</td>\n      <td>2022-10-15 00:36:04+02:00</td>\n      <td>2022-10-15 00:27:04+02:00</td>\n      <td>POINT (4.88661 52.36151)</td>\n      <td>POINT (4.89745 52.36984)</td>\n      <td>...</td>\n      <td>1377.731</td>\n      <td>BICYCLE</td>\n      <td>NaN</td>\n      <td>NaN</td>\n      <td>error: PATH_NOT_FOUND</td>\n      <td>Zaterdag</td>\n      <td>0</td>\n      <td>1012</td>\n      <td>1017</td>\n      <td>1</td>\n    </tr>\n    <tr>\n      <th>1000202210161447</th>\n      <td>1000</td>\n      <td>44</td>\n      <td>102</td>\n      <td>€0.30 / min</td>\n      <td>False</td>\n      <td>Amsterdam</td>\n      <td>2022-10-16 14:47:04+02:00</td>\n      <td>2022-10-16 14:28:04+02:00</td>\n      <td>POINT (4.84947 52.36956)</td>\n      <td>POINT (4.88822 52.37026)</td>\n      <td>...</td>\n      <td>3093.306</td>\n      <td>BICYCLE</td>\n      <td>954.0</td>\n      <td>3969.177</td>\n      <td>CAR</td>\n      <td>Zondag</td>\n      <td>0</td>\n      <td>1012</td>\n      <td>1057</td>\n      <td>1</td>\n    </tr>\n    <tr>\n      <th>1000202210191613</th>\n      <td>1000</td>\n      <td>55</td>\n      <td>102</td>\n      <td>€0.30 / min</td>\n      <td>False</td>\n      <td>Amsterdam</td>\n      <td>2022-10-19 16:13:04+02:00</td>\n      <td>2022-10-19 16:00:04+02:00</td>\n      <td>POINT (4.88615 52.36495)</td>\n      <td>POINT (4.87439 52.38635)</td>\n      <td>...</td>\n      <td>3049.808</td>\n      <td>BICYCLE</td>\n      <td>894.0</td>\n      <td>4193.492</td>\n      <td>CAR</td>\n      <td>Woensdag</td>\n      <td>0</td>\n      <td>1014</td>\n      <td>1017</td>\n      <td>1</td>\n    </tr>\n    <tr>\n      <th>...</th>\n      <td>...</td>\n      <td>...</td>\n      <td>...</td>\n      <td>...</td>\n      <td>...</td>\n      <td>...</td>\n      <td>...</td>\n      <td>...</td>\n      <td>...</td>\n      <td>...</td>\n      <td>...</td>\n      <td>...</td>\n      <td>...</td>\n      <td>...</td>\n      <td>...</td>\n      <td>...</td>\n      <td>...</td>\n      <td>...</td>\n      <td>...</td>\n      <td>...</td>\n      <td>...</td>\n    </tr>\n    <tr>\n      <th>9982023621729</th>\n      <td>998</td>\n      <td>49</td>\n      <td>109</td>\n      <td>€0.33 / min</td>\n      <td>False</td>\n      <td>Amsterdam</td>\n      <td>2023-06-21 07:29:05+02:00</td>\n      <td>2023-06-21 07:21:05+02:00</td>\n      <td>POINT (4.89086 52.34438)</td>\n      <td>POINT (4.89833 52.34527)</td>\n      <td>...</td>\n      <td>881.192</td>\n      <td>BICYCLE_WALK</td>\n      <td>239.0</td>\n      <td>1163.039</td>\n      <td>CAR</td>\n      <td>Woensdag</td>\n      <td>0</td>\n      <td>1078</td>\n      <td>1078</td>\n      <td>1</td>\n    </tr>\n    <tr>\n      <th>9982023626055</th>\n      <td>998</td>\n      <td>51</td>\n      <td>109</td>\n      <td>€0.33 / min</td>\n      <td>False</td>\n      <td>Amsterdam</td>\n      <td>2023-06-26 00:55:05+02:00</td>\n      <td>2023-06-26 00:27:05+02:00</td>\n      <td>POINT (4.89307 52.37656)</td>\n      <td>POINT (4.82190 52.38111)</td>\n      <td>...</td>\n      <td>5729.407</td>\n      <td>BICYCLE</td>\n      <td>1121.0</td>\n      <td>6583.493</td>\n      <td>CAR</td>\n      <td>Maandag</td>\n      <td>0</td>\n      <td>1063</td>\n      <td>1012</td>\n      <td>1</td>\n    </tr>\n    <tr>\n      <th>99820236271213</th>\n      <td>998</td>\n      <td>90</td>\n      <td>109</td>\n      <td>€0.33 / min</td>\n      <td>False</td>\n      <td>Amsterdam</td>\n      <td>2023-06-27 12:13:05+02:00</td>\n      <td>2023-06-27 11:55:05+02:00</td>\n      <td>POINT (4.93275 52.36241)</td>\n      <td>POINT (4.88619 52.38953)</td>\n      <td>...</td>\n      <td>5188.410</td>\n      <td>BICYCLE</td>\n      <td>1231.0</td>\n      <td>6925.314</td>\n      <td>CAR</td>\n      <td>Dinsdag</td>\n      <td>0</td>\n      <td>1013</td>\n      <td>1094</td>\n      <td>1</td>\n    </tr>\n    <tr>\n      <th>99820236281754</th>\n      <td>998</td>\n      <td>63</td>\n      <td>109</td>\n      <td>€0.33 / min</td>\n      <td>False</td>\n      <td>Amsterdam</td>\n      <td>2023-06-28 17:54:05+02:00</td>\n      <td>2023-06-28 17:30:05+02:00</td>\n      <td>POINT (4.94154 52.37298)</td>\n      <td>POINT (4.86045 52.33540)</td>\n      <td>...</td>\n      <td>8298.308</td>\n      <td>BICYCLE</td>\n      <td>1050.0</td>\n      <td>14797.438</td>\n      <td>CAR</td>\n      <td>Woensdag</td>\n      <td>0</td>\n      <td>1081</td>\n      <td>1019</td>\n      <td>1</td>\n    </tr>\n    <tr>\n      <th>9982023651238</th>\n      <td>998</td>\n      <td>30</td>\n      <td>109</td>\n      <td>€0.33 / min</td>\n      <td>False</td>\n      <td>Amsterdam</td>\n      <td>2023-06-05 12:38:06+02:00</td>\n      <td>2023-06-05 12:26:06+02:00</td>\n      <td>POINT (4.86833 52.33813)</td>\n      <td>POINT (4.85237 52.35471)</td>\n      <td>...</td>\n      <td>2610.152</td>\n      <td>BICYCLE</td>\n      <td>847.0</td>\n      <td>3390.679</td>\n      <td>CAR</td>\n      <td>Maandag</td>\n      <td>0</td>\n      <td>1058</td>\n      <td>1081</td>\n      <td>1</td>\n    </tr>\n  </tbody>\n</table>\n<p>54960 rows × 38 columns</p>\n</div>"
     },
     "execution_count": 77,
     "metadata": {},
     "output_type": "execute_result"
    }
   ],
   "source": [
    "felyxotp#.head()"
   ],
   "metadata": {
    "collapsed": false
   }
  },
  {
   "cell_type": "code",
   "execution_count": 78,
   "outputs": [
    {
     "data": {
      "text/plain": "                  carId  fuelLevel  vehicleTypeId  pricingTime  isDamaged   \ntripid                                                                      \n1000202210111720   1000         99             67  €0.30 / min      False  \\\n102320221011032    1023         47             67  €0.30 / min      False   \n102320221012012    1023         91             67  €0.30 / min      False   \n1063202210112130   1063         23             67  €0.30 / min       True   \n1110202210111930   1110         31             67  €0.30 / min      False   \n\n                       city                      time   \ntripid                                                  \n1000202210111720  Amsterdam 2022-10-11 17:20:04+02:00  \\\n102320221011032   Amsterdam 2022-10-11 00:32:36+02:00   \n102320221012012   Amsterdam 2022-10-12 00:12:04+02:00   \n1063202210112130  Amsterdam 2022-10-11 21:30:04+02:00   \n1110202210111930  Amsterdam 2022-10-11 19:30:04+02:00   \n\n                                 prev_time                  geometry   \ntripid                                                                 \n1000202210111720 2022-10-11 17:11:04+02:00  POINT (4.89474 52.34317)  \\\n102320221011032  2022-10-11 00:21:36+02:00  POINT (4.83369 52.36419)   \n102320221012012  2022-10-11 23:59:04+02:00  POINT (4.89592 52.36706)   \n1063202210112130 2022-10-11 21:17:04+02:00  POINT (4.93810 52.37391)   \n1110202210111930 2022-10-11 19:20:04+02:00  POINT (4.86792 52.33483)   \n\n                             prev_location  ...  weekdag feestdag vertpc   \ntripid                                      ...                            \n1000202210111720  POINT (4.87797 52.34705)  ...  Dinsdag        0   1077  \\\n102320221011032   POINT (4.80294 52.35990)  ...  Dinsdag        0   1068   \n102320221012012   POINT (4.82686 52.37369)  ...  Dinsdag        0   1064   \n1063202210112130  POINT (4.88626 52.37950)  ...  Dinsdag        0   1015   \n1110202210111930  POINT (4.87126 52.32081)  ...  Dinsdag        0   1183   \n\n                  aankpc  CanFelyx  windspeed  temp  feelslike precip   \ntripid                                                                  \n1000202210111720    1078         1       15.7  10.1       10.0    0.0  \\\n102320221011032     1064         1       15.7  10.1       10.0    0.0   \n102320221012012     1017         1       15.7  10.1       10.0    0.0   \n1063202210112130    1019         1       15.7  10.1       10.0    0.0   \n1110202210111930    1081         1       15.7  10.1       10.0    0.0   \n\n                 precipcover  \ntripid                        \n1000202210111720         0.0  \n102320221011032          0.0  \n102320221012012          0.0  \n1063202210112130         0.0  \n1110202210111930         0.0  \n\n[5 rows x 43 columns]",
      "text/html": "<div>\n<style scoped>\n    .dataframe tbody tr th:only-of-type {\n        vertical-align: middle;\n    }\n\n    .dataframe tbody tr th {\n        vertical-align: top;\n    }\n\n    .dataframe thead th {\n        text-align: right;\n    }\n</style>\n<table border=\"1\" class=\"dataframe\">\n  <thead>\n    <tr style=\"text-align: right;\">\n      <th></th>\n      <th>carId</th>\n      <th>fuelLevel</th>\n      <th>vehicleTypeId</th>\n      <th>pricingTime</th>\n      <th>isDamaged</th>\n      <th>city</th>\n      <th>time</th>\n      <th>prev_time</th>\n      <th>geometry</th>\n      <th>prev_location</th>\n      <th>...</th>\n      <th>weekdag</th>\n      <th>feestdag</th>\n      <th>vertpc</th>\n      <th>aankpc</th>\n      <th>CanFelyx</th>\n      <th>windspeed</th>\n      <th>temp</th>\n      <th>feelslike</th>\n      <th>precip</th>\n      <th>precipcover</th>\n    </tr>\n    <tr>\n      <th>tripid</th>\n      <th></th>\n      <th></th>\n      <th></th>\n      <th></th>\n      <th></th>\n      <th></th>\n      <th></th>\n      <th></th>\n      <th></th>\n      <th></th>\n      <th></th>\n      <th></th>\n      <th></th>\n      <th></th>\n      <th></th>\n      <th></th>\n      <th></th>\n      <th></th>\n      <th></th>\n      <th></th>\n      <th></th>\n    </tr>\n  </thead>\n  <tbody>\n    <tr>\n      <th>1000202210111720</th>\n      <td>1000</td>\n      <td>99</td>\n      <td>67</td>\n      <td>€0.30 / min</td>\n      <td>False</td>\n      <td>Amsterdam</td>\n      <td>2022-10-11 17:20:04+02:00</td>\n      <td>2022-10-11 17:11:04+02:00</td>\n      <td>POINT (4.89474 52.34317)</td>\n      <td>POINT (4.87797 52.34705)</td>\n      <td>...</td>\n      <td>Dinsdag</td>\n      <td>0</td>\n      <td>1077</td>\n      <td>1078</td>\n      <td>1</td>\n      <td>15.7</td>\n      <td>10.1</td>\n      <td>10.0</td>\n      <td>0.0</td>\n      <td>0.0</td>\n    </tr>\n    <tr>\n      <th>102320221011032</th>\n      <td>1023</td>\n      <td>47</td>\n      <td>67</td>\n      <td>€0.30 / min</td>\n      <td>False</td>\n      <td>Amsterdam</td>\n      <td>2022-10-11 00:32:36+02:00</td>\n      <td>2022-10-11 00:21:36+02:00</td>\n      <td>POINT (4.83369 52.36419)</td>\n      <td>POINT (4.80294 52.35990)</td>\n      <td>...</td>\n      <td>Dinsdag</td>\n      <td>0</td>\n      <td>1068</td>\n      <td>1064</td>\n      <td>1</td>\n      <td>15.7</td>\n      <td>10.1</td>\n      <td>10.0</td>\n      <td>0.0</td>\n      <td>0.0</td>\n    </tr>\n    <tr>\n      <th>102320221012012</th>\n      <td>1023</td>\n      <td>91</td>\n      <td>67</td>\n      <td>€0.30 / min</td>\n      <td>False</td>\n      <td>Amsterdam</td>\n      <td>2022-10-12 00:12:04+02:00</td>\n      <td>2022-10-11 23:59:04+02:00</td>\n      <td>POINT (4.89592 52.36706)</td>\n      <td>POINT (4.82686 52.37369)</td>\n      <td>...</td>\n      <td>Dinsdag</td>\n      <td>0</td>\n      <td>1064</td>\n      <td>1017</td>\n      <td>1</td>\n      <td>15.7</td>\n      <td>10.1</td>\n      <td>10.0</td>\n      <td>0.0</td>\n      <td>0.0</td>\n    </tr>\n    <tr>\n      <th>1063202210112130</th>\n      <td>1063</td>\n      <td>23</td>\n      <td>67</td>\n      <td>€0.30 / min</td>\n      <td>True</td>\n      <td>Amsterdam</td>\n      <td>2022-10-11 21:30:04+02:00</td>\n      <td>2022-10-11 21:17:04+02:00</td>\n      <td>POINT (4.93810 52.37391)</td>\n      <td>POINT (4.88626 52.37950)</td>\n      <td>...</td>\n      <td>Dinsdag</td>\n      <td>0</td>\n      <td>1015</td>\n      <td>1019</td>\n      <td>1</td>\n      <td>15.7</td>\n      <td>10.1</td>\n      <td>10.0</td>\n      <td>0.0</td>\n      <td>0.0</td>\n    </tr>\n    <tr>\n      <th>1110202210111930</th>\n      <td>1110</td>\n      <td>31</td>\n      <td>67</td>\n      <td>€0.30 / min</td>\n      <td>False</td>\n      <td>Amsterdam</td>\n      <td>2022-10-11 19:30:04+02:00</td>\n      <td>2022-10-11 19:20:04+02:00</td>\n      <td>POINT (4.86792 52.33483)</td>\n      <td>POINT (4.87126 52.32081)</td>\n      <td>...</td>\n      <td>Dinsdag</td>\n      <td>0</td>\n      <td>1183</td>\n      <td>1081</td>\n      <td>1</td>\n      <td>15.7</td>\n      <td>10.1</td>\n      <td>10.0</td>\n      <td>0.0</td>\n      <td>0.0</td>\n    </tr>\n  </tbody>\n</table>\n<p>5 rows × 43 columns</p>\n</div>"
     },
     "execution_count": 78,
     "metadata": {},
     "output_type": "execute_result"
    }
   ],
   "source": [
    "def getmeteo():\n",
    "    meteo19 = pd.read_csv('../Weather/Daily/Amsterdam2019Daily.csv')\n",
    "    meteo18 = pd.read_csv('../Weather/Daily/Amsterdam2018Daily.csv')\n",
    "    meteo22 = pd.read_csv('../Weather/Daily/Amsterdam 2022Daily.csv')\n",
    "    meteo23 = pd.read_csv('../Weather/Daily/Amsterdam2023Daily.csv')\n",
    "    meteo = pd.concat([meteo18, meteo19, meteo22, meteo23]).drop_duplicates(subset='datetime')\n",
    "    meteo.datetime = pd.to_datetime(meteo.datetime)\n",
    "    meteo['date'] = meteo['datetime'].dt.date\n",
    "    return meteo\n",
    "def joinmeteo(df, relcols=['windspeed', 'temp', 'feelslike', 'precip', 'precipcover']):\n",
    "    df['date'] = df['prev_time'].dt.date\n",
    "    meteo = getmeteo()\n",
    "    meteojoined = df.reset_index().merge(meteo[['date'] + relcols], on=['date'])\n",
    "    meteojoined = meteojoined.drop('date', axis = 1)\n",
    "    meteojoined = meteojoined.set_index('tripid')\n",
    "    return meteojoined\n",
    "felyxotp = joinmeteo(felyxotp)\n",
    "felyxotp.head()"
   ],
   "metadata": {
    "collapsed": false
   }
  },
  {
   "cell_type": "code",
   "execution_count": 79,
   "outputs": [
    {
     "data": {
      "text/plain": "                  carId  fuelLevel  vehicleTypeId  pricingTime  isDamaged   \ntripid                                                                      \n1000202210111720   1000         99             67  €0.30 / min      False  \\\n7022202210111926   7022         70             67  €0.30 / min      False   \n8121202210111212   8121         83             67  €0.30 / min      False   \n2047202210131915   2047         59             67  €0.30 / min      False   \n20832022101358     2083         37             67  €0.30 / min      False   \n...                 ...        ...            ...          ...        ...   \n400520236222152    4005         37            109  €0.33 / min      False   \n64092023691846     6409         30            109  €0.33 / min      False   \n20582023324125     2058         19            109  €0.33 / min      False   \n879202321456        879         34             67  €0.30 / min      False   \n3603202210251824   3603         58             67  €0.30 / min      False   \n\n                       city                      time   \ntripid                                                  \n1000202210111720  Amsterdam 2022-10-11 17:20:04+02:00  \\\n7022202210111926  Amsterdam 2022-10-11 19:26:04+02:00   \n8121202210111212  Amsterdam 2022-10-11 12:12:37+02:00   \n2047202210131915  Amsterdam 2022-10-13 19:15:04+02:00   \n20832022101358    Amsterdam 2022-10-13 05:08:04+02:00   \n...                     ...                       ...   \n400520236222152   Amsterdam 2023-06-22 21:52:05+02:00   \n64092023691846    Amsterdam 2023-06-09 18:46:05+02:00   \n20582023324125    Amsterdam 2023-03-24 01:25:06+01:00   \n879202321456      Amsterdam 2023-02-01 04:56:05+01:00   \n3603202210251824  Amsterdam 2022-10-25 18:24:04+02:00   \n\n                                 prev_time                  geometry   \ntripid                                                                 \n1000202210111720 2022-10-11 17:11:04+02:00  POINT (4.89474 52.34317)  \\\n7022202210111926 2022-10-11 19:10:04+02:00  POINT (4.90448 52.34792)   \n8121202210111212 2022-10-11 11:52:04+02:00  POINT (4.89494 52.34514)   \n2047202210131915 2022-10-13 18:58:04+02:00  POINT (4.89062 52.34081)   \n20832022101358   2022-10-13 04:58:04+02:00  POINT (4.89455 52.34356)   \n...                                    ...                       ...   \n400520236222152  2023-06-22 21:08:05+02:00  POINT (4.78683 52.34957)   \n64092023691846   2023-06-09 18:10:05+02:00  POINT (4.78673 52.34953)   \n20582023324125   2023-03-24 01:10:06+01:00  POINT (4.78681 52.34961)   \n879202321456     2023-02-01 04:15:06+01:00  POINT (4.95456 52.39183)   \n3603202210251824 2022-10-25 17:05:04+02:00  POINT (4.96395 52.29874)   \n\n                             prev_location  ...  feestdag vertpc  aankpc   \ntripid                                      ...                            \n1000202210111720  POINT (4.87797 52.34705)  ...         0   1077    1078  \\\n7022202210111926  POINT (4.86739 52.34832)  ...         0   1077    1078   \n8121202210111212  POINT (4.91461 52.35512)  ...         0   1091    1078   \n2047202210131915  POINT (4.88579 52.36392)  ...         0   1017    1078   \n20832022101358    POINT (4.92033 52.33935)  ...         0   1096    1078   \n...                                    ...  ...       ...    ...     ...   \n400520236222152   POINT (4.89153 52.35669)  ...         0   1072    1060   \n64092023691846    POINT (4.89292 52.35448)  ...         0   1072    1060   \n20582023324125    POINT (4.82517 52.34655)  ...         0   1066    1060   \n879202321456      POINT (4.91865 52.37271)  ...         0   1018    1024   \n3603202210251824  POINT (4.92602 52.36314)  ...         0   1093    1106   \n\n                  CanFelyx  windspeed  temp  feelslike precip precipcover   \ntripid                                                                      \n1000202210111720         1       15.7  10.1       10.0  0.000        0.00  \\\n7022202210111926         1       15.7  10.1       10.0  0.000        0.00   \n8121202210111212         1       15.7  10.1       10.0  0.000        0.00   \n2047202210131915         1       16.3  12.0       12.0  7.061       70.83   \n20832022101358           1       16.3  12.0       12.0  7.061       70.83   \n...                    ...        ...   ...        ...    ...         ...   \n400520236222152          1       10.8  22.2       21.9  0.000        0.00   \n64092023691846           1       26.5  20.1       20.1  0.000        0.00   \n20582023324125           1       43.0  11.1       10.2  3.634       33.33   \n879202321456             1       45.3   7.5        2.8  0.042       12.50   \n3603202210251824         1       23.5  14.1       14.1  6.444        8.33   \n\n                 AVG_CHARGE  \ntripid                       \n1000202210111720     0.6791  \n7022202210111926     0.6791  \n8121202210111212     0.6791  \n2047202210131915     0.6791  \n20832022101358       0.6791  \n...                     ...  \n400520236222152      0.0000  \n64092023691846       0.0000  \n20582023324125       0.0000  \n879202321456         0.0645  \n3603202210251824     0.2500  \n\n[54660 rows x 43 columns]",
      "text/html": "<div>\n<style scoped>\n    .dataframe tbody tr th:only-of-type {\n        vertical-align: middle;\n    }\n\n    .dataframe tbody tr th {\n        vertical-align: top;\n    }\n\n    .dataframe thead th {\n        text-align: right;\n    }\n</style>\n<table border=\"1\" class=\"dataframe\">\n  <thead>\n    <tr style=\"text-align: right;\">\n      <th></th>\n      <th>carId</th>\n      <th>fuelLevel</th>\n      <th>vehicleTypeId</th>\n      <th>pricingTime</th>\n      <th>isDamaged</th>\n      <th>city</th>\n      <th>time</th>\n      <th>prev_time</th>\n      <th>geometry</th>\n      <th>prev_location</th>\n      <th>...</th>\n      <th>feestdag</th>\n      <th>vertpc</th>\n      <th>aankpc</th>\n      <th>CanFelyx</th>\n      <th>windspeed</th>\n      <th>temp</th>\n      <th>feelslike</th>\n      <th>precip</th>\n      <th>precipcover</th>\n      <th>AVG_CHARGE</th>\n    </tr>\n    <tr>\n      <th>tripid</th>\n      <th></th>\n      <th></th>\n      <th></th>\n      <th></th>\n      <th></th>\n      <th></th>\n      <th></th>\n      <th></th>\n      <th></th>\n      <th></th>\n      <th></th>\n      <th></th>\n      <th></th>\n      <th></th>\n      <th></th>\n      <th></th>\n      <th></th>\n      <th></th>\n      <th></th>\n      <th></th>\n      <th></th>\n    </tr>\n  </thead>\n  <tbody>\n    <tr>\n      <th>1000202210111720</th>\n      <td>1000</td>\n      <td>99</td>\n      <td>67</td>\n      <td>€0.30 / min</td>\n      <td>False</td>\n      <td>Amsterdam</td>\n      <td>2022-10-11 17:20:04+02:00</td>\n      <td>2022-10-11 17:11:04+02:00</td>\n      <td>POINT (4.89474 52.34317)</td>\n      <td>POINT (4.87797 52.34705)</td>\n      <td>...</td>\n      <td>0</td>\n      <td>1077</td>\n      <td>1078</td>\n      <td>1</td>\n      <td>15.7</td>\n      <td>10.1</td>\n      <td>10.0</td>\n      <td>0.000</td>\n      <td>0.00</td>\n      <td>0.6791</td>\n    </tr>\n    <tr>\n      <th>7022202210111926</th>\n      <td>7022</td>\n      <td>70</td>\n      <td>67</td>\n      <td>€0.30 / min</td>\n      <td>False</td>\n      <td>Amsterdam</td>\n      <td>2022-10-11 19:26:04+02:00</td>\n      <td>2022-10-11 19:10:04+02:00</td>\n      <td>POINT (4.90448 52.34792)</td>\n      <td>POINT (4.86739 52.34832)</td>\n      <td>...</td>\n      <td>0</td>\n      <td>1077</td>\n      <td>1078</td>\n      <td>1</td>\n      <td>15.7</td>\n      <td>10.1</td>\n      <td>10.0</td>\n      <td>0.000</td>\n      <td>0.00</td>\n      <td>0.6791</td>\n    </tr>\n    <tr>\n      <th>8121202210111212</th>\n      <td>8121</td>\n      <td>83</td>\n      <td>67</td>\n      <td>€0.30 / min</td>\n      <td>False</td>\n      <td>Amsterdam</td>\n      <td>2022-10-11 12:12:37+02:00</td>\n      <td>2022-10-11 11:52:04+02:00</td>\n      <td>POINT (4.89494 52.34514)</td>\n      <td>POINT (4.91461 52.35512)</td>\n      <td>...</td>\n      <td>0</td>\n      <td>1091</td>\n      <td>1078</td>\n      <td>1</td>\n      <td>15.7</td>\n      <td>10.1</td>\n      <td>10.0</td>\n      <td>0.000</td>\n      <td>0.00</td>\n      <td>0.6791</td>\n    </tr>\n    <tr>\n      <th>2047202210131915</th>\n      <td>2047</td>\n      <td>59</td>\n      <td>67</td>\n      <td>€0.30 / min</td>\n      <td>False</td>\n      <td>Amsterdam</td>\n      <td>2022-10-13 19:15:04+02:00</td>\n      <td>2022-10-13 18:58:04+02:00</td>\n      <td>POINT (4.89062 52.34081)</td>\n      <td>POINT (4.88579 52.36392)</td>\n      <td>...</td>\n      <td>0</td>\n      <td>1017</td>\n      <td>1078</td>\n      <td>1</td>\n      <td>16.3</td>\n      <td>12.0</td>\n      <td>12.0</td>\n      <td>7.061</td>\n      <td>70.83</td>\n      <td>0.6791</td>\n    </tr>\n    <tr>\n      <th>20832022101358</th>\n      <td>2083</td>\n      <td>37</td>\n      <td>67</td>\n      <td>€0.30 / min</td>\n      <td>False</td>\n      <td>Amsterdam</td>\n      <td>2022-10-13 05:08:04+02:00</td>\n      <td>2022-10-13 04:58:04+02:00</td>\n      <td>POINT (4.89455 52.34356)</td>\n      <td>POINT (4.92033 52.33935)</td>\n      <td>...</td>\n      <td>0</td>\n      <td>1096</td>\n      <td>1078</td>\n      <td>1</td>\n      <td>16.3</td>\n      <td>12.0</td>\n      <td>12.0</td>\n      <td>7.061</td>\n      <td>70.83</td>\n      <td>0.6791</td>\n    </tr>\n    <tr>\n      <th>...</th>\n      <td>...</td>\n      <td>...</td>\n      <td>...</td>\n      <td>...</td>\n      <td>...</td>\n      <td>...</td>\n      <td>...</td>\n      <td>...</td>\n      <td>...</td>\n      <td>...</td>\n      <td>...</td>\n      <td>...</td>\n      <td>...</td>\n      <td>...</td>\n      <td>...</td>\n      <td>...</td>\n      <td>...</td>\n      <td>...</td>\n      <td>...</td>\n      <td>...</td>\n      <td>...</td>\n    </tr>\n    <tr>\n      <th>400520236222152</th>\n      <td>4005</td>\n      <td>37</td>\n      <td>109</td>\n      <td>€0.33 / min</td>\n      <td>False</td>\n      <td>Amsterdam</td>\n      <td>2023-06-22 21:52:05+02:00</td>\n      <td>2023-06-22 21:08:05+02:00</td>\n      <td>POINT (4.78683 52.34957)</td>\n      <td>POINT (4.89153 52.35669)</td>\n      <td>...</td>\n      <td>0</td>\n      <td>1072</td>\n      <td>1060</td>\n      <td>1</td>\n      <td>10.8</td>\n      <td>22.2</td>\n      <td>21.9</td>\n      <td>0.000</td>\n      <td>0.00</td>\n      <td>0.0000</td>\n    </tr>\n    <tr>\n      <th>64092023691846</th>\n      <td>6409</td>\n      <td>30</td>\n      <td>109</td>\n      <td>€0.33 / min</td>\n      <td>False</td>\n      <td>Amsterdam</td>\n      <td>2023-06-09 18:46:05+02:00</td>\n      <td>2023-06-09 18:10:05+02:00</td>\n      <td>POINT (4.78673 52.34953)</td>\n      <td>POINT (4.89292 52.35448)</td>\n      <td>...</td>\n      <td>0</td>\n      <td>1072</td>\n      <td>1060</td>\n      <td>1</td>\n      <td>26.5</td>\n      <td>20.1</td>\n      <td>20.1</td>\n      <td>0.000</td>\n      <td>0.00</td>\n      <td>0.0000</td>\n    </tr>\n    <tr>\n      <th>20582023324125</th>\n      <td>2058</td>\n      <td>19</td>\n      <td>109</td>\n      <td>€0.33 / min</td>\n      <td>False</td>\n      <td>Amsterdam</td>\n      <td>2023-03-24 01:25:06+01:00</td>\n      <td>2023-03-24 01:10:06+01:00</td>\n      <td>POINT (4.78681 52.34961)</td>\n      <td>POINT (4.82517 52.34655)</td>\n      <td>...</td>\n      <td>0</td>\n      <td>1066</td>\n      <td>1060</td>\n      <td>1</td>\n      <td>43.0</td>\n      <td>11.1</td>\n      <td>10.2</td>\n      <td>3.634</td>\n      <td>33.33</td>\n      <td>0.0000</td>\n    </tr>\n    <tr>\n      <th>879202321456</th>\n      <td>879</td>\n      <td>34</td>\n      <td>67</td>\n      <td>€0.30 / min</td>\n      <td>False</td>\n      <td>Amsterdam</td>\n      <td>2023-02-01 04:56:05+01:00</td>\n      <td>2023-02-01 04:15:06+01:00</td>\n      <td>POINT (4.95456 52.39183)</td>\n      <td>POINT (4.91865 52.37271)</td>\n      <td>...</td>\n      <td>0</td>\n      <td>1018</td>\n      <td>1024</td>\n      <td>1</td>\n      <td>45.3</td>\n      <td>7.5</td>\n      <td>2.8</td>\n      <td>0.042</td>\n      <td>12.50</td>\n      <td>0.0645</td>\n    </tr>\n    <tr>\n      <th>3603202210251824</th>\n      <td>3603</td>\n      <td>58</td>\n      <td>67</td>\n      <td>€0.30 / min</td>\n      <td>False</td>\n      <td>Amsterdam</td>\n      <td>2022-10-25 18:24:04+02:00</td>\n      <td>2022-10-25 17:05:04+02:00</td>\n      <td>POINT (4.96395 52.29874)</td>\n      <td>POINT (4.92602 52.36314)</td>\n      <td>...</td>\n      <td>0</td>\n      <td>1093</td>\n      <td>1106</td>\n      <td>1</td>\n      <td>23.5</td>\n      <td>14.1</td>\n      <td>14.1</td>\n      <td>6.444</td>\n      <td>8.33</td>\n      <td>0.2500</td>\n    </tr>\n  </tbody>\n</table>\n<p>54660 rows × 43 columns</p>\n</div>"
     },
     "execution_count": 79,
     "metadata": {},
     "output_type": "execute_result"
    }
   ],
   "source": [
    "parkingcosts = pd.read_csv('../Misc/pc4_parking_avg_charge.csv')\n",
    "parkingcosts.PC4 = parkingcosts.PC4.astype(str)\n",
    "# parkingcosts\n",
    "felyxotp = felyxotp.drop('PC4', axis = 1).reset_index().merge(parkingcosts, left_on = 'aankpc',  right_on = 'PC4').drop('PC4', axis = 1).set_index('tripid')\n",
    "felyxotp"
   ],
   "metadata": {
    "collapsed": false
   }
  },
  {
   "cell_type": "code",
   "execution_count": 80,
   "outputs": [],
   "source": [
    "felyxotp['hvm'] = len(felyxotp) * ['Felyx'] #TODO move to wrangler\n",
    "felyxotp['khvm'] = len(felyxotp) * ['Felyx']"
   ],
   "metadata": {
    "collapsed": false
   }
  },
  {
   "cell_type": "code",
   "execution_count": 81,
   "outputs": [],
   "source": [
    "felyxotp.to_pickle('FelyxModellingData/felyxotp' + city) #16.50 if less than 50"
   ],
   "metadata": {
    "collapsed": false
   }
  },
  {
   "cell_type": "code",
   "execution_count": 82,
   "outputs": [
    {
     "data": {
      "text/plain": "                  carId  fuelLevel  vehicleTypeId  pricingTime  isDamaged   \ntripid                                                                      \n1000202210111720   1000         99             67  €0.30 / min      False  \\\n7022202210111926   7022         70             67  €0.30 / min      False   \n8121202210111212   8121         83             67  €0.30 / min      False   \n2047202210131915   2047         59             67  €0.30 / min      False   \n20832022101358     2083         37             67  €0.30 / min      False   \n...                 ...        ...            ...          ...        ...   \n400520236222152    4005         37            109  €0.33 / min      False   \n64092023691846     6409         30            109  €0.33 / min      False   \n20582023324125     2058         19            109  €0.33 / min      False   \n879202321456        879         34             67  €0.30 / min      False   \n3603202210251824   3603         58             67  €0.30 / min      False   \n\n                       city                      time   \ntripid                                                  \n1000202210111720  Amsterdam 2022-10-11 17:20:04+02:00  \\\n7022202210111926  Amsterdam 2022-10-11 19:26:04+02:00   \n8121202210111212  Amsterdam 2022-10-11 12:12:37+02:00   \n2047202210131915  Amsterdam 2022-10-13 19:15:04+02:00   \n20832022101358    Amsterdam 2022-10-13 05:08:04+02:00   \n...                     ...                       ...   \n400520236222152   Amsterdam 2023-06-22 21:52:05+02:00   \n64092023691846    Amsterdam 2023-06-09 18:46:05+02:00   \n20582023324125    Amsterdam 2023-03-24 01:25:06+01:00   \n879202321456      Amsterdam 2023-02-01 04:56:05+01:00   \n3603202210251824  Amsterdam 2022-10-25 18:24:04+02:00   \n\n                                 prev_time                  geometry   \ntripid                                                                 \n1000202210111720 2022-10-11 17:11:04+02:00  POINT (4.89474 52.34317)  \\\n7022202210111926 2022-10-11 19:10:04+02:00  POINT (4.90448 52.34792)   \n8121202210111212 2022-10-11 11:52:04+02:00  POINT (4.89494 52.34514)   \n2047202210131915 2022-10-13 18:58:04+02:00  POINT (4.89062 52.34081)   \n20832022101358   2022-10-13 04:58:04+02:00  POINT (4.89455 52.34356)   \n...                                    ...                       ...   \n400520236222152  2023-06-22 21:08:05+02:00  POINT (4.78683 52.34957)   \n64092023691846   2023-06-09 18:10:05+02:00  POINT (4.78673 52.34953)   \n20582023324125   2023-03-24 01:10:06+01:00  POINT (4.78681 52.34961)   \n879202321456     2023-02-01 04:15:06+01:00  POINT (4.95456 52.39183)   \n3603202210251824 2022-10-25 17:05:04+02:00  POINT (4.96395 52.29874)   \n\n                             prev_location  ...  aankpc CanFelyx  windspeed   \ntripid                                      ...                               \n1000202210111720  POINT (4.87797 52.34705)  ...    1078        1       15.7  \\\n7022202210111926  POINT (4.86739 52.34832)  ...    1078        1       15.7   \n8121202210111212  POINT (4.91461 52.35512)  ...    1078        1       15.7   \n2047202210131915  POINT (4.88579 52.36392)  ...    1078        1       16.3   \n20832022101358    POINT (4.92033 52.33935)  ...    1078        1       16.3   \n...                                    ...  ...     ...      ...        ...   \n400520236222152   POINT (4.89153 52.35669)  ...    1060        1       10.8   \n64092023691846    POINT (4.89292 52.35448)  ...    1060        1       26.5   \n20582023324125    POINT (4.82517 52.34655)  ...    1060        1       43.0   \n879202321456      POINT (4.91865 52.37271)  ...    1024        1       45.3   \n3603202210251824  POINT (4.92602 52.36314)  ...    1106        1       23.5   \n\n                  temp  feelslike  precip  precipcover AVG_CHARGE    hvm   \ntripid                                                                     \n1000202210111720  10.1       10.0   0.000         0.00     0.6791  Felyx  \\\n7022202210111926  10.1       10.0   0.000         0.00     0.6791  Felyx   \n8121202210111212  10.1       10.0   0.000         0.00     0.6791  Felyx   \n2047202210131915  12.0       12.0   7.061        70.83     0.6791  Felyx   \n20832022101358    12.0       12.0   7.061        70.83     0.6791  Felyx   \n...                ...        ...     ...          ...        ...    ...   \n400520236222152   22.2       21.9   0.000         0.00     0.0000  Felyx   \n64092023691846    20.1       20.1   0.000         0.00     0.0000  Felyx   \n20582023324125    11.1       10.2   3.634        33.33     0.0000  Felyx   \n879202321456       7.5        2.8   0.042        12.50     0.0645  Felyx   \n3603202210251824  14.1       14.1   6.444         8.33     0.2500  Felyx   \n\n                   khvm  \ntripid                   \n1000202210111720  Felyx  \n7022202210111926  Felyx  \n8121202210111212  Felyx  \n2047202210131915  Felyx  \n20832022101358    Felyx  \n...                 ...  \n400520236222152   Felyx  \n64092023691846    Felyx  \n20582023324125    Felyx  \n879202321456      Felyx  \n3603202210251824  Felyx  \n\n[54660 rows x 45 columns]",
      "text/html": "<div>\n<style scoped>\n    .dataframe tbody tr th:only-of-type {\n        vertical-align: middle;\n    }\n\n    .dataframe tbody tr th {\n        vertical-align: top;\n    }\n\n    .dataframe thead th {\n        text-align: right;\n    }\n</style>\n<table border=\"1\" class=\"dataframe\">\n  <thead>\n    <tr style=\"text-align: right;\">\n      <th></th>\n      <th>carId</th>\n      <th>fuelLevel</th>\n      <th>vehicleTypeId</th>\n      <th>pricingTime</th>\n      <th>isDamaged</th>\n      <th>city</th>\n      <th>time</th>\n      <th>prev_time</th>\n      <th>geometry</th>\n      <th>prev_location</th>\n      <th>...</th>\n      <th>aankpc</th>\n      <th>CanFelyx</th>\n      <th>windspeed</th>\n      <th>temp</th>\n      <th>feelslike</th>\n      <th>precip</th>\n      <th>precipcover</th>\n      <th>AVG_CHARGE</th>\n      <th>hvm</th>\n      <th>khvm</th>\n    </tr>\n    <tr>\n      <th>tripid</th>\n      <th></th>\n      <th></th>\n      <th></th>\n      <th></th>\n      <th></th>\n      <th></th>\n      <th></th>\n      <th></th>\n      <th></th>\n      <th></th>\n      <th></th>\n      <th></th>\n      <th></th>\n      <th></th>\n      <th></th>\n      <th></th>\n      <th></th>\n      <th></th>\n      <th></th>\n      <th></th>\n      <th></th>\n    </tr>\n  </thead>\n  <tbody>\n    <tr>\n      <th>1000202210111720</th>\n      <td>1000</td>\n      <td>99</td>\n      <td>67</td>\n      <td>€0.30 / min</td>\n      <td>False</td>\n      <td>Amsterdam</td>\n      <td>2022-10-11 17:20:04+02:00</td>\n      <td>2022-10-11 17:11:04+02:00</td>\n      <td>POINT (4.89474 52.34317)</td>\n      <td>POINT (4.87797 52.34705)</td>\n      <td>...</td>\n      <td>1078</td>\n      <td>1</td>\n      <td>15.7</td>\n      <td>10.1</td>\n      <td>10.0</td>\n      <td>0.000</td>\n      <td>0.00</td>\n      <td>0.6791</td>\n      <td>Felyx</td>\n      <td>Felyx</td>\n    </tr>\n    <tr>\n      <th>7022202210111926</th>\n      <td>7022</td>\n      <td>70</td>\n      <td>67</td>\n      <td>€0.30 / min</td>\n      <td>False</td>\n      <td>Amsterdam</td>\n      <td>2022-10-11 19:26:04+02:00</td>\n      <td>2022-10-11 19:10:04+02:00</td>\n      <td>POINT (4.90448 52.34792)</td>\n      <td>POINT (4.86739 52.34832)</td>\n      <td>...</td>\n      <td>1078</td>\n      <td>1</td>\n      <td>15.7</td>\n      <td>10.1</td>\n      <td>10.0</td>\n      <td>0.000</td>\n      <td>0.00</td>\n      <td>0.6791</td>\n      <td>Felyx</td>\n      <td>Felyx</td>\n    </tr>\n    <tr>\n      <th>8121202210111212</th>\n      <td>8121</td>\n      <td>83</td>\n      <td>67</td>\n      <td>€0.30 / min</td>\n      <td>False</td>\n      <td>Amsterdam</td>\n      <td>2022-10-11 12:12:37+02:00</td>\n      <td>2022-10-11 11:52:04+02:00</td>\n      <td>POINT (4.89494 52.34514)</td>\n      <td>POINT (4.91461 52.35512)</td>\n      <td>...</td>\n      <td>1078</td>\n      <td>1</td>\n      <td>15.7</td>\n      <td>10.1</td>\n      <td>10.0</td>\n      <td>0.000</td>\n      <td>0.00</td>\n      <td>0.6791</td>\n      <td>Felyx</td>\n      <td>Felyx</td>\n    </tr>\n    <tr>\n      <th>2047202210131915</th>\n      <td>2047</td>\n      <td>59</td>\n      <td>67</td>\n      <td>€0.30 / min</td>\n      <td>False</td>\n      <td>Amsterdam</td>\n      <td>2022-10-13 19:15:04+02:00</td>\n      <td>2022-10-13 18:58:04+02:00</td>\n      <td>POINT (4.89062 52.34081)</td>\n      <td>POINT (4.88579 52.36392)</td>\n      <td>...</td>\n      <td>1078</td>\n      <td>1</td>\n      <td>16.3</td>\n      <td>12.0</td>\n      <td>12.0</td>\n      <td>7.061</td>\n      <td>70.83</td>\n      <td>0.6791</td>\n      <td>Felyx</td>\n      <td>Felyx</td>\n    </tr>\n    <tr>\n      <th>20832022101358</th>\n      <td>2083</td>\n      <td>37</td>\n      <td>67</td>\n      <td>€0.30 / min</td>\n      <td>False</td>\n      <td>Amsterdam</td>\n      <td>2022-10-13 05:08:04+02:00</td>\n      <td>2022-10-13 04:58:04+02:00</td>\n      <td>POINT (4.89455 52.34356)</td>\n      <td>POINT (4.92033 52.33935)</td>\n      <td>...</td>\n      <td>1078</td>\n      <td>1</td>\n      <td>16.3</td>\n      <td>12.0</td>\n      <td>12.0</td>\n      <td>7.061</td>\n      <td>70.83</td>\n      <td>0.6791</td>\n      <td>Felyx</td>\n      <td>Felyx</td>\n    </tr>\n    <tr>\n      <th>...</th>\n      <td>...</td>\n      <td>...</td>\n      <td>...</td>\n      <td>...</td>\n      <td>...</td>\n      <td>...</td>\n      <td>...</td>\n      <td>...</td>\n      <td>...</td>\n      <td>...</td>\n      <td>...</td>\n      <td>...</td>\n      <td>...</td>\n      <td>...</td>\n      <td>...</td>\n      <td>...</td>\n      <td>...</td>\n      <td>...</td>\n      <td>...</td>\n      <td>...</td>\n      <td>...</td>\n    </tr>\n    <tr>\n      <th>400520236222152</th>\n      <td>4005</td>\n      <td>37</td>\n      <td>109</td>\n      <td>€0.33 / min</td>\n      <td>False</td>\n      <td>Amsterdam</td>\n      <td>2023-06-22 21:52:05+02:00</td>\n      <td>2023-06-22 21:08:05+02:00</td>\n      <td>POINT (4.78683 52.34957)</td>\n      <td>POINT (4.89153 52.35669)</td>\n      <td>...</td>\n      <td>1060</td>\n      <td>1</td>\n      <td>10.8</td>\n      <td>22.2</td>\n      <td>21.9</td>\n      <td>0.000</td>\n      <td>0.00</td>\n      <td>0.0000</td>\n      <td>Felyx</td>\n      <td>Felyx</td>\n    </tr>\n    <tr>\n      <th>64092023691846</th>\n      <td>6409</td>\n      <td>30</td>\n      <td>109</td>\n      <td>€0.33 / min</td>\n      <td>False</td>\n      <td>Amsterdam</td>\n      <td>2023-06-09 18:46:05+02:00</td>\n      <td>2023-06-09 18:10:05+02:00</td>\n      <td>POINT (4.78673 52.34953)</td>\n      <td>POINT (4.89292 52.35448)</td>\n      <td>...</td>\n      <td>1060</td>\n      <td>1</td>\n      <td>26.5</td>\n      <td>20.1</td>\n      <td>20.1</td>\n      <td>0.000</td>\n      <td>0.00</td>\n      <td>0.0000</td>\n      <td>Felyx</td>\n      <td>Felyx</td>\n    </tr>\n    <tr>\n      <th>20582023324125</th>\n      <td>2058</td>\n      <td>19</td>\n      <td>109</td>\n      <td>€0.33 / min</td>\n      <td>False</td>\n      <td>Amsterdam</td>\n      <td>2023-03-24 01:25:06+01:00</td>\n      <td>2023-03-24 01:10:06+01:00</td>\n      <td>POINT (4.78681 52.34961)</td>\n      <td>POINT (4.82517 52.34655)</td>\n      <td>...</td>\n      <td>1060</td>\n      <td>1</td>\n      <td>43.0</td>\n      <td>11.1</td>\n      <td>10.2</td>\n      <td>3.634</td>\n      <td>33.33</td>\n      <td>0.0000</td>\n      <td>Felyx</td>\n      <td>Felyx</td>\n    </tr>\n    <tr>\n      <th>879202321456</th>\n      <td>879</td>\n      <td>34</td>\n      <td>67</td>\n      <td>€0.30 / min</td>\n      <td>False</td>\n      <td>Amsterdam</td>\n      <td>2023-02-01 04:56:05+01:00</td>\n      <td>2023-02-01 04:15:06+01:00</td>\n      <td>POINT (4.95456 52.39183)</td>\n      <td>POINT (4.91865 52.37271)</td>\n      <td>...</td>\n      <td>1024</td>\n      <td>1</td>\n      <td>45.3</td>\n      <td>7.5</td>\n      <td>2.8</td>\n      <td>0.042</td>\n      <td>12.50</td>\n      <td>0.0645</td>\n      <td>Felyx</td>\n      <td>Felyx</td>\n    </tr>\n    <tr>\n      <th>3603202210251824</th>\n      <td>3603</td>\n      <td>58</td>\n      <td>67</td>\n      <td>€0.30 / min</td>\n      <td>False</td>\n      <td>Amsterdam</td>\n      <td>2022-10-25 18:24:04+02:00</td>\n      <td>2022-10-25 17:05:04+02:00</td>\n      <td>POINT (4.96395 52.29874)</td>\n      <td>POINT (4.92602 52.36314)</td>\n      <td>...</td>\n      <td>1106</td>\n      <td>1</td>\n      <td>23.5</td>\n      <td>14.1</td>\n      <td>14.1</td>\n      <td>6.444</td>\n      <td>8.33</td>\n      <td>0.2500</td>\n      <td>Felyx</td>\n      <td>Felyx</td>\n    </tr>\n  </tbody>\n</table>\n<p>54660 rows × 45 columns</p>\n</div>"
     },
     "execution_count": 82,
     "metadata": {},
     "output_type": "execute_result"
    }
   ],
   "source": [
    "import pandas as pd\n",
    "import geopandas as gpd\n",
    "city = 'AADO'\n",
    "felyxotp = pd.read_pickle('FelyxModellingData/felyxotp' + city)\n",
    "felyxotp"
   ],
   "metadata": {
    "collapsed": false
   }
  },
  {
   "cell_type": "code",
   "execution_count": 83,
   "outputs": [],
   "source": [
    "def categorize_time(df, datetime_column): #TODO move to wrangler\n",
    "    # Convert the datetime column to pandas datetime if it's not already\n",
    "    df[datetime_column] = pd.to_datetime(df[datetime_column])\n",
    "\n",
    "    # Create a new column to store the time category\n",
    "    df['time_category'] = 'Other'\n",
    "\n",
    "     # Define the time ranges\n",
    "    morning_start = pd.to_datetime('07:00:00').time()\n",
    "    morning_end = pd.to_datetime('09:00:00').time()\n",
    "    daytime_start = pd.to_datetime('09:00:00').time()\n",
    "    daytime_end = pd.to_datetime('16:00:00').time()\n",
    "    evening_start = pd.to_datetime('16:00:00').time()\n",
    "    evening_end = pd.to_datetime('18:00:00').time()\n",
    "\n",
    "    # Categorize the time for each row\n",
    "    df.loc[(df[datetime_column].dt.time >= morning_start) & (df[datetime_column].dt.time <= morning_end), 'time_category'] = 'Morning'\n",
    "    df.loc[(df[datetime_column].dt.time > evening_start) & (df[datetime_column].dt.time < evening_end), 'time_category'] = 'Evening'\n",
    "    df.loc[(df[datetime_column].dt.time >= daytime_start) & (df[datetime_column].dt.time <= daytime_end), 'time_category'] = 'Daytime'\n",
    "\n",
    "    return df\n",
    "felyxotp = categorize_time(felyxotp, 'prev_time')"
   ],
   "metadata": {
    "collapsed": false
   }
  },
  {
   "cell_type": "code",
   "execution_count": 84,
   "outputs": [
    {
     "data": {
      "text/plain": "tripid\n1000202210111720    Evening\n7022202210111926      Other\n8121202210111212    Daytime\n2047202210131915      Other\n20832022101358        Other\n                     ...   \n400520236222152       Other\n64092023691846        Other\n20582023324125        Other\n879202321456          Other\n3603202210251824    Evening\nName: time_category, Length: 54660, dtype: object"
     },
     "execution_count": 84,
     "metadata": {},
     "output_type": "execute_result"
    }
   ],
   "source": [
    "felyxotp.time_category"
   ],
   "metadata": {
    "collapsed": false
   }
  },
  {
   "cell_type": "code",
   "execution_count": 85,
   "outputs": [],
   "source": [
    "def felyxcost(felyxotp):\n",
    "    def costmin(x):\n",
    "        m = min(16.5, x)\n",
    "        return m\n",
    "    felyxotp['felyx_cost'] = felyxotp.apply(lambda row: 1 + (row.car_duration * (float(row.pricingTime[1:5])/60)), axis=1)\n",
    "    felyxotp['felyx_cost'] = felyxotp['felyx_cost'].apply(lambda x: min(25,x))\n",
    "    felyxotp['felyx_cost'] = felyxotp.apply(lambda row: costmin(row.felyx_cost) if row.car_duration <= 3000 else row.felyx_cost, axis=1)\n",
    "    # felyxotp.felyx_cost = round(felyxotp.felyx_cost / 10) * 10\n",
    "    return felyxotp\n",
    "felyxotp = felyxcost(felyxotp)"
   ],
   "metadata": {
    "collapsed": false
   }
  },
  {
   "cell_type": "code",
   "execution_count": 86,
   "outputs": [
    {
     "data": {
      "text/plain": "tripid\n1000202210111720     3.0500\n7022202210111926     3.8850\n8121202210111212     3.9900\n2047202210131915     5.8250\n20832022101358       3.4600\n                     ...   \n400520236222152     10.5315\n64092023691846       9.7670\n20582023324125       5.7520\n879202321456         5.9000\n3603202210251824     7.6950\nName: felyx_cost, Length: 54660, dtype: float64"
     },
     "execution_count": 86,
     "metadata": {},
     "output_type": "execute_result"
    }
   ],
   "source": [
    "felyxotp['felyx_cost']"
   ],
   "metadata": {
    "collapsed": false
   }
  },
  {
   "cell_type": "code",
   "execution_count": 87,
   "outputs": [],
   "source": [
    "def add_costs(felyxotp):\n",
    "    transit_rate = ((0.147 +0.166)/2) /1000 #perkm\n",
    "    transit_base = 0.96\n",
    "    car_rate = 0.34/1000\n",
    "    felyxotp['pt_cost'] = transit_base + transit_rate * felyxotp['distance_moved']\n",
    "    felyxotp['car_cost'] = car_rate * felyxotp['car_distance']\n",
    "    return felyxotp\n",
    "\n",
    "felyxotp = add_costs(felyxotp)"
   ],
   "metadata": {
    "collapsed": false
   }
  },
  {
   "cell_type": "code",
   "execution_count": 88,
   "outputs": [],
   "source": [
    "def GVBprice(df):\n",
    "    # https://www.amsterdamtips.com/ov-chipkaart\n",
    "    # APC = [str(x) for x in gpd.read_file('../PublicGeoJsons/AmsterdamPC4.geojson').Postcode4.unique()]\n",
    "    APC = [str(x) for x in pd.read_pickle('../PublicGeoJsons/AADO_PC4.geojson').index.unique()]\n",
    "    NetherlandsBoardingFee =  1.08 #35 minutes no boarding fee\n",
    "    GVB_Distance_Fee = (0.196/1000)#perkm\n",
    "    max1way = 3.40\n",
    "    NSAms = 2.60 #3.10 to Bijlmer\n",
    "    df['pt_cost_GVB'] = NetherlandsBoardingFee + (df['distance_moved'] * GVB_Distance_Fee)\n",
    "    df['pt_cost_GVB'] = df['pt_cost_GVB'].apply(lambda x: min(3.40,x))\n",
    "    return df\n",
    "felyxotp = GVBprice(felyxotp)"
   ],
   "metadata": {
    "collapsed": false
   }
  },
  {
   "cell_type": "code",
   "execution_count": 89,
   "outputs": [],
   "source": [
    "def do():\n",
    "    df.loc[df['aankpc'].isin(APC) & df['vertpc'].isin(APC), 'pt_cost'] = df.loc[df['aankpc'].isin(APC) & df['vertpc'].isin(APC), 'pt_cost_ams']"
   ],
   "metadata": {
    "collapsed": false
   }
  },
  {
   "cell_type": "code",
   "execution_count": 90,
   "outputs": [
    {
     "data": {
      "text/plain": "month\n1    0 days 00:17:00.497952755\n2    0 days 00:17:40.901785714\n3    0 days 00:16:51.958908507\n4    0 days 00:17:24.941253936\n5    0 days 00:17:38.214057507\n6    0 days 00:18:47.913703703\n7    0 days 00:19:19.735163398\n8       0 days 00:19:24.767200\n9    0 days 00:19:13.619640387\n10   0 days 00:19:12.737333333\n11   0 days 00:17:45.333055555\n12   0 days 00:17:24.772423025\nName: timedelta, dtype: timedelta64[ns]"
     },
     "execution_count": 90,
     "metadata": {},
     "output_type": "execute_result"
    }
   ],
   "source": [
    "felyxotp.groupby(['month'])['timedelta'].mean()"
   ],
   "metadata": {
    "collapsed": false
   }
  },
  {
   "cell_type": "code",
   "execution_count": 93,
   "outputs": [
    {
     "data": {
      "text/plain": "                  carId  fuelLevel  vehicleTypeId  pricingTime  isDamaged   \ntripid                                                                      \n119020231191316    1190         45             67  €0.30 / min      False  \\\n118620231191931    1186         56             67  €0.30 / min      False   \n871202312793        871         96             67  €0.30 / min      False   \n216220231171912    2162         91             67  €0.30 / min      False   \n19842023131858     1984         45             67  €0.30 / min      False   \n...                 ...        ...            ...          ...        ...   \n167220221227232    1672         85             67  €0.30 / min      False   \n6554202212171722   6554         44             67  €0.30 / min      False   \n3695202212102031   3695         62             67  €0.30 / min      False   \n2020202212101618   2020         75             67  €0.30 / min      False   \n200720221214340    2007         30             67  €0.30 / min      False   \n\n                       city                      time   \ntripid                                                  \n119020231191316   Amsterdam 2023-01-19 13:16:05+01:00  \\\n118620231191931   Amsterdam 2023-01-19 19:31:05+01:00   \n871202312793      Amsterdam 2023-01-27 09:03:06+01:00   \n216220231171912   Amsterdam 2023-01-17 19:12:05+01:00   \n19842023131858    Amsterdam 2023-01-31 08:58:06+01:00   \n...                     ...                       ...   \n167220221227232   Amsterdam 2022-12-27 23:02:05+01:00   \n6554202212171722  Amsterdam 2022-12-17 17:22:05+01:00   \n3695202212102031  Amsterdam 2022-12-10 20:31:05+01:00   \n2020202212101618  Amsterdam 2022-12-10 16:18:05+01:00   \n200720221214340   Amsterdam 2022-12-14 03:40:05+01:00   \n\n                                 prev_time                  geometry   \ntripid                                                                 \n119020231191316  2023-01-19 12:58:05+01:00  POINT (4.88066 52.37209)  \\\n118620231191931  2023-01-19 19:03:05+01:00  POINT (4.91901 52.34138)   \n871202312793     2023-01-27 08:52:06+01:00  POINT (4.87205 52.39669)   \n216220231171912  2023-01-17 18:45:05+01:00  POINT (4.88003 52.36545)   \n19842023131858   2023-01-31 08:45:06+01:00  POINT (4.86574 52.38613)   \n...                                    ...                       ...   \n167220221227232  2022-12-27 22:47:06+01:00  POINT (4.85087 52.36995)   \n6554202212171722 2022-12-17 17:11:05+01:00  POINT (4.86254 52.37499)   \n3695202212102031 2022-12-10 20:25:05+01:00  POINT (4.89187 52.34537)   \n2020202212101618 2022-12-10 16:07:05+01:00  POINT (4.89128 52.35173)   \n200720221214340  2022-12-14 03:28:05+01:00  POINT (4.87091 52.34725)   \n\n                             prev_location  ...  precip precipcover   \ntripid                                      ...                       \n119020231191316   POINT (4.88510 52.35633)  ...   5.815       37.50  \\\n118620231191931   POINT (4.86226 52.37118)  ...   5.815       37.50   \n871202312793      POINT (4.89739 52.38115)  ...   0.015        4.17   \n216220231171912   POINT (4.83720 52.38804)  ...   3.814       29.17   \n19842023131858    POINT (4.83733 52.38820)  ...   0.095       12.50   \n...                                    ...  ...     ...         ...   \n167220221227232   POINT (4.82692 52.35588)  ...   0.281       16.67   \n6554202212171722  POINT (4.85621 52.36206)  ...   0.000        0.00   \n3695202212102031  POINT (4.87340 52.34170)  ...   0.000        0.00   \n2020202212101618  POINT (4.90209 52.35442)  ...   0.000        0.00   \n200720221214340   POINT (4.85745 52.31986)  ...   0.062        4.17   \n\n                  AVG_CHARGE    hvm   khvm  time_category  felyx_cost   \ntripid                                                                  \n119020231191316       2.0930  Felyx  Felyx        Daytime       5.030  \\\n118620231191931       2.1278  Felyx  Felyx          Other       7.200   \n871202312793          3.9009  Felyx  Felyx        Morning       3.550   \n216220231171912       2.0930  Felyx  Felyx          Other       8.195   \n19842023131858        1.5730  Felyx  Felyx        Morning       4.340   \n...                      ...    ...    ...            ...         ...   \n167220221227232       1.3901  Felyx  Felyx          Other       4.115   \n6554202212171722      0.9932  Felyx  Felyx        Evening       3.530   \n3695202212102031      0.6791  Felyx  Felyx          Other       3.325   \n2020202212101618      2.7036  Felyx  Felyx        Evening       2.460   \n200720221214340       1.6337  Felyx  Felyx          Other       5.060   \n\n                   pt_cost  car_cost pt_cost_GVB  \ntripid                                            \n119020231191316   1.238517  1.051018    1.428814  \n118620231191931   1.756965  4.773124    2.078116  \n871202312793      1.342253  0.974450    1.558732  \n216220231171912   1.562557  2.496754    1.834641  \n19842023131858    1.264870  1.167867    1.461818  \n...                    ...       ...         ...  \n167220221227232   1.313788  1.482503    1.523083  \n6554202212171722  1.194960  0.849138    1.374263  \n3695202212102031  1.167054  0.723843    1.339314  \n2020202212101618  1.084363  0.504281    1.235752  \n200720221214340   1.457992  1.393091    1.703683  \n\n[30000 rows x 50 columns]",
      "text/html": "<div>\n<style scoped>\n    .dataframe tbody tr th:only-of-type {\n        vertical-align: middle;\n    }\n\n    .dataframe tbody tr th {\n        vertical-align: top;\n    }\n\n    .dataframe thead th {\n        text-align: right;\n    }\n</style>\n<table border=\"1\" class=\"dataframe\">\n  <thead>\n    <tr style=\"text-align: right;\">\n      <th></th>\n      <th>carId</th>\n      <th>fuelLevel</th>\n      <th>vehicleTypeId</th>\n      <th>pricingTime</th>\n      <th>isDamaged</th>\n      <th>city</th>\n      <th>time</th>\n      <th>prev_time</th>\n      <th>geometry</th>\n      <th>prev_location</th>\n      <th>...</th>\n      <th>precip</th>\n      <th>precipcover</th>\n      <th>AVG_CHARGE</th>\n      <th>hvm</th>\n      <th>khvm</th>\n      <th>time_category</th>\n      <th>felyx_cost</th>\n      <th>pt_cost</th>\n      <th>car_cost</th>\n      <th>pt_cost_GVB</th>\n    </tr>\n    <tr>\n      <th>tripid</th>\n      <th></th>\n      <th></th>\n      <th></th>\n      <th></th>\n      <th></th>\n      <th></th>\n      <th></th>\n      <th></th>\n      <th></th>\n      <th></th>\n      <th></th>\n      <th></th>\n      <th></th>\n      <th></th>\n      <th></th>\n      <th></th>\n      <th></th>\n      <th></th>\n      <th></th>\n      <th></th>\n      <th></th>\n    </tr>\n  </thead>\n  <tbody>\n    <tr>\n      <th>119020231191316</th>\n      <td>1190</td>\n      <td>45</td>\n      <td>67</td>\n      <td>€0.30 / min</td>\n      <td>False</td>\n      <td>Amsterdam</td>\n      <td>2023-01-19 13:16:05+01:00</td>\n      <td>2023-01-19 12:58:05+01:00</td>\n      <td>POINT (4.88066 52.37209)</td>\n      <td>POINT (4.88510 52.35633)</td>\n      <td>...</td>\n      <td>5.815</td>\n      <td>37.50</td>\n      <td>2.0930</td>\n      <td>Felyx</td>\n      <td>Felyx</td>\n      <td>Daytime</td>\n      <td>5.030</td>\n      <td>1.238517</td>\n      <td>1.051018</td>\n      <td>1.428814</td>\n    </tr>\n    <tr>\n      <th>118620231191931</th>\n      <td>1186</td>\n      <td>56</td>\n      <td>67</td>\n      <td>€0.30 / min</td>\n      <td>False</td>\n      <td>Amsterdam</td>\n      <td>2023-01-19 19:31:05+01:00</td>\n      <td>2023-01-19 19:03:05+01:00</td>\n      <td>POINT (4.91901 52.34138)</td>\n      <td>POINT (4.86226 52.37118)</td>\n      <td>...</td>\n      <td>5.815</td>\n      <td>37.50</td>\n      <td>2.1278</td>\n      <td>Felyx</td>\n      <td>Felyx</td>\n      <td>Other</td>\n      <td>7.200</td>\n      <td>1.756965</td>\n      <td>4.773124</td>\n      <td>2.078116</td>\n    </tr>\n    <tr>\n      <th>871202312793</th>\n      <td>871</td>\n      <td>96</td>\n      <td>67</td>\n      <td>€0.30 / min</td>\n      <td>False</td>\n      <td>Amsterdam</td>\n      <td>2023-01-27 09:03:06+01:00</td>\n      <td>2023-01-27 08:52:06+01:00</td>\n      <td>POINT (4.87205 52.39669)</td>\n      <td>POINT (4.89739 52.38115)</td>\n      <td>...</td>\n      <td>0.015</td>\n      <td>4.17</td>\n      <td>3.9009</td>\n      <td>Felyx</td>\n      <td>Felyx</td>\n      <td>Morning</td>\n      <td>3.550</td>\n      <td>1.342253</td>\n      <td>0.974450</td>\n      <td>1.558732</td>\n    </tr>\n    <tr>\n      <th>216220231171912</th>\n      <td>2162</td>\n      <td>91</td>\n      <td>67</td>\n      <td>€0.30 / min</td>\n      <td>False</td>\n      <td>Amsterdam</td>\n      <td>2023-01-17 19:12:05+01:00</td>\n      <td>2023-01-17 18:45:05+01:00</td>\n      <td>POINT (4.88003 52.36545)</td>\n      <td>POINT (4.83720 52.38804)</td>\n      <td>...</td>\n      <td>3.814</td>\n      <td>29.17</td>\n      <td>2.0930</td>\n      <td>Felyx</td>\n      <td>Felyx</td>\n      <td>Other</td>\n      <td>8.195</td>\n      <td>1.562557</td>\n      <td>2.496754</td>\n      <td>1.834641</td>\n    </tr>\n    <tr>\n      <th>19842023131858</th>\n      <td>1984</td>\n      <td>45</td>\n      <td>67</td>\n      <td>€0.30 / min</td>\n      <td>False</td>\n      <td>Amsterdam</td>\n      <td>2023-01-31 08:58:06+01:00</td>\n      <td>2023-01-31 08:45:06+01:00</td>\n      <td>POINT (4.86574 52.38613)</td>\n      <td>POINT (4.83733 52.38820)</td>\n      <td>...</td>\n      <td>0.095</td>\n      <td>12.50</td>\n      <td>1.5730</td>\n      <td>Felyx</td>\n      <td>Felyx</td>\n      <td>Morning</td>\n      <td>4.340</td>\n      <td>1.264870</td>\n      <td>1.167867</td>\n      <td>1.461818</td>\n    </tr>\n    <tr>\n      <th>...</th>\n      <td>...</td>\n      <td>...</td>\n      <td>...</td>\n      <td>...</td>\n      <td>...</td>\n      <td>...</td>\n      <td>...</td>\n      <td>...</td>\n      <td>...</td>\n      <td>...</td>\n      <td>...</td>\n      <td>...</td>\n      <td>...</td>\n      <td>...</td>\n      <td>...</td>\n      <td>...</td>\n      <td>...</td>\n      <td>...</td>\n      <td>...</td>\n      <td>...</td>\n      <td>...</td>\n    </tr>\n    <tr>\n      <th>167220221227232</th>\n      <td>1672</td>\n      <td>85</td>\n      <td>67</td>\n      <td>€0.30 / min</td>\n      <td>False</td>\n      <td>Amsterdam</td>\n      <td>2022-12-27 23:02:05+01:00</td>\n      <td>2022-12-27 22:47:06+01:00</td>\n      <td>POINT (4.85087 52.36995)</td>\n      <td>POINT (4.82692 52.35588)</td>\n      <td>...</td>\n      <td>0.281</td>\n      <td>16.67</td>\n      <td>1.3901</td>\n      <td>Felyx</td>\n      <td>Felyx</td>\n      <td>Other</td>\n      <td>4.115</td>\n      <td>1.313788</td>\n      <td>1.482503</td>\n      <td>1.523083</td>\n    </tr>\n    <tr>\n      <th>6554202212171722</th>\n      <td>6554</td>\n      <td>44</td>\n      <td>67</td>\n      <td>€0.30 / min</td>\n      <td>False</td>\n      <td>Amsterdam</td>\n      <td>2022-12-17 17:22:05+01:00</td>\n      <td>2022-12-17 17:11:05+01:00</td>\n      <td>POINT (4.86254 52.37499)</td>\n      <td>POINT (4.85621 52.36206)</td>\n      <td>...</td>\n      <td>0.000</td>\n      <td>0.00</td>\n      <td>0.9932</td>\n      <td>Felyx</td>\n      <td>Felyx</td>\n      <td>Evening</td>\n      <td>3.530</td>\n      <td>1.194960</td>\n      <td>0.849138</td>\n      <td>1.374263</td>\n    </tr>\n    <tr>\n      <th>3695202212102031</th>\n      <td>3695</td>\n      <td>62</td>\n      <td>67</td>\n      <td>€0.30 / min</td>\n      <td>False</td>\n      <td>Amsterdam</td>\n      <td>2022-12-10 20:31:05+01:00</td>\n      <td>2022-12-10 20:25:05+01:00</td>\n      <td>POINT (4.89187 52.34537)</td>\n      <td>POINT (4.87340 52.34170)</td>\n      <td>...</td>\n      <td>0.000</td>\n      <td>0.00</td>\n      <td>0.6791</td>\n      <td>Felyx</td>\n      <td>Felyx</td>\n      <td>Other</td>\n      <td>3.325</td>\n      <td>1.167054</td>\n      <td>0.723843</td>\n      <td>1.339314</td>\n    </tr>\n    <tr>\n      <th>2020202212101618</th>\n      <td>2020</td>\n      <td>75</td>\n      <td>67</td>\n      <td>€0.30 / min</td>\n      <td>False</td>\n      <td>Amsterdam</td>\n      <td>2022-12-10 16:18:05+01:00</td>\n      <td>2022-12-10 16:07:05+01:00</td>\n      <td>POINT (4.89128 52.35173)</td>\n      <td>POINT (4.90209 52.35442)</td>\n      <td>...</td>\n      <td>0.000</td>\n      <td>0.00</td>\n      <td>2.7036</td>\n      <td>Felyx</td>\n      <td>Felyx</td>\n      <td>Evening</td>\n      <td>2.460</td>\n      <td>1.084363</td>\n      <td>0.504281</td>\n      <td>1.235752</td>\n    </tr>\n    <tr>\n      <th>200720221214340</th>\n      <td>2007</td>\n      <td>30</td>\n      <td>67</td>\n      <td>€0.30 / min</td>\n      <td>False</td>\n      <td>Amsterdam</td>\n      <td>2022-12-14 03:40:05+01:00</td>\n      <td>2022-12-14 03:28:05+01:00</td>\n      <td>POINT (4.87091 52.34725)</td>\n      <td>POINT (4.85745 52.31986)</td>\n      <td>...</td>\n      <td>0.062</td>\n      <td>4.17</td>\n      <td>1.6337</td>\n      <td>Felyx</td>\n      <td>Felyx</td>\n      <td>Other</td>\n      <td>5.060</td>\n      <td>1.457992</td>\n      <td>1.393091</td>\n      <td>1.703683</td>\n    </tr>\n  </tbody>\n</table>\n<p>30000 rows × 50 columns</p>\n</div>"
     },
     "execution_count": 93,
     "metadata": {},
     "output_type": "execute_result"
    }
   ],
   "source": [
    "felyxotp.groupby('month').sample(2500)"
   ],
   "metadata": {
    "collapsed": false
   }
  },
  {
   "cell_type": "code",
   "execution_count": 3,
   "outputs": [],
   "source": [
    "city = 'AADO'\n",
    "felyxotp = pd.read_pickle('FelyxModellingData/felyxotp' + city)\n",
    "felyxotp =  felyxotp.groupby('month').sample(2500)\n",
    "felyxotp.to_pickle('FelyxModellingData/felyxotp' + city)"
   ],
   "metadata": {
    "collapsed": false
   }
  },
  {
   "cell_type": "code",
   "execution_count": null,
   "outputs": [],
   "source": [],
   "metadata": {
    "collapsed": false
   }
  }
 ],
 "metadata": {
  "kernelspec": {
   "display_name": "Python 3",
   "language": "python",
   "name": "python3"
  },
  "language_info": {
   "codemirror_mode": {
    "name": "ipython",
    "version": 2
   },
   "file_extension": ".py",
   "mimetype": "text/x-python",
   "name": "python",
   "nbconvert_exporter": "python",
   "pygments_lexer": "ipython2",
   "version": "2.7.6"
  }
 },
 "nbformat": 4,
 "nbformat_minor": 0
}
