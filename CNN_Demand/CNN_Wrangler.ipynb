{
 "cells": [
  {
   "cell_type": "code",
   "execution_count": 1,
   "metadata": {
    "collapsed": true
   },
   "outputs": [],
   "source": [
    "from ModellingUtilities import *\n",
    "from PlotUtilities import *\n",
    "import os"
   ]
  },
  {
   "cell_type": "code",
   "execution_count": 22,
   "outputs": [
    {
     "data": {
      "text/plain": "                           geometry  name_short  Passengers\ncode                                                       \nAC    POINT (127005.741 476800.771)     Abcoude      1579.0\nAH    POINT (190169.134 444190.916)    Arnhem C     39164.0\nAHP   POINT (191561.877 444231.913)   Velperprt      2066.0\nAHPR  POINT (193238.652 444553.469)  Presikhaaf      2829.0\nAHZ   POINT (186946.620 440831.569)    Arnhem Z      2909.0",
      "text/html": "<div>\n<style scoped>\n    .dataframe tbody tr th:only-of-type {\n        vertical-align: middle;\n    }\n\n    .dataframe tbody tr th {\n        vertical-align: top;\n    }\n\n    .dataframe thead th {\n        text-align: right;\n    }\n</style>\n<table border=\"1\" class=\"dataframe\">\n  <thead>\n    <tr style=\"text-align: right;\">\n      <th></th>\n      <th>geometry</th>\n      <th>name_short</th>\n      <th>Passengers</th>\n    </tr>\n    <tr>\n      <th>code</th>\n      <th></th>\n      <th></th>\n      <th></th>\n    </tr>\n  </thead>\n  <tbody>\n    <tr>\n      <th>AC</th>\n      <td>POINT (127005.741 476800.771)</td>\n      <td>Abcoude</td>\n      <td>1579.0</td>\n    </tr>\n    <tr>\n      <th>AH</th>\n      <td>POINT (190169.134 444190.916)</td>\n      <td>Arnhem C</td>\n      <td>39164.0</td>\n    </tr>\n    <tr>\n      <th>AHP</th>\n      <td>POINT (191561.877 444231.913)</td>\n      <td>Velperprt</td>\n      <td>2066.0</td>\n    </tr>\n    <tr>\n      <th>AHPR</th>\n      <td>POINT (193238.652 444553.469)</td>\n      <td>Presikhaaf</td>\n      <td>2829.0</td>\n    </tr>\n    <tr>\n      <th>AHZ</th>\n      <td>POINT (186946.620 440831.569)</td>\n      <td>Arnhem Z</td>\n      <td>2909.0</td>\n    </tr>\n  </tbody>\n</table>\n</div>"
     },
     "execution_count": 22,
     "metadata": {},
     "output_type": "execute_result"
    }
   ],
   "source": [
    "# trains = pd.read_csv('../PublicGeoJsons/Transport/NS/stations-2022-01-nl.csv').set_index('code')\n",
    "# SPN = pd.read_csv('../PublicGeoJsons/Transport/NS/StationPassengerNumbers.csv').set_index('CodeUpper')\n",
    "# trains = trains.join(SPN[['Passengers']])\n",
    "# trains = gpd.GeoDataFrame(\n",
    "#     trains, geometry=gpd.points_from_xy(trains.geo_lng, trains.geo_lat), crs=\"EPSG:4326\"\n",
    "# ).to_crs(28992)[['geometry', 'name_short', 'Passengers']]\n",
    "# trains.to_pickle('../PublicGeoJsons/Transport/NS/PassengerNumbers_Geo')\n",
    "trains = pd.read_pickle('../PublicGeoJsons/Transport/NS/PassengerNumbers_Geo').to_crs(28992)\n",
    "trains.head()"
   ],
   "metadata": {
    "collapsed": false
   }
  },
  {
   "cell_type": "code",
   "execution_count": 24,
   "outputs": [],
   "source": [
    "city = 'AADO'"
   ],
   "metadata": {
    "collapsed": false
   }
  },
  {
   "cell_type": "code",
   "execution_count": 25,
   "outputs": [],
   "source": [
    "# def get_metros():\n",
    "#     trans = gpd.read_file('../PublicGeoJsons/Transport/TransitLines.json').to_crs(28992)\n",
    "#     trans['lines_list'] = trans['Lijn_select'].str.split('|')\n",
    "#     metros = trans[trans.Modaliteit == 'Metro']\n",
    "#     metrolinedict = {'50': 100200/20, '51': 60800/19, '52': 84000/8, '53': 60600/14, '54': 73500/15}\n",
    "#     metros['metro_passengers'] = metros['lines_list'].apply(lambda x: sum([(metrolinedict[str(line)]) for line in x if line in metrolinedict.keys()]))\n",
    "#     metros = metros[['Naam', 'geometry', 'metro_passengers']]\n",
    "#     Trams = trans[trans.Modaliteit == 'Tram']\n",
    "#     return metros, Trams\n",
    "# # metros, Trams = get_metros()\n",
    "# def get_metros2():"
   ],
   "metadata": {
    "collapsed": false
   }
  },
  {
   "cell_type": "code",
   "execution_count": 25,
   "outputs": [],
   "source": [],
   "metadata": {
    "collapsed": false
   }
  },
  {
   "cell_type": "code",
   "execution_count": 26,
   "outputs": [],
   "source": [
    "# parks  = gpd.read_file('../PublicGeoJsons/Parks/AmsParks.json').to_crs(28992)\n",
    "# parks.to_pickle('../PublicGeoJsons/Parks/Amsterdam')\n",
    "# city_parks = parks[parks.Stadspark == 'J']\n",
    "# rec_green = parks[parks.Stadspark == 'N']\n",
    "parks = pd.read_pickle('../PublicGeoJsons/Parks/' + city).to_crs(28992)"
   ],
   "metadata": {
    "collapsed": false
   }
  },
  {
   "cell_type": "code",
   "execution_count": 27,
   "outputs": [],
   "source": [
    "square_size = 100\n",
    "grid = pd.read_pickle('../Demand Modelling/Grids/' + city + '/' + str(square_size)).to_crs(28992)"
   ],
   "metadata": {
    "collapsed": false
   }
  },
  {
   "cell_type": "markdown",
   "source": [],
   "metadata": {
    "collapsed": false
   }
  },
  {
   "cell_type": "code",
   "execution_count": 28,
   "outputs": [],
   "source": [
    "def gridcounts_bool(grid, feature, col_name):\n",
    "    joined = gpd.sjoin(feature, grid, how='left')\n",
    "    counts = joined.groupby('index_right').size()\n",
    "    grid_copy = grid.copy()\n",
    "    grid_copy['bool_' + col_name] = counts\n",
    "    grid_copy['bool_' + col_name] = grid_copy['bool_' + col_name].fillna(0)\n",
    "\n",
    "    return grid_copy\n",
    "# a = {'park': parks}#,'tram': Trams }\n",
    "# for key in a.keys():\n",
    "#     grid = gridcounts_bool(grid, a[key][['geometry']], key)\n",
    "# grid"
   ],
   "metadata": {
    "collapsed": false
   }
  },
  {
   "cell_type": "code",
   "execution_count": 29,
   "outputs": [
    {
     "name": "stderr",
     "output_type": "stream",
     "text": [
      "/Users/joshuathomas/PycharmProjects/EmbeddedMobility/venv/lib/python3.9/site-packages/IPython/core/interactiveshell.py:3508: FutureWarning: The `op` parameter is deprecated and will be removed in a future release. Please use the `predicate` parameter instead.\n",
      "  exec(code_obj, self.user_global_ns, self.user_ns)\n"
     ]
    },
    {
     "data": {
      "text/plain": "                                                geometry  sum_Passengers\nindex                                                                   \n0      POLYGON ((110100.000 493800.000, 110200.000 49...             0.0\n1      POLYGON ((110200.000 493800.000, 110300.000 49...             0.0\n2      POLYGON ((110300.000 493800.000, 110400.000 49...             0.0\n3      POLYGON ((110400.000 493800.000, 110500.000 49...             0.0\n4      POLYGON ((110500.000 493800.000, 110600.000 49...             0.0",
      "text/html": "<div>\n<style scoped>\n    .dataframe tbody tr th:only-of-type {\n        vertical-align: middle;\n    }\n\n    .dataframe tbody tr th {\n        vertical-align: top;\n    }\n\n    .dataframe thead th {\n        text-align: right;\n    }\n</style>\n<table border=\"1\" class=\"dataframe\">\n  <thead>\n    <tr style=\"text-align: right;\">\n      <th></th>\n      <th>geometry</th>\n      <th>sum_Passengers</th>\n    </tr>\n    <tr>\n      <th>index</th>\n      <th></th>\n      <th></th>\n    </tr>\n  </thead>\n  <tbody>\n    <tr>\n      <th>0</th>\n      <td>POLYGON ((110100.000 493800.000, 110200.000 49...</td>\n      <td>0.0</td>\n    </tr>\n    <tr>\n      <th>1</th>\n      <td>POLYGON ((110200.000 493800.000, 110300.000 49...</td>\n      <td>0.0</td>\n    </tr>\n    <tr>\n      <th>2</th>\n      <td>POLYGON ((110300.000 493800.000, 110400.000 49...</td>\n      <td>0.0</td>\n    </tr>\n    <tr>\n      <th>3</th>\n      <td>POLYGON ((110400.000 493800.000, 110500.000 49...</td>\n      <td>0.0</td>\n    </tr>\n    <tr>\n      <th>4</th>\n      <td>POLYGON ((110500.000 493800.000, 110600.000 49...</td>\n      <td>0.0</td>\n    </tr>\n  </tbody>\n</table>\n</div>"
     },
     "execution_count": 29,
     "metadata": {},
     "output_type": "execute_result"
    }
   ],
   "source": [
    "def gridcounts_sum(grid, feature, col_name):\n",
    "    joined = gpd.sjoin(feature, grid, how='left', op='within')\n",
    "    counts = joined[['index_right', col_name]].groupby('index_right').sum()\n",
    "    grid['sum_' + col_name] = counts\n",
    "    grid['sum_' + col_name] = grid['sum_' + col_name].fillna(0)\n",
    "    return grid\n",
    "\n",
    "sums = {'Passengers': trains}#{'metro_passengers': metros, 'Passengers': trains}\n",
    "for key in sums.keys():\n",
    "    grid = gridcounts_sum(grid, sums[key], key)\n",
    "grid.head()"
   ],
   "metadata": {
    "collapsed": false
   }
  },
  {
   "cell_type": "code",
   "execution_count": 30,
   "outputs": [],
   "source": [
    "if city == 'AADO':\n",
    "    banned = pd.read_pickle('../Service Areas/Ams/Amsterdam --- No parking').to_crs(28992)\n",
    "if city == 'Rotterdam':\n",
    "    banned = pd.read_pickle('../Service Areas/Rott/Rotterdam --- No parking Zones').to_crs(28992)\n",
    "if city == 'Den Haag':\n",
    "    banned = pd.read_pickle('../Service Areas/Den Haag/Den Haag --- No parking Zones').to_crs(28992)"
   ],
   "metadata": {
    "collapsed": false
   }
  },
  {
   "cell_type": "code",
   "execution_count": 31,
   "outputs": [],
   "source": [
    "if city == 'AADO':\n",
    "    incentive = pd.read_pickle('../Service Areas/Ams/Amsterdam --- Incentive Zones').to_crs(28992)\n",
    "if city == 'Rotterdam':\n",
    "    incentive = pd.read_pickle('../Service Areas/Rott/Rotterdam --- Incentive areas').to_crs(28992)\n",
    "if city == 'Den Haag':\n",
    "    incentive = pd.read_pickle('../Service Areas/Den Haag/Den Haag --- Incentive areas').to_crs(28992)"
   ],
   "metadata": {
    "collapsed": false
   }
  },
  {
   "cell_type": "code",
   "execution_count": 34,
   "outputs": [],
   "source": [
    "if city == 'AADO':\n",
    "    # water = pd.read_pickle('../PublicGeoJsons/Water/AmsterdamWater').to_crs(28992)\n",
    "    water = pd.read_pickle('../PublicGeoJsons/Water/' + city)\n",
    "else:\n",
    "    water = gpd.read_file('../PublicGeoJsons/Water/' + city)#.to_crs(28992)\n",
    "water = water.loc[water['geometry'].geom_type.isin(['Polygon', 'MultiPolygon'])].set_crs(28992)"
   ],
   "metadata": {
    "collapsed": false
   }
  },
  {
   "cell_type": "code",
   "execution_count": 35,
   "outputs": [],
   "source": [
    "def calc_intersection(city, square_size, area, name, cnngrid):\n",
    "    banned_all = area\n",
    "    raw_grid = pd.read_pickle('../Demand Modelling/Grids/' + city + '/' + str(square_size)).to_crs(28992)\n",
    "\n",
    "    # Calculate intersections\n",
    "    intersected = gpd.overlay(raw_grid, banned_all, how='intersection')\n",
    "    intersected['area_intersected' + name] = intersected['geometry'].area\n",
    "    summed_areas = intersected.groupby('geometry')['area_intersected' + name].sum().reset_index()\n",
    "    summed_areas = gpd.GeoDataFrame(summed_areas, geometry = 'geometry', crs = 28992)\n",
    "    # summed_areas.plot(column = 'area_intersected', cmap = 'Reds')\n",
    "    hi = raw_grid.sjoin(summed_areas, how = 'left').fillna(0).groupby('geometry').nth(0)\n",
    "    hi['area_intersected' + name] /= raw_grid['geometry'].iloc[0].area\n",
    "    cnngrid = cnngrid.join(hi[['area_intersected' + name]])\n",
    "    # if Plot == True:\n",
    "    # hi.plot(column = 'area_intersected', cmap = 'Reds', legend = True)\n",
    "\n",
    "    return cnngrid"
   ],
   "metadata": {
    "collapsed": false
   }
  },
  {
   "cell_type": "code",
   "execution_count": 36,
   "outputs": [
    {
     "name": "stderr",
     "output_type": "stream",
     "text": [
      "/var/folders/99/r_wg55g56p13sfs9r698z04w0000gn/T/ipykernel_70787/1588424719.py:6: UserWarning: `keep_geom_type=True` in overlay resulted in 9 dropped geometries of different geometry types than df1 has. Set `keep_geom_type=False` to retain all geometries\n",
      "  intersected = gpd.overlay(raw_grid, banned_all, how='intersection')\n"
     ]
    }
   ],
   "source": [
    "intersections = {'_no_parking': banned, '_water': water, '_incentive': incentive}\n",
    "for key in intersections.keys():\n",
    "    grid = calc_intersection(city, square_size, intersections[key], key, grid)"
   ],
   "metadata": {
    "collapsed": false
   }
  },
  {
   "cell_type": "code",
   "execution_count": 37,
   "outputs": [],
   "source": [
    "grid = calc_intersection(city, square_size, parks, '_park', grid)"
   ],
   "metadata": {
    "collapsed": false
   }
  },
  {
   "cell_type": "code",
   "execution_count": 38,
   "outputs": [
    {
     "data": {
      "text/plain": "                                                geometry  sum_Passengers   \nindex                                                                      \n0      POLYGON ((110100.000 493800.000, 110200.000 49...             0.0  \\\n1      POLYGON ((110200.000 493800.000, 110300.000 49...             0.0   \n2      POLYGON ((110300.000 493800.000, 110400.000 49...             0.0   \n3      POLYGON ((110400.000 493800.000, 110500.000 49...             0.0   \n4      POLYGON ((110500.000 493800.000, 110600.000 49...             0.0   \n\n       area_intersected_no_parking  area_intersected_water   \nindex                                                        \n0                              0.0                     0.0  \\\n1                              0.0                     0.0   \n2                              0.0                     0.0   \n3                              0.0                     0.0   \n4                              0.0                     0.0   \n\n       area_intersected_incentive  area_intersected_park  \nindex                                                     \n0                             0.0                    0.0  \n1                             0.0                    0.0  \n2                             0.0                    0.0  \n3                             0.0                    0.0  \n4                             0.0                    0.0  ",
      "text/html": "<div>\n<style scoped>\n    .dataframe tbody tr th:only-of-type {\n        vertical-align: middle;\n    }\n\n    .dataframe tbody tr th {\n        vertical-align: top;\n    }\n\n    .dataframe thead th {\n        text-align: right;\n    }\n</style>\n<table border=\"1\" class=\"dataframe\">\n  <thead>\n    <tr style=\"text-align: right;\">\n      <th></th>\n      <th>geometry</th>\n      <th>sum_Passengers</th>\n      <th>area_intersected_no_parking</th>\n      <th>area_intersected_water</th>\n      <th>area_intersected_incentive</th>\n      <th>area_intersected_park</th>\n    </tr>\n    <tr>\n      <th>index</th>\n      <th></th>\n      <th></th>\n      <th></th>\n      <th></th>\n      <th></th>\n      <th></th>\n    </tr>\n  </thead>\n  <tbody>\n    <tr>\n      <th>0</th>\n      <td>POLYGON ((110100.000 493800.000, 110200.000 49...</td>\n      <td>0.0</td>\n      <td>0.0</td>\n      <td>0.0</td>\n      <td>0.0</td>\n      <td>0.0</td>\n    </tr>\n    <tr>\n      <th>1</th>\n      <td>POLYGON ((110200.000 493800.000, 110300.000 49...</td>\n      <td>0.0</td>\n      <td>0.0</td>\n      <td>0.0</td>\n      <td>0.0</td>\n      <td>0.0</td>\n    </tr>\n    <tr>\n      <th>2</th>\n      <td>POLYGON ((110300.000 493800.000, 110400.000 49...</td>\n      <td>0.0</td>\n      <td>0.0</td>\n      <td>0.0</td>\n      <td>0.0</td>\n      <td>0.0</td>\n    </tr>\n    <tr>\n      <th>3</th>\n      <td>POLYGON ((110400.000 493800.000, 110500.000 49...</td>\n      <td>0.0</td>\n      <td>0.0</td>\n      <td>0.0</td>\n      <td>0.0</td>\n      <td>0.0</td>\n    </tr>\n    <tr>\n      <th>4</th>\n      <td>POLYGON ((110500.000 493800.000, 110600.000 49...</td>\n      <td>0.0</td>\n      <td>0.0</td>\n      <td>0.0</td>\n      <td>0.0</td>\n      <td>0.0</td>\n    </tr>\n  </tbody>\n</table>\n</div>"
     },
     "execution_count": 38,
     "metadata": {},
     "output_type": "execute_result"
    }
   ],
   "source": [
    "grid.head()"
   ],
   "metadata": {
    "collapsed": false
   }
  },
  {
   "cell_type": "code",
   "execution_count": 39,
   "outputs": [
    {
     "data": {
      "text/plain": "sum_Passengers                 455764.000000\narea_intersected_no_parking       470.276209\narea_intersected_water          12459.301534\narea_intersected_incentive         31.424586\narea_intersected_park            2935.042684\ndtype: float64"
     },
     "execution_count": 39,
     "metadata": {},
     "output_type": "execute_result"
    }
   ],
   "source": [
    "grid.iloc[:, 1:].sum()"
   ],
   "metadata": {
    "collapsed": false
   }
  },
  {
   "cell_type": "code",
   "execution_count": 40,
   "outputs": [],
   "source": [
    "# pc4 = pd.read_pickle('../PostcodeInfo/PC4_Clean')\n",
    "# pc4 = pc4.rename(columns = {'Unnamed: 36': 'density'})\n",
    "# pc4['young'] = pc4['15 tot 25 jaar'] + pc4['25 tot 45 jaar']\n",
    "# pc4 = pc4[['Man', 'density', 'young']]\n",
    "# density = gpd.read_file('../PublicGeoJsons/NetherlandsPC4.geojson')\n",
    "# density = density.set_index('PC4')\n",
    "# density = density.to_crs(28992)[['geometry']]\n",
    "# infopc4 = density.join(pc4, how = 'inner')\n",
    "# infopc4.head()\n",
    "# infopc4.to_pickle('../PostcodeInfo/PC4_Clean_Geo')\n",
    "# infopc4 = pd.read_pickle('../PostcodeInfo/PC4_Clean_Geo')\n",
    "# df3 = grid[['geometry']].sjoin(gridinfo, how='inner')\n",
    "# df3 = df3[~df3.index.duplicated(keep='first')]"
   ],
   "metadata": {
    "collapsed": false
   }
  },
  {
   "cell_type": "code",
   "execution_count": 41,
   "outputs": [],
   "source": [
    "gridinfo = pd.read_pickle('../Demand Modelling/Grids/' + city + '/' + str(square_size) + 'info').drop('index_right', axis =1)"
   ],
   "metadata": {
    "collapsed": false
   }
  },
  {
   "cell_type": "code",
   "execution_count": 42,
   "outputs": [
    {
     "data": {
      "text/plain": "                                                geometry  sum_Passengers   \nindex                                                                      \n0      POLYGON ((110100.000 493800.000, 110200.000 49...             0.0  \\\n1      POLYGON ((110200.000 493800.000, 110300.000 49...             0.0   \n2      POLYGON ((110300.000 493800.000, 110400.000 49...             0.0   \n3      POLYGON ((110400.000 493800.000, 110500.000 49...             0.0   \n4      POLYGON ((110500.000 493800.000, 110600.000 49...             0.0   \n\n       area_intersected_no_parking  area_intersected_water   \nindex                                                        \n0                              0.0                     0.0  \\\n1                              0.0                     0.0   \n2                              0.0                     0.0   \n3                              0.0                     0.0   \n4                              0.0                     0.0   \n\n       area_intersected_incentive  area_intersected_park  aantal_inwoners   \nindex                                                                       \n0                             0.0                    0.0            520.0  \\\n1                             0.0                    0.0            520.0   \n2                             0.0                    0.0            520.0   \n3                             0.0                    0.0            520.0   \n4                             0.0                    0.0            520.0   \n\n       aantal_inwoners_25_tot_45_jaar  aantal_inwoners_15_tot_25_jaar  \nindex                                                                  \n0                               110.0                            60.0  \n1                               110.0                            60.0  \n2                               110.0                            60.0  \n3                               110.0                            60.0  \n4                               110.0                            60.0  ",
      "text/html": "<div>\n<style scoped>\n    .dataframe tbody tr th:only-of-type {\n        vertical-align: middle;\n    }\n\n    .dataframe tbody tr th {\n        vertical-align: top;\n    }\n\n    .dataframe thead th {\n        text-align: right;\n    }\n</style>\n<table border=\"1\" class=\"dataframe\">\n  <thead>\n    <tr style=\"text-align: right;\">\n      <th></th>\n      <th>geometry</th>\n      <th>sum_Passengers</th>\n      <th>area_intersected_no_parking</th>\n      <th>area_intersected_water</th>\n      <th>area_intersected_incentive</th>\n      <th>area_intersected_park</th>\n      <th>aantal_inwoners</th>\n      <th>aantal_inwoners_25_tot_45_jaar</th>\n      <th>aantal_inwoners_15_tot_25_jaar</th>\n    </tr>\n    <tr>\n      <th>index</th>\n      <th></th>\n      <th></th>\n      <th></th>\n      <th></th>\n      <th></th>\n      <th></th>\n      <th></th>\n      <th></th>\n      <th></th>\n    </tr>\n  </thead>\n  <tbody>\n    <tr>\n      <th>0</th>\n      <td>POLYGON ((110100.000 493800.000, 110200.000 49...</td>\n      <td>0.0</td>\n      <td>0.0</td>\n      <td>0.0</td>\n      <td>0.0</td>\n      <td>0.0</td>\n      <td>520.0</td>\n      <td>110.0</td>\n      <td>60.0</td>\n    </tr>\n    <tr>\n      <th>1</th>\n      <td>POLYGON ((110200.000 493800.000, 110300.000 49...</td>\n      <td>0.0</td>\n      <td>0.0</td>\n      <td>0.0</td>\n      <td>0.0</td>\n      <td>0.0</td>\n      <td>520.0</td>\n      <td>110.0</td>\n      <td>60.0</td>\n    </tr>\n    <tr>\n      <th>2</th>\n      <td>POLYGON ((110300.000 493800.000, 110400.000 49...</td>\n      <td>0.0</td>\n      <td>0.0</td>\n      <td>0.0</td>\n      <td>0.0</td>\n      <td>0.0</td>\n      <td>520.0</td>\n      <td>110.0</td>\n      <td>60.0</td>\n    </tr>\n    <tr>\n      <th>3</th>\n      <td>POLYGON ((110400.000 493800.000, 110500.000 49...</td>\n      <td>0.0</td>\n      <td>0.0</td>\n      <td>0.0</td>\n      <td>0.0</td>\n      <td>0.0</td>\n      <td>520.0</td>\n      <td>110.0</td>\n      <td>60.0</td>\n    </tr>\n    <tr>\n      <th>4</th>\n      <td>POLYGON ((110500.000 493800.000, 110600.000 49...</td>\n      <td>0.0</td>\n      <td>0.0</td>\n      <td>0.0</td>\n      <td>0.0</td>\n      <td>0.0</td>\n      <td>520.0</td>\n      <td>110.0</td>\n      <td>60.0</td>\n    </tr>\n  </tbody>\n</table>\n</div>"
     },
     "execution_count": 42,
     "metadata": {},
     "output_type": "execute_result"
    }
   ],
   "source": [
    "cnngrid = grid.join(gridinfo.drop('geometry', axis =1))\n",
    "filename = os.path.join('../', 'CNN_Demand', 'CNN_Data', city, str(square_size))\n",
    "cnngrid.to_pickle(filename)\n",
    "cnngrid.head()"
   ],
   "metadata": {
    "collapsed": false
   }
  },
  {
   "cell_type": "code",
   "execution_count": 43,
   "outputs": [],
   "source": [
    "# housing = gpd.read_file('../PublicGeoJsons/HousingPrices.json')[['SELECTIE', 'geometry']].to_crs(28992)\n",
    "# df4 = cnngrid[['geometry']].sjoin(housing, how='inner')\n",
    "# df4 = df4[~df4.index.duplicated(keep='first')]\n",
    "# df4 = df4.rename(columns = {'SELECTIE': 'house_price'})\n",
    "# cnngrid = cnngrid.join(df4.drop(['geometry', 'index_right'], axis =1))\n",
    "# cnngrid['house_price'].fillna(cnngrid['house_price'].median(), inplace=True)\n",
    "# # cnngrid.to_pickle(filename)"
   ],
   "metadata": {
    "collapsed": false
   }
  },
  {
   "cell_type": "code",
   "execution_count": 44,
   "outputs": [],
   "source": [
    "# cnngrid['sum_all_passengers'] =cnngrid['sum_Passengers'] + cnngrid['sum_metro_passengers']\n",
    "# cnngrid['young_man_density'] = cnngrid['young'] * cnngrid['Man']* cnngrid['density']"
   ],
   "metadata": {
    "collapsed": false
   }
  },
  {
   "cell_type": "code",
   "execution_count": 45,
   "outputs": [],
   "source": [
    "for key, value in {'amenities': 'gdf_amenities', 'Horeca': 'gdf_horeca', 'university': 'gdf_univ', 'tram': 'gdf_tram', 'metro': 'gdf_metro'}.items():\n",
    "    tt = pd.read_pickle(os.path.join('../', 'OSM', city, str(square_size), key))\n",
    "    tt =tt.rename(columns = {'name': key})\n",
    "    cnngrid = cnngrid.join(tt[[key]])"
   ],
   "metadata": {
    "collapsed": false
   }
  },
  {
   "cell_type": "code",
   "execution_count": 46,
   "outputs": [
    {
     "data": {
      "text/plain": "                                                geometry  sum_Passengers   \nindex                                                                      \n0      POLYGON ((110100.000 493800.000, 110200.000 49...             0.0  \\\n1      POLYGON ((110200.000 493800.000, 110300.000 49...             0.0   \n2      POLYGON ((110300.000 493800.000, 110400.000 49...             0.0   \n3      POLYGON ((110400.000 493800.000, 110500.000 49...             0.0   \n4      POLYGON ((110500.000 493800.000, 110600.000 49...             0.0   \n...                                                  ...             ...   \n54644  POLYGON ((135500.000 472800.000, 135600.000 47...             0.0   \n54645  POLYGON ((135600.000 472800.000, 135700.000 47...             0.0   \n54646  POLYGON ((135700.000 472800.000, 135800.000 47...             0.0   \n54647  POLYGON ((135800.000 472800.000, 135900.000 47...             0.0   \n54648  POLYGON ((135900.000 472800.000, 136000.000 47...             0.0   \n\n       area_intersected_no_parking  area_intersected_water   \nindex                                                        \n0                              0.0                     0.0  \\\n1                              0.0                     0.0   \n2                              0.0                     0.0   \n3                              0.0                     0.0   \n4                              0.0                     0.0   \n...                            ...                     ...   \n54644                          0.0                     0.0   \n54645                          0.0                     0.0   \n54646                          0.0                     0.0   \n54647                          0.0                     0.0   \n54648                          0.0                     0.0   \n\n       area_intersected_incentive  area_intersected_park  aantal_inwoners   \nindex                                                                       \n0                             0.0                    0.0            520.0  \\\n1                             0.0                    0.0            520.0   \n2                             0.0                    0.0            520.0   \n3                             0.0                    0.0            520.0   \n4                             0.0                    0.0            520.0   \n...                           ...                    ...              ...   \n54644                         0.0                    0.0            725.0   \n54645                         0.0                    0.0            725.0   \n54646                         0.0                    0.0            725.0   \n54647                         0.0                    0.0            725.0   \n54648                         0.0                    0.0            725.0   \n\n       aantal_inwoners_25_tot_45_jaar  aantal_inwoners_15_tot_25_jaar   \nindex                                                                   \n0                               110.0                            60.0  \\\n1                               110.0                            60.0   \n2                               110.0                            60.0   \n3                               110.0                            60.0   \n4                               110.0                            60.0   \n...                               ...                             ...   \n54644                           115.0                            75.0   \n54645                           115.0                            75.0   \n54646                           115.0                            75.0   \n54647                           115.0                            75.0   \n54648                           115.0                            75.0   \n\n       amenities  Horeca  university  tram  metro  \nindex                                              \n0            NaN     NaN         NaN   NaN    NaN  \n1            NaN     NaN         NaN   NaN    NaN  \n2            NaN     NaN         NaN   NaN    NaN  \n3            NaN     NaN         NaN   NaN    NaN  \n4            NaN     NaN         NaN   NaN    NaN  \n...          ...     ...         ...   ...    ...  \n54644        NaN     NaN         NaN   NaN    NaN  \n54645        NaN     NaN         NaN   NaN    NaN  \n54646        NaN     NaN         NaN   NaN    NaN  \n54647        NaN     NaN         NaN   NaN    NaN  \n54648        NaN     NaN         NaN   NaN    NaN  \n\n[54649 rows x 14 columns]",
      "text/html": "<div>\n<style scoped>\n    .dataframe tbody tr th:only-of-type {\n        vertical-align: middle;\n    }\n\n    .dataframe tbody tr th {\n        vertical-align: top;\n    }\n\n    .dataframe thead th {\n        text-align: right;\n    }\n</style>\n<table border=\"1\" class=\"dataframe\">\n  <thead>\n    <tr style=\"text-align: right;\">\n      <th></th>\n      <th>geometry</th>\n      <th>sum_Passengers</th>\n      <th>area_intersected_no_parking</th>\n      <th>area_intersected_water</th>\n      <th>area_intersected_incentive</th>\n      <th>area_intersected_park</th>\n      <th>aantal_inwoners</th>\n      <th>aantal_inwoners_25_tot_45_jaar</th>\n      <th>aantal_inwoners_15_tot_25_jaar</th>\n      <th>amenities</th>\n      <th>Horeca</th>\n      <th>university</th>\n      <th>tram</th>\n      <th>metro</th>\n    </tr>\n    <tr>\n      <th>index</th>\n      <th></th>\n      <th></th>\n      <th></th>\n      <th></th>\n      <th></th>\n      <th></th>\n      <th></th>\n      <th></th>\n      <th></th>\n      <th></th>\n      <th></th>\n      <th></th>\n      <th></th>\n      <th></th>\n    </tr>\n  </thead>\n  <tbody>\n    <tr>\n      <th>0</th>\n      <td>POLYGON ((110100.000 493800.000, 110200.000 49...</td>\n      <td>0.0</td>\n      <td>0.0</td>\n      <td>0.0</td>\n      <td>0.0</td>\n      <td>0.0</td>\n      <td>520.0</td>\n      <td>110.0</td>\n      <td>60.0</td>\n      <td>NaN</td>\n      <td>NaN</td>\n      <td>NaN</td>\n      <td>NaN</td>\n      <td>NaN</td>\n    </tr>\n    <tr>\n      <th>1</th>\n      <td>POLYGON ((110200.000 493800.000, 110300.000 49...</td>\n      <td>0.0</td>\n      <td>0.0</td>\n      <td>0.0</td>\n      <td>0.0</td>\n      <td>0.0</td>\n      <td>520.0</td>\n      <td>110.0</td>\n      <td>60.0</td>\n      <td>NaN</td>\n      <td>NaN</td>\n      <td>NaN</td>\n      <td>NaN</td>\n      <td>NaN</td>\n    </tr>\n    <tr>\n      <th>2</th>\n      <td>POLYGON ((110300.000 493800.000, 110400.000 49...</td>\n      <td>0.0</td>\n      <td>0.0</td>\n      <td>0.0</td>\n      <td>0.0</td>\n      <td>0.0</td>\n      <td>520.0</td>\n      <td>110.0</td>\n      <td>60.0</td>\n      <td>NaN</td>\n      <td>NaN</td>\n      <td>NaN</td>\n      <td>NaN</td>\n      <td>NaN</td>\n    </tr>\n    <tr>\n      <th>3</th>\n      <td>POLYGON ((110400.000 493800.000, 110500.000 49...</td>\n      <td>0.0</td>\n      <td>0.0</td>\n      <td>0.0</td>\n      <td>0.0</td>\n      <td>0.0</td>\n      <td>520.0</td>\n      <td>110.0</td>\n      <td>60.0</td>\n      <td>NaN</td>\n      <td>NaN</td>\n      <td>NaN</td>\n      <td>NaN</td>\n      <td>NaN</td>\n    </tr>\n    <tr>\n      <th>4</th>\n      <td>POLYGON ((110500.000 493800.000, 110600.000 49...</td>\n      <td>0.0</td>\n      <td>0.0</td>\n      <td>0.0</td>\n      <td>0.0</td>\n      <td>0.0</td>\n      <td>520.0</td>\n      <td>110.0</td>\n      <td>60.0</td>\n      <td>NaN</td>\n      <td>NaN</td>\n      <td>NaN</td>\n      <td>NaN</td>\n      <td>NaN</td>\n    </tr>\n    <tr>\n      <th>...</th>\n      <td>...</td>\n      <td>...</td>\n      <td>...</td>\n      <td>...</td>\n      <td>...</td>\n      <td>...</td>\n      <td>...</td>\n      <td>...</td>\n      <td>...</td>\n      <td>...</td>\n      <td>...</td>\n      <td>...</td>\n      <td>...</td>\n      <td>...</td>\n    </tr>\n    <tr>\n      <th>54644</th>\n      <td>POLYGON ((135500.000 472800.000, 135600.000 47...</td>\n      <td>0.0</td>\n      <td>0.0</td>\n      <td>0.0</td>\n      <td>0.0</td>\n      <td>0.0</td>\n      <td>725.0</td>\n      <td>115.0</td>\n      <td>75.0</td>\n      <td>NaN</td>\n      <td>NaN</td>\n      <td>NaN</td>\n      <td>NaN</td>\n      <td>NaN</td>\n    </tr>\n    <tr>\n      <th>54645</th>\n      <td>POLYGON ((135600.000 472800.000, 135700.000 47...</td>\n      <td>0.0</td>\n      <td>0.0</td>\n      <td>0.0</td>\n      <td>0.0</td>\n      <td>0.0</td>\n      <td>725.0</td>\n      <td>115.0</td>\n      <td>75.0</td>\n      <td>NaN</td>\n      <td>NaN</td>\n      <td>NaN</td>\n      <td>NaN</td>\n      <td>NaN</td>\n    </tr>\n    <tr>\n      <th>54646</th>\n      <td>POLYGON ((135700.000 472800.000, 135800.000 47...</td>\n      <td>0.0</td>\n      <td>0.0</td>\n      <td>0.0</td>\n      <td>0.0</td>\n      <td>0.0</td>\n      <td>725.0</td>\n      <td>115.0</td>\n      <td>75.0</td>\n      <td>NaN</td>\n      <td>NaN</td>\n      <td>NaN</td>\n      <td>NaN</td>\n      <td>NaN</td>\n    </tr>\n    <tr>\n      <th>54647</th>\n      <td>POLYGON ((135800.000 472800.000, 135900.000 47...</td>\n      <td>0.0</td>\n      <td>0.0</td>\n      <td>0.0</td>\n      <td>0.0</td>\n      <td>0.0</td>\n      <td>725.0</td>\n      <td>115.0</td>\n      <td>75.0</td>\n      <td>NaN</td>\n      <td>NaN</td>\n      <td>NaN</td>\n      <td>NaN</td>\n      <td>NaN</td>\n    </tr>\n    <tr>\n      <th>54648</th>\n      <td>POLYGON ((135900.000 472800.000, 136000.000 47...</td>\n      <td>0.0</td>\n      <td>0.0</td>\n      <td>0.0</td>\n      <td>0.0</td>\n      <td>0.0</td>\n      <td>725.0</td>\n      <td>115.0</td>\n      <td>75.0</td>\n      <td>NaN</td>\n      <td>NaN</td>\n      <td>NaN</td>\n      <td>NaN</td>\n      <td>NaN</td>\n    </tr>\n  </tbody>\n</table>\n<p>54649 rows × 14 columns</p>\n</div>"
     },
     "execution_count": 46,
     "metadata": {},
     "output_type": "execute_result"
    }
   ],
   "source": [
    "cnngrid"
   ],
   "metadata": {
    "collapsed": false
   }
  },
  {
   "cell_type": "code",
   "execution_count": 47,
   "outputs": [],
   "source": [
    "cnngrid.to_pickle(os.path.join('../', 'CNN_Demand', 'CNN_Data', city, str(square_size)))"
   ],
   "metadata": {
    "collapsed": false
   }
  },
  {
   "cell_type": "code",
   "execution_count": 48,
   "outputs": [],
   "source": [
    "city = 'AADO'\n",
    "square_size = 100\n",
    "cnngrid = pd.read_pickle(os.path.join('../', 'CNN_Demand', 'CNN_Data', city, str(square_size)))"
   ],
   "metadata": {
    "collapsed": false
   }
  },
  {
   "cell_type": "code",
   "execution_count": 49,
   "outputs": [],
   "source": [
    "felyx = pd.read_pickle('../FelyxData/Raw Movement/Felyx' + city)\n",
    "felyx2022 = pd.read_pickle('../FelyxData/Raw Movement/Felyx' + city + '2022')\n",
    "fcomb = pd.concat([felyx, felyx2022]).set_geometry('prev_location').to_crs(28992)\n",
    "fcomb[['geometry', 'prev_location', 'prev_time', 'time']].to_pickle('../FelyxData/Raw Movement/FelyxCombined' + city )"
   ],
   "metadata": {
    "collapsed": false
   }
  },
  {
   "cell_type": "code",
   "execution_count": 50,
   "outputs": [
    {
     "data": {
      "text/plain": "                                 geometry                  prev_location   \ntripid                                                                     \n40272023622111   POINT (4.85416 52.29910)  POINT (118225.280 478824.315)  \\\n386420234152330  POINT (4.92015 52.38886)  POINT (123673.073 488814.202)   \n82262023526235   POINT (4.86059 52.35918)  POINT (119789.182 486069.806)   \n273820232141614  POINT (4.82859 52.34292)  POINT (116470.441 483731.466)   \n21402023119186   POINT (4.86780 52.32748)  POINT (118887.219 482707.456)   \n\n                                prev_time                      time   \ntripid                                                                \n40272023622111  2023-06-22 01:09:05+02:00 2023-06-22 01:11:05+02:00  \\\n386420234152330 2023-04-15 23:28:06+02:00 2023-04-15 23:30:06+02:00   \n82262023526235  2023-05-26 23:03:05+02:00 2023-05-26 23:05:05+02:00   \n273820232141614 2023-02-14 16:12:05+01:00 2023-02-14 16:14:05+01:00   \n21402023119186  2023-01-19 18:04:05+01:00 2023-01-19 18:06:05+01:00   \n\n                time_category  \ntripid                         \n40272023622111          Other  \n386420234152330         Other  \n82262023526235          Other  \n273820232141614       Evening  \n21402023119186          Other  ",
      "text/html": "<div>\n<style scoped>\n    .dataframe tbody tr th:only-of-type {\n        vertical-align: middle;\n    }\n\n    .dataframe tbody tr th {\n        vertical-align: top;\n    }\n\n    .dataframe thead th {\n        text-align: right;\n    }\n</style>\n<table border=\"1\" class=\"dataframe\">\n  <thead>\n    <tr style=\"text-align: right;\">\n      <th></th>\n      <th>geometry</th>\n      <th>prev_location</th>\n      <th>prev_time</th>\n      <th>time</th>\n      <th>time_category</th>\n    </tr>\n    <tr>\n      <th>tripid</th>\n      <th></th>\n      <th></th>\n      <th></th>\n      <th></th>\n      <th></th>\n    </tr>\n  </thead>\n  <tbody>\n    <tr>\n      <th>40272023622111</th>\n      <td>POINT (4.85416 52.29910)</td>\n      <td>POINT (118225.280 478824.315)</td>\n      <td>2023-06-22 01:09:05+02:00</td>\n      <td>2023-06-22 01:11:05+02:00</td>\n      <td>Other</td>\n    </tr>\n    <tr>\n      <th>386420234152330</th>\n      <td>POINT (4.92015 52.38886)</td>\n      <td>POINT (123673.073 488814.202)</td>\n      <td>2023-04-15 23:28:06+02:00</td>\n      <td>2023-04-15 23:30:06+02:00</td>\n      <td>Other</td>\n    </tr>\n    <tr>\n      <th>82262023526235</th>\n      <td>POINT (4.86059 52.35918)</td>\n      <td>POINT (119789.182 486069.806)</td>\n      <td>2023-05-26 23:03:05+02:00</td>\n      <td>2023-05-26 23:05:05+02:00</td>\n      <td>Other</td>\n    </tr>\n    <tr>\n      <th>273820232141614</th>\n      <td>POINT (4.82859 52.34292)</td>\n      <td>POINT (116470.441 483731.466)</td>\n      <td>2023-02-14 16:12:05+01:00</td>\n      <td>2023-02-14 16:14:05+01:00</td>\n      <td>Evening</td>\n    </tr>\n    <tr>\n      <th>21402023119186</th>\n      <td>POINT (4.86780 52.32748)</td>\n      <td>POINT (118887.219 482707.456)</td>\n      <td>2023-01-19 18:04:05+01:00</td>\n      <td>2023-01-19 18:06:05+01:00</td>\n      <td>Other</td>\n    </tr>\n  </tbody>\n</table>\n</div>"
     },
     "execution_count": 50,
     "metadata": {},
     "output_type": "execute_result"
    }
   ],
   "source": [
    "felyx = pd.read_pickle('../FelyxData/Raw Movement/FelyxCombined' + city).to_crs(28992)\n",
    "def categorize_time(df, datetime_column, daytime = False): #TODO move to wrangler\n",
    "    # Convert the datetime column to pandas datetime if it's not already\n",
    "    df[datetime_column] = pd.to_datetime(df[datetime_column])\n",
    "\n",
    "    # Create a new column to store the time category\n",
    "    df['time_category'] = 'Other'\n",
    "\n",
    "    # Define the time ranges\n",
    "    morning_start = pd.to_datetime('07:00:00').time()\n",
    "    morning_end = pd.to_datetime('09:00:00').time()\n",
    "    daytime_start = pd.to_datetime('09:00:00').time()\n",
    "    daytime_end = pd.to_datetime('16:00:00').time()\n",
    "    evening_start = pd.to_datetime('16:00:00').time()\n",
    "    evening_end = pd.to_datetime('18:00:00').time()\n",
    "\n",
    "    # Categorize the time for each row\n",
    "    df.loc[(df[datetime_column].dt.time >= morning_start) & (df[datetime_column].dt.time <= morning_end), 'time_category'] = 'Morning'\n",
    "    df.loc[(df[datetime_column].dt.time > evening_start) & (df[datetime_column].dt.time < evening_end), 'time_category'] = 'Evening'\n",
    "    if daytime == True:\n",
    "        df.loc[(df[datetime_column].dt.time >= daytime_start) & (df[datetime_column].dt.time <= daytime_end), 'time_category'] = 'Daytime'\n",
    "\n",
    "    return df\n",
    "felyx = categorize_time(felyx, 'prev_time')\n",
    "felyx.head()"
   ],
   "metadata": {
    "collapsed": false
   }
  },
  {
   "cell_type": "code",
   "execution_count": 51,
   "outputs": [],
   "source": [
    "def gridcounts(grid, feature, col_name):\n",
    "    joined = gpd.sjoin(feature.to_crs(28992), grid.to_crs(28992), how='left', op='within')\n",
    "    counts = joined.groupby('index_right').size()\n",
    "    grid['counts_' + col_name] = counts\n",
    "    grid['counts_' + col_name] = grid['counts_' + col_name].fillna(0)\n",
    "    return grid\n",
    "\n",
    "# grid = gridcounts(cnngrid, felyx, 'fstart')\n",
    "# grid.head()"
   ],
   "metadata": {
    "collapsed": false
   }
  },
  {
   "cell_type": "code",
   "execution_count": 52,
   "outputs": [
    {
     "data": {
      "text/plain": "<Axes: >"
     },
     "execution_count": 52,
     "metadata": {},
     "output_type": "execute_result"
    },
    {
     "data": {
      "text/plain": "<Figure size 640x480 with 1 Axes>",
      "image/png": "[encoded data removed]"
     },
     "metadata": {},
     "output_type": "display_data"
    }
   ],
   "source": [
    "cnngrid.plot()"
   ],
   "metadata": {
    "collapsed": false
   }
  },
  {
   "cell_type": "code",
   "execution_count": 53,
   "outputs": [
    {
     "name": "stdout",
     "output_type": "stream",
     "text": [
      "Other\n"
     ]
    },
    {
     "name": "stderr",
     "output_type": "stream",
     "text": [
      "/Users/joshuathomas/PycharmProjects/EmbeddedMobility/venv/lib/python3.9/site-packages/IPython/core/interactiveshell.py:3508: FutureWarning: The `op` parameter is deprecated and will be removed in a future release. Please use the `predicate` parameter instead.\n",
      "  exec(code_obj, self.user_global_ns, self.user_ns)\n"
     ]
    },
    {
     "name": "stdout",
     "output_type": "stream",
     "text": [
      "Evening\n"
     ]
    },
    {
     "name": "stderr",
     "output_type": "stream",
     "text": [
      "/Users/joshuathomas/PycharmProjects/EmbeddedMobility/venv/lib/python3.9/site-packages/IPython/core/interactiveshell.py:3508: FutureWarning: The `op` parameter is deprecated and will be removed in a future release. Please use the `predicate` parameter instead.\n",
      "  exec(code_obj, self.user_global_ns, self.user_ns)\n"
     ]
    },
    {
     "name": "stdout",
     "output_type": "stream",
     "text": [
      "Morning\n"
     ]
    },
    {
     "name": "stderr",
     "output_type": "stream",
     "text": [
      "/Users/joshuathomas/PycharmProjects/EmbeddedMobility/venv/lib/python3.9/site-packages/IPython/core/interactiveshell.py:3508: FutureWarning: The `op` parameter is deprecated and will be removed in a future release. Please use the `predicate` parameter instead.\n",
      "  exec(code_obj, self.user_global_ns, self.user_ns)\n"
     ]
    }
   ],
   "source": [
    "for time in felyx['time_category'].unique():\n",
    "    print(time)\n",
    "    subfelyx = felyx[felyx['time_category'] == time]\n",
    "    cnngrid = gridcounts(cnngrid, subfelyx, 'fstart_'+ time)"
   ],
   "metadata": {
    "collapsed": false
   }
  },
  {
   "cell_type": "code",
   "execution_count": 54,
   "outputs": [
    {
     "data": {
      "text/plain": "                                                geometry  sum_Passengers   \nindex                                                                      \n0      POLYGON ((110100.000 493800.000, 110200.000 49...             0.0  \\\n1      POLYGON ((110200.000 493800.000, 110300.000 49...             0.0   \n2      POLYGON ((110300.000 493800.000, 110400.000 49...             0.0   \n3      POLYGON ((110400.000 493800.000, 110500.000 49...             0.0   \n4      POLYGON ((110500.000 493800.000, 110600.000 49...             0.0   \n...                                                  ...             ...   \n54644  POLYGON ((135500.000 472800.000, 135600.000 47...             0.0   \n54645  POLYGON ((135600.000 472800.000, 135700.000 47...             0.0   \n54646  POLYGON ((135700.000 472800.000, 135800.000 47...             0.0   \n54647  POLYGON ((135800.000 472800.000, 135900.000 47...             0.0   \n54648  POLYGON ((135900.000 472800.000, 136000.000 47...             0.0   \n\n       area_intersected_no_parking  area_intersected_water   \nindex                                                        \n0                              0.0                     0.0  \\\n1                              0.0                     0.0   \n2                              0.0                     0.0   \n3                              0.0                     0.0   \n4                              0.0                     0.0   \n...                            ...                     ...   \n54644                          0.0                     0.0   \n54645                          0.0                     0.0   \n54646                          0.0                     0.0   \n54647                          0.0                     0.0   \n54648                          0.0                     0.0   \n\n       area_intersected_incentive  area_intersected_park  aantal_inwoners   \nindex                                                                       \n0                             0.0                    0.0            520.0  \\\n1                             0.0                    0.0            520.0   \n2                             0.0                    0.0            520.0   \n3                             0.0                    0.0            520.0   \n4                             0.0                    0.0            520.0   \n...                           ...                    ...              ...   \n54644                         0.0                    0.0            725.0   \n54645                         0.0                    0.0            725.0   \n54646                         0.0                    0.0            725.0   \n54647                         0.0                    0.0            725.0   \n54648                         0.0                    0.0            725.0   \n\n       aantal_inwoners_25_tot_45_jaar  aantal_inwoners_15_tot_25_jaar   \nindex                                                                   \n0                               110.0                            60.0  \\\n1                               110.0                            60.0   \n2                               110.0                            60.0   \n3                               110.0                            60.0   \n4                               110.0                            60.0   \n...                               ...                             ...   \n54644                           115.0                            75.0   \n54645                           115.0                            75.0   \n54646                           115.0                            75.0   \n54647                           115.0                            75.0   \n54648                           115.0                            75.0   \n\n       amenities  Horeca  university  tram  metro  counts_fstart_Other   \nindex                                                                    \n0            NaN     NaN         NaN   NaN    NaN                  0.0  \\\n1            NaN     NaN         NaN   NaN    NaN                  0.0   \n2            NaN     NaN         NaN   NaN    NaN                  0.0   \n3            NaN     NaN         NaN   NaN    NaN                  0.0   \n4            NaN     NaN         NaN   NaN    NaN                  0.0   \n...          ...     ...         ...   ...    ...                  ...   \n54644        NaN     NaN         NaN   NaN    NaN                  0.0   \n54645        NaN     NaN         NaN   NaN    NaN                  0.0   \n54646        NaN     NaN         NaN   NaN    NaN                  0.0   \n54647        NaN     NaN         NaN   NaN    NaN                  0.0   \n54648        NaN     NaN         NaN   NaN    NaN                  0.0   \n\n       counts_fstart_Evening  counts_fstart_Morning  \nindex                                                \n0                        0.0                    0.0  \n1                        0.0                    0.0  \n2                        0.0                    0.0  \n3                        0.0                    0.0  \n4                        0.0                    0.0  \n...                      ...                    ...  \n54644                    0.0                    0.0  \n54645                    0.0                    0.0  \n54646                    0.0                    0.0  \n54647                    0.0                    0.0  \n54648                    0.0                    0.0  \n\n[54649 rows x 17 columns]",
      "text/html": "<div>\n<style scoped>\n    .dataframe tbody tr th:only-of-type {\n        vertical-align: middle;\n    }\n\n    .dataframe tbody tr th {\n        vertical-align: top;\n    }\n\n    .dataframe thead th {\n        text-align: right;\n    }\n</style>\n<table border=\"1\" class=\"dataframe\">\n  <thead>\n    <tr style=\"text-align: right;\">\n      <th></th>\n      <th>geometry</th>\n      <th>sum_Passengers</th>\n      <th>area_intersected_no_parking</th>\n      <th>area_intersected_water</th>\n      <th>area_intersected_incentive</th>\n      <th>area_intersected_park</th>\n      <th>aantal_inwoners</th>\n      <th>aantal_inwoners_25_tot_45_jaar</th>\n      <th>aantal_inwoners_15_tot_25_jaar</th>\n      <th>amenities</th>\n      <th>Horeca</th>\n      <th>university</th>\n      <th>tram</th>\n      <th>metro</th>\n      <th>counts_fstart_Other</th>\n      <th>counts_fstart_Evening</th>\n      <th>counts_fstart_Morning</th>\n    </tr>\n    <tr>\n      <th>index</th>\n      <th></th>\n      <th></th>\n      <th></th>\n      <th></th>\n      <th></th>\n      <th></th>\n      <th></th>\n      <th></th>\n      <th></th>\n      <th></th>\n      <th></th>\n      <th></th>\n      <th></th>\n      <th></th>\n      <th></th>\n      <th></th>\n      <th></th>\n    </tr>\n  </thead>\n  <tbody>\n    <tr>\n      <th>0</th>\n      <td>POLYGON ((110100.000 493800.000, 110200.000 49...</td>\n      <td>0.0</td>\n      <td>0.0</td>\n      <td>0.0</td>\n      <td>0.0</td>\n      <td>0.0</td>\n      <td>520.0</td>\n      <td>110.0</td>\n      <td>60.0</td>\n      <td>NaN</td>\n      <td>NaN</td>\n      <td>NaN</td>\n      <td>NaN</td>\n      <td>NaN</td>\n      <td>0.0</td>\n      <td>0.0</td>\n      <td>0.0</td>\n    </tr>\n    <tr>\n      <th>1</th>\n      <td>POLYGON ((110200.000 493800.000, 110300.000 49...</td>\n      <td>0.0</td>\n      <td>0.0</td>\n      <td>0.0</td>\n      <td>0.0</td>\n      <td>0.0</td>\n      <td>520.0</td>\n      <td>110.0</td>\n      <td>60.0</td>\n      <td>NaN</td>\n      <td>NaN</td>\n      <td>NaN</td>\n      <td>NaN</td>\n      <td>NaN</td>\n      <td>0.0</td>\n      <td>0.0</td>\n      <td>0.0</td>\n    </tr>\n    <tr>\n      <th>2</th>\n      <td>POLYGON ((110300.000 493800.000, 110400.000 49...</td>\n      <td>0.0</td>\n      <td>0.0</td>\n      <td>0.0</td>\n      <td>0.0</td>\n      <td>0.0</td>\n      <td>520.0</td>\n      <td>110.0</td>\n      <td>60.0</td>\n      <td>NaN</td>\n      <td>NaN</td>\n      <td>NaN</td>\n      <td>NaN</td>\n      <td>NaN</td>\n      <td>0.0</td>\n      <td>0.0</td>\n      <td>0.0</td>\n    </tr>\n    <tr>\n      <th>3</th>\n      <td>POLYGON ((110400.000 493800.000, 110500.000 49...</td>\n      <td>0.0</td>\n      <td>0.0</td>\n      <td>0.0</td>\n      <td>0.0</td>\n      <td>0.0</td>\n      <td>520.0</td>\n      <td>110.0</td>\n      <td>60.0</td>\n      <td>NaN</td>\n      <td>NaN</td>\n      <td>NaN</td>\n      <td>NaN</td>\n      <td>NaN</td>\n      <td>0.0</td>\n      <td>0.0</td>\n      <td>0.0</td>\n    </tr>\n    <tr>\n      <th>4</th>\n      <td>POLYGON ((110500.000 493800.000, 110600.000 49...</td>\n      <td>0.0</td>\n      <td>0.0</td>\n      <td>0.0</td>\n      <td>0.0</td>\n      <td>0.0</td>\n      <td>520.0</td>\n      <td>110.0</td>\n      <td>60.0</td>\n      <td>NaN</td>\n      <td>NaN</td>\n      <td>NaN</td>\n      <td>NaN</td>\n      <td>NaN</td>\n      <td>0.0</td>\n      <td>0.0</td>\n      <td>0.0</td>\n    </tr>\n    <tr>\n      <th>...</th>\n      <td>...</td>\n      <td>...</td>\n      <td>...</td>\n      <td>...</td>\n      <td>...</td>\n      <td>...</td>\n      <td>...</td>\n      <td>...</td>\n      <td>...</td>\n      <td>...</td>\n      <td>...</td>\n      <td>...</td>\n      <td>...</td>\n      <td>...</td>\n      <td>...</td>\n      <td>...</td>\n      <td>...</td>\n    </tr>\n    <tr>\n      <th>54644</th>\n      <td>POLYGON ((135500.000 472800.000, 135600.000 47...</td>\n      <td>0.0</td>\n      <td>0.0</td>\n      <td>0.0</td>\n      <td>0.0</td>\n      <td>0.0</td>\n      <td>725.0</td>\n      <td>115.0</td>\n      <td>75.0</td>\n      <td>NaN</td>\n      <td>NaN</td>\n      <td>NaN</td>\n      <td>NaN</td>\n      <td>NaN</td>\n      <td>0.0</td>\n      <td>0.0</td>\n      <td>0.0</td>\n    </tr>\n    <tr>\n      <th>54645</th>\n      <td>POLYGON ((135600.000 472800.000, 135700.000 47...</td>\n      <td>0.0</td>\n      <td>0.0</td>\n      <td>0.0</td>\n      <td>0.0</td>\n      <td>0.0</td>\n      <td>725.0</td>\n      <td>115.0</td>\n      <td>75.0</td>\n      <td>NaN</td>\n      <td>NaN</td>\n      <td>NaN</td>\n      <td>NaN</td>\n      <td>NaN</td>\n      <td>0.0</td>\n      <td>0.0</td>\n      <td>0.0</td>\n    </tr>\n    <tr>\n      <th>54646</th>\n      <td>POLYGON ((135700.000 472800.000, 135800.000 47...</td>\n      <td>0.0</td>\n      <td>0.0</td>\n      <td>0.0</td>\n      <td>0.0</td>\n      <td>0.0</td>\n      <td>725.0</td>\n      <td>115.0</td>\n      <td>75.0</td>\n      <td>NaN</td>\n      <td>NaN</td>\n      <td>NaN</td>\n      <td>NaN</td>\n      <td>NaN</td>\n      <td>0.0</td>\n      <td>0.0</td>\n      <td>0.0</td>\n    </tr>\n    <tr>\n      <th>54647</th>\n      <td>POLYGON ((135800.000 472800.000, 135900.000 47...</td>\n      <td>0.0</td>\n      <td>0.0</td>\n      <td>0.0</td>\n      <td>0.0</td>\n      <td>0.0</td>\n      <td>725.0</td>\n      <td>115.0</td>\n      <td>75.0</td>\n      <td>NaN</td>\n      <td>NaN</td>\n      <td>NaN</td>\n      <td>NaN</td>\n      <td>NaN</td>\n      <td>0.0</td>\n      <td>0.0</td>\n      <td>0.0</td>\n    </tr>\n    <tr>\n      <th>54648</th>\n      <td>POLYGON ((135900.000 472800.000, 136000.000 47...</td>\n      <td>0.0</td>\n      <td>0.0</td>\n      <td>0.0</td>\n      <td>0.0</td>\n      <td>0.0</td>\n      <td>725.0</td>\n      <td>115.0</td>\n      <td>75.0</td>\n      <td>NaN</td>\n      <td>NaN</td>\n      <td>NaN</td>\n      <td>NaN</td>\n      <td>NaN</td>\n      <td>0.0</td>\n      <td>0.0</td>\n      <td>0.0</td>\n    </tr>\n  </tbody>\n</table>\n<p>54649 rows × 17 columns</p>\n</div>"
     },
     "execution_count": 54,
     "metadata": {},
     "output_type": "execute_result"
    }
   ],
   "source": [
    "cnngrid"
   ],
   "metadata": {
    "collapsed": false
   }
  },
  {
   "cell_type": "code",
   "execution_count": 55,
   "outputs": [
    {
     "data": {
      "text/plain": "<Axes: >"
     },
     "execution_count": 55,
     "metadata": {},
     "output_type": "execute_result"
    },
    {
     "data": {
      "text/plain": "<Figure size 640x480 with 2 Axes>",
      "image/png": "[encoded data removed]"
     },
     "metadata": {},
     "output_type": "display_data"
    }
   ],
   "source": [
    "cnngrid.plot(column = 'counts_fstart_Evening', legend = True, cmap = 'Reds')"
   ],
   "metadata": {
    "collapsed": false
   }
  },
  {
   "cell_type": "code",
   "execution_count": 56,
   "outputs": [],
   "source": [
    "cnngrid.to_pickle(os.path.join('../', 'CNN_Demand', 'CNN_Data', city, str(square_size)))"
   ],
   "metadata": {
    "collapsed": false
   }
  },
  {
   "cell_type": "code",
   "execution_count": null,
   "outputs": [],
   "source": [],
   "metadata": {
    "collapsed": false
   }
  }
 ],
 "metadata": {
  "kernelspec": {
   "display_name": "Python 3",
   "language": "python",
   "name": "python3"
  },
  "language_info": {
   "codemirror_mode": {
    "name": "ipython",
    "version": 2
   },
   "file_extension": ".py",
   "mimetype": "text/x-python",
   "name": "python",
   "nbconvert_exporter": "python",
   "pygments_lexer": "ipython2",
   "version": "2.7.6"
  }
 },
 "nbformat": 4,
 "nbformat_minor": 0
}
