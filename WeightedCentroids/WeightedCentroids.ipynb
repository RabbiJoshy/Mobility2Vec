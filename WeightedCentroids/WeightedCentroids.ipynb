{
 "cells": [
  {
   "cell_type": "code",
   "execution_count": 2,
   "metadata": {
    "collapsed": true
   },
   "outputs": [],
   "source": [
    "import pandas as pd\n",
    "import geopandas as gpd"
   ]
  },
  {
   "cell_type": "code",
   "execution_count": 15,
   "outputs": [],
   "source": [
    "geobuurt = gpd.read_file('geojson_lnglat.json')"
   ],
   "metadata": {
    "collapsed": false
   }
  },
  {
   "cell_type": "code",
   "execution_count": 13,
   "outputs": [],
   "source": [
    "buurtpop = pd.read_csv('2021_buurten_1_01_39e9f71bae.csv')\n",
    "buurtpop['buurt'] = buurtpop['buurt'].astype(str)\n",
    "buurtpop['buurt2']= buurtpop['buurt'].apply(lambda x: x[5:])"
   ],
   "metadata": {
    "collapsed": false
   }
  },
  {
   "cell_type": "code",
   "execution_count": 14,
   "outputs": [
    {
     "data": {
      "text/plain": "                              buurt    2016    2017    2018    2019    2020   \n0                               nan     NaN     NaN     NaN     NaN     NaN  \\\n1                  A00a Kop Zeedijk    1022    1024    1032    1035    1100   \n2               A00b Oude Kerk e.o.     673     664     689     704     728   \n3              A00c Burgwallen Oost    1616    1580    1589    1573    1613   \n4                     A00d Nes e.o.     372     360     361     352     351   \n..                              ...     ...     ...     ...     ...     ...   \n478             T97c Gein Noordoost    3439    3406    3365    3314    3268   \n479              T97d Gein Zuidoost    3348    3351    3396    3423    3375   \n480              T98a Dorp Driemond    1440    1457    1438    1486    1489   \n481  T98b Landelijk Gebied Driemond      39      68     110     120     131   \n482                       Amsterdam  834713  844952  854316  862987  872380   \n\n       2021  mannen vrouwen                     buurt2  \n0       NaN     NaN     NaN                             \n1      1114     648     466                Kop Zeedijk  \n2       700     392     308             Oude Kerk e.o.  \n3      1652     862     790            Burgwallen Oost  \n4       368     203     165                   Nes e.o.  \n..      ...     ...     ...                        ...  \n478    3248    1650    1598             Gein Noordoost  \n479    3355    1639    1716              Gein Zuidoost  \n480    1484     703     781              Dorp Driemond  \n481     143      79      64  Landelijk Gebied Driemond  \n482  872497  433052  439445                       rdam  \n\n[483 rows x 10 columns]",
      "text/html": "<div>\n<style scoped>\n    .dataframe tbody tr th:only-of-type {\n        vertical-align: middle;\n    }\n\n    .dataframe tbody tr th {\n        vertical-align: top;\n    }\n\n    .dataframe thead th {\n        text-align: right;\n    }\n</style>\n<table border=\"1\" class=\"dataframe\">\n  <thead>\n    <tr style=\"text-align: right;\">\n      <th></th>\n      <th>buurt</th>\n      <th>2016</th>\n      <th>2017</th>\n      <th>2018</th>\n      <th>2019</th>\n      <th>2020</th>\n      <th>2021</th>\n      <th>mannen</th>\n      <th>vrouwen</th>\n      <th>buurt2</th>\n    </tr>\n  </thead>\n  <tbody>\n    <tr>\n      <th>0</th>\n      <td>nan</td>\n      <td>NaN</td>\n      <td>NaN</td>\n      <td>NaN</td>\n      <td>NaN</td>\n      <td>NaN</td>\n      <td>NaN</td>\n      <td>NaN</td>\n      <td>NaN</td>\n      <td></td>\n    </tr>\n    <tr>\n      <th>1</th>\n      <td>A00a Kop Zeedijk</td>\n      <td>1022</td>\n      <td>1024</td>\n      <td>1032</td>\n      <td>1035</td>\n      <td>1100</td>\n      <td>1114</td>\n      <td>648</td>\n      <td>466</td>\n      <td>Kop Zeedijk</td>\n    </tr>\n    <tr>\n      <th>2</th>\n      <td>A00b Oude Kerk e.o.</td>\n      <td>673</td>\n      <td>664</td>\n      <td>689</td>\n      <td>704</td>\n      <td>728</td>\n      <td>700</td>\n      <td>392</td>\n      <td>308</td>\n      <td>Oude Kerk e.o.</td>\n    </tr>\n    <tr>\n      <th>3</th>\n      <td>A00c Burgwallen Oost</td>\n      <td>1616</td>\n      <td>1580</td>\n      <td>1589</td>\n      <td>1573</td>\n      <td>1613</td>\n      <td>1652</td>\n      <td>862</td>\n      <td>790</td>\n      <td>Burgwallen Oost</td>\n    </tr>\n    <tr>\n      <th>4</th>\n      <td>A00d Nes e.o.</td>\n      <td>372</td>\n      <td>360</td>\n      <td>361</td>\n      <td>352</td>\n      <td>351</td>\n      <td>368</td>\n      <td>203</td>\n      <td>165</td>\n      <td>Nes e.o.</td>\n    </tr>\n    <tr>\n      <th>...</th>\n      <td>...</td>\n      <td>...</td>\n      <td>...</td>\n      <td>...</td>\n      <td>...</td>\n      <td>...</td>\n      <td>...</td>\n      <td>...</td>\n      <td>...</td>\n      <td>...</td>\n    </tr>\n    <tr>\n      <th>478</th>\n      <td>T97c Gein Noordoost</td>\n      <td>3439</td>\n      <td>3406</td>\n      <td>3365</td>\n      <td>3314</td>\n      <td>3268</td>\n      <td>3248</td>\n      <td>1650</td>\n      <td>1598</td>\n      <td>Gein Noordoost</td>\n    </tr>\n    <tr>\n      <th>479</th>\n      <td>T97d Gein Zuidoost</td>\n      <td>3348</td>\n      <td>3351</td>\n      <td>3396</td>\n      <td>3423</td>\n      <td>3375</td>\n      <td>3355</td>\n      <td>1639</td>\n      <td>1716</td>\n      <td>Gein Zuidoost</td>\n    </tr>\n    <tr>\n      <th>480</th>\n      <td>T98a Dorp Driemond</td>\n      <td>1440</td>\n      <td>1457</td>\n      <td>1438</td>\n      <td>1486</td>\n      <td>1489</td>\n      <td>1484</td>\n      <td>703</td>\n      <td>781</td>\n      <td>Dorp Driemond</td>\n    </tr>\n    <tr>\n      <th>481</th>\n      <td>T98b Landelijk Gebied Driemond</td>\n      <td>39</td>\n      <td>68</td>\n      <td>110</td>\n      <td>120</td>\n      <td>131</td>\n      <td>143</td>\n      <td>79</td>\n      <td>64</td>\n      <td>Landelijk Gebied Driemond</td>\n    </tr>\n    <tr>\n      <th>482</th>\n      <td>Amsterdam</td>\n      <td>834713</td>\n      <td>844952</td>\n      <td>854316</td>\n      <td>862987</td>\n      <td>872380</td>\n      <td>872497</td>\n      <td>433052</td>\n      <td>439445</td>\n      <td>rdam</td>\n    </tr>\n  </tbody>\n</table>\n<p>483 rows × 10 columns</p>\n</div>"
     },
     "execution_count": 14,
     "metadata": {},
     "output_type": "execute_result"
    }
   ],
   "source": [
    "buurtpop"
   ],
   "metadata": {
    "collapsed": false
   }
  },
  {
   "cell_type": "code",
   "execution_count": 20,
   "outputs": [],
   "source": [
    "df = geobuurt[['Buurt', 'geometry']].set_index('Buurt').join(buurtpop.set_index('buurt2')[['2021']])"
   ],
   "metadata": {
    "collapsed": false
   }
  },
  {
   "cell_type": "code",
   "execution_count": 24,
   "outputs": [
    {
     "data": {
      "text/plain": "282"
     },
     "execution_count": 24,
     "metadata": {},
     "output_type": "execute_result"
    }
   ],
   "source": [
    "df['2021'].isna().sum()"
   ],
   "metadata": {
    "collapsed": false
   }
  },
  {
   "cell_type": "code",
   "execution_count": null,
   "outputs": [],
   "source": [],
   "metadata": {
    "collapsed": false
   }
  }
 ],
 "metadata": {
  "kernelspec": {
   "display_name": "Python 3",
   "language": "python",
   "name": "python3"
  },
  "language_info": {
   "codemirror_mode": {
    "name": "ipython",
    "version": 2
   },
   "file_extension": ".py",
   "mimetype": "text/x-python",
   "name": "python",
   "nbconvert_exporter": "python",
   "pygments_lexer": "ipython2",
   "version": "2.7.6"
  }
 },
 "nbformat": 4,
 "nbformat_minor": 0
}
