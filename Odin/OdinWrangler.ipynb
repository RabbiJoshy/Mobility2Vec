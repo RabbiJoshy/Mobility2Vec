{
 "cells": [
  {
   "cell_type": "code",
   "execution_count": 1,
   "outputs": [],
   "source": [
    "import pandas as pd\n",
    "import numpy as np\n",
    "import json"
   ],
   "metadata": {
    "collapsed": false
   }
  },
  {
   "cell_type": "code",
   "execution_count": 2,
   "outputs": [],
   "source": [
    "df = pd.read_pickle('odin2018-2021')"
   ],
   "metadata": {
    "collapsed": false
   }
  },
  {
   "cell_type": "code",
   "execution_count": 3,
   "outputs": [],
   "source": [
    "df = df.rename(columns={'verttijd': 'prev_time'}) #TODO\n",
    "df['seconds'] = 60*(df.datetime.dt.minute) +3600*(df.datetime.dt.hour) +df.datetime.dt.second\n",
    "seconds_in_day = 24*60*60\n",
    "df['sin_time'] = np.sin(2*np.pi*df.seconds/seconds_in_day)\n",
    "df['cos_time'] = np.cos(2*np.pi*df.seconds/seconds_in_day)\n",
    "df.drop(['seconds'], axis = 1, inplace = True)"
   ],
   "metadata": {
    "collapsed": false
   }
  },
  {
   "cell_type": "code",
   "execution_count": 4,
   "outputs": [],
   "source": [
    "with open('Explanations/otpexpl2018.json', \"r\") as json_file:\n",
    "    choice_dict = json.load(json_file)"
   ],
   "metadata": {
    "collapsed": false
   }
  },
  {
   "cell_type": "code",
   "execution_count": 5,
   "outputs": [
    {
     "data": {
      "text/plain": "['walk_distance',\n 'bike_distance',\n 'car_distance',\n 'pt_distance',\n 'walk_duration',\n 'bike_duration',\n 'car_duration',\n 'pt_duration',\n 'odin_duration',\n 'odin_distance',\n 'CanFelyx',\n 'oprijbewijsmo',\n 'oprijbewijsau',\n 'geslacht',\n 'leeftijd',\n 'herkomst',\n 'opleiding',\n 'doel',\n 'kmotiefv',\n 'hhgestinkg',\n 'hhauto',\n 'prev_time',\n 'vertpc',\n 'aankpc',\n 'sin_time',\n 'cos_time',\n 'weekdag',\n 'feestdag',\n 'jaar',\n 'maand',\n 'hvm',\n 'khvm',\n 'aank Man',\n 'aank Huurwoning',\n 'aank Age0',\n 'aank Age1',\n 'aank hh0',\n 'aank hh1',\n 'aank build_age0',\n 'aank build_age1',\n 'aank Immigration0',\n 'aank Immigration1',\n 'aank size0',\n 'aank size1',\n 'vert Man',\n 'vert Huurwoning',\n 'vert Age0',\n 'vert Age1',\n 'vert hh0',\n 'vert hh1',\n 'vert build_age0',\n 'vert build_age1',\n 'vert Immigration0',\n 'vert Immigration1',\n 'vert size0',\n 'vert size1',\n 'windspeed',\n 'temp',\n 'feelslike',\n 'precip',\n 'precipcover']"
     },
     "execution_count": 5,
     "metadata": {},
     "output_type": "execute_result"
    }
   ],
   "source": [
    "df.hvm = df.hvm.astype(int).astype(str)\n",
    "with open('../Features_Dictionary', \"r\") as json_file:\n",
    "    fd = json.load(json_file)\n",
    "use_cols = [i for sublist in [fd[x] for x in fd.keys()] for i in sublist]\n",
    "use_cols"
   ],
   "metadata": {
    "collapsed": false
   }
  },
  {
   "cell_type": "code",
   "execution_count": 6,
   "outputs": [
    {
     "data": {
      "text/plain": "['oprijbewijsmo',\n 'oprijbewijsau',\n 'geslacht',\n 'leeftijd',\n 'herkomst',\n 'opleiding',\n 'doel',\n 'kmotiefv',\n 'hhgestinkg',\n 'hhauto',\n 'weekdag',\n 'feestdag',\n 'maand',\n 'hvm',\n 'khvm']"
     },
     "execution_count": 6,
     "metadata": {},
     "output_type": "execute_result"
    }
   ],
   "source": [
    "filter_cols =[col for col in use_cols if col in list(df.columns)]\n",
    "df = df[filter_cols]\n",
    "translate_cols = [col for col in use_cols if col in list(choice_dict.keys())]\n",
    "translate_cols"
   ],
   "metadata": {
    "collapsed": false
   }
  },
  {
   "cell_type": "code",
   "execution_count": 7,
   "outputs": [
    {
     "name": "stdout",
     "output_type": "stream",
     "text": [
      "geslacht\n",
      "herkomst\n",
      "opleiding\n",
      "doel\n",
      "kmotiefv\n",
      "hhgestinkg\n",
      "hhauto\n",
      "weekdag\n",
      "feestdag\n",
      "maand\n",
      "hvm\n",
      "khvm\n"
     ]
    }
   ],
   "source": [
    "for col in translate_cols: #if 2 cats make it int\n",
    "    if col not in ['leeftijd', 'oprijbewijsau', 'oprijbewijsmo']:\n",
    "        print(col)\n",
    "        df[col] = df[col].astype(str)\n",
    "        df = df.replace({col: choice_dict[col]})"
   ],
   "metadata": {
    "collapsed": false
   }
  },
  {
   "cell_type": "code",
   "execution_count": 8,
   "outputs": [],
   "source": [
    "df[['vertpc', 'aankpc']] = df[['vertpc', 'aankpc']].astype(str)"
   ],
   "metadata": {
    "collapsed": false
   }
  },
  {
   "cell_type": "code",
   "execution_count": 9,
   "outputs": [],
   "source": [
    "df = df[df['odin_duration']<= 3600*1.5]"
   ],
   "metadata": {
    "collapsed": false
   }
  },
  {
   "cell_type": "code",
   "execution_count": 10,
   "outputs": [],
   "source": [
    "# felyxunknownint = ['hhpers', 'hhlft1', 'hhlft2', 'hhlft3', 'hhlft4', 'leeftijd', 'hhauto']\n",
    "# felyxunknowncat = [x for x in felyxunknown if x not in felyxunknownint]\n",
    "# df[felyxunknownint] = df[felyxunknownint].replace('Onbekend', '0')\n",
    "# df[felyxunknownint] = df[felyxunknownint].astype(int)"
   ],
   "metadata": {
    "collapsed": false
   }
  },
  {
   "cell_type": "code",
   "execution_count": 11,
   "outputs": [
    {
     "data": {
      "text/plain": "walk_distance    float64\nbike_distance    float64\ncar_distance     float64\npt_distance      float64\nwalk_duration    float64\nbike_duration    float64\ncar_duration     float64\npt_duration      float64\nodin_duration    float64\nodin_distance    float64\noprijbewijsmo      int64\noprijbewijsau      int64\ngeslacht          object\nleeftijd           int64\nherkomst          object\nopleiding         object\ndoel              object\nkmotiefv          object\nhhgestinkg        object\nhhauto            object\nvertpc            object\naankpc            object\nsin_time         float64\ncos_time         float64\nweekdag           object\nfeestdag          object\njaar              object\nmaand             object\nhvm               object\nkhvm              object\nwindspeed        float64\ntemp             float64\nfeelslike        float64\nprecip           float64\nprecipcover      float64\ndtype: object"
     },
     "execution_count": 11,
     "metadata": {},
     "output_type": "execute_result"
    }
   ],
   "source": [
    "df.dtypes"
   ],
   "metadata": {
    "collapsed": false
   }
  },
  {
   "cell_type": "code",
   "execution_count": 12,
   "outputs": [],
   "source": [
    "# df.isna().sum()"
   ],
   "metadata": {
    "collapsed": false
   }
  },
  {
   "cell_type": "code",
   "execution_count": 13,
   "outputs": [],
   "source": [
    "# df[df.pt_dist.isna()][['vertpc', 'aankpc', 'walk_dist', 'bike_dist', 'car_dist', 'pt_dist']]"
   ],
   "metadata": {
    "collapsed": false
   }
  },
  {
   "cell_type": "code",
   "execution_count": 14,
   "outputs": [],
   "source": [
    "df['walk_distance'] = df['walk_distance'].fillna(df['bike_distance']) #High Confidence\n",
    "df['walk_duration'] = df['walk_duration'].fillna(df['bike_duration']) #High Confidence"
   ],
   "metadata": {
    "collapsed": false
   }
  },
  {
   "cell_type": "code",
   "execution_count": 15,
   "outputs": [],
   "source": [
    "# df['pt_dur'] = df['pt_dur'].fillna(df['bike_dur']) #This is QUESTIONABLE\n",
    "# df['pt_dist'] = df['pt_dist'].fillna(df['bike_dist']) #This is QUESTIONABLE\n",
    "# df['car_dist'] = df['car_dist'].fillna(df['bike_dist']) #Medium ocnfidence\n",
    "# df['car_dur'] = df['car_dur'].fillna(df['bike_dur']) #Medium ocnfidence\n",
    "\n",
    "df = df.dropna()"
   ],
   "metadata": {
    "collapsed": false
   }
  },
  {
   "cell_type": "code",
   "execution_count": 16,
   "outputs": [],
   "source": [
    "pcdata = pd.read_pickle('../PostcodeInfo/PCData')\n",
    "pcdata.index.names = ['pc4']\n",
    "pcdata = pcdata.reset_index()"
   ],
   "metadata": {
    "collapsed": false
   }
  },
  {
   "cell_type": "code",
   "execution_count": 17,
   "outputs": [
    {
     "data": {
      "text/plain": "               walk_distance  bike_distance  car_distance  pt_distance   \nverplid                                                                  \n5924411224504         8250.0         8250.0        8257.0      14386.0  \\\n5924411224505         8250.0         8250.0        8255.0      12441.0   \n5924411224506         8250.0         8250.0        8257.0      14386.0   \n5924436281803         2564.0         2595.0        4025.0       3514.0   \n5924436281804         2564.0         2565.0        2855.0       3460.0   \n\n               walk_duration  bike_duration  car_duration  pt_duration   \nverplid                                                                  \n5924411224504         6241.0         1680.0         610.0       2336.0  \\\n5924411224505         6239.0         1679.0         607.0       1584.0   \n5924411224506         6241.0         1680.0         610.0       2336.0   \n5924436281803         2032.0          739.0         770.0       1580.0   \n5924436281804         2032.0          695.0         595.0       1602.0   \n\n               odin_duration  odin_distance  ...  feestdag  jaar    maand   \nverplid                                      ...                            \n5924411224504          900.0        10000.0  ...       Nee  2020  Januari  \\\n5924411224505         1140.0        10000.0  ...       Nee  2020  Januari   \n5924411224506         1800.0        15000.0  ...       Nee  2020  Januari   \n5924436281803          360.0         3000.0  ...       Nee  2020  Januari   \n5924436281804          360.0         3000.0  ...       Nee  2020  Januari   \n\n                        hvm                       khvm windspeed temp   \nverplid                                                                 \n5924411224504  Personenauto  Personenauto - bestuurder      34.5  6.1  \\\n5924411224505  Personenauto  Personenauto - bestuurder      34.5  6.1   \n5924411224506  Personenauto  Personenauto - bestuurder      34.5  6.1   \n5924436281803  Personenauto  Personenauto - bestuurder      34.5  6.1   \n5924436281804  Personenauto  Personenauto - bestuurder      34.5  6.1   \n\n              feelslike precip precipcover  \nverplid                                     \n5924411224504       2.1    0.0         0.0  \n5924411224505       2.1    0.0         0.0  \n5924411224506       2.1    0.0         0.0  \n5924436281803       2.1    0.0         0.0  \n5924436281804       2.1    0.0         0.0  \n\n[5 rows x 35 columns]",
      "text/html": "<div>\n<style scoped>\n    .dataframe tbody tr th:only-of-type {\n        vertical-align: middle;\n    }\n\n    .dataframe tbody tr th {\n        vertical-align: top;\n    }\n\n    .dataframe thead th {\n        text-align: right;\n    }\n</style>\n<table border=\"1\" class=\"dataframe\">\n  <thead>\n    <tr style=\"text-align: right;\">\n      <th></th>\n      <th>walk_distance</th>\n      <th>bike_distance</th>\n      <th>car_distance</th>\n      <th>pt_distance</th>\n      <th>walk_duration</th>\n      <th>bike_duration</th>\n      <th>car_duration</th>\n      <th>pt_duration</th>\n      <th>odin_duration</th>\n      <th>odin_distance</th>\n      <th>...</th>\n      <th>feestdag</th>\n      <th>jaar</th>\n      <th>maand</th>\n      <th>hvm</th>\n      <th>khvm</th>\n      <th>windspeed</th>\n      <th>temp</th>\n      <th>feelslike</th>\n      <th>precip</th>\n      <th>precipcover</th>\n    </tr>\n    <tr>\n      <th>verplid</th>\n      <th></th>\n      <th></th>\n      <th></th>\n      <th></th>\n      <th></th>\n      <th></th>\n      <th></th>\n      <th></th>\n      <th></th>\n      <th></th>\n      <th></th>\n      <th></th>\n      <th></th>\n      <th></th>\n      <th></th>\n      <th></th>\n      <th></th>\n      <th></th>\n      <th></th>\n      <th></th>\n      <th></th>\n    </tr>\n  </thead>\n  <tbody>\n    <tr>\n      <th>5924411224504</th>\n      <td>8250.0</td>\n      <td>8250.0</td>\n      <td>8257.0</td>\n      <td>14386.0</td>\n      <td>6241.0</td>\n      <td>1680.0</td>\n      <td>610.0</td>\n      <td>2336.0</td>\n      <td>900.0</td>\n      <td>10000.0</td>\n      <td>...</td>\n      <td>Nee</td>\n      <td>2020</td>\n      <td>Januari</td>\n      <td>Personenauto</td>\n      <td>Personenauto - bestuurder</td>\n      <td>34.5</td>\n      <td>6.1</td>\n      <td>2.1</td>\n      <td>0.0</td>\n      <td>0.0</td>\n    </tr>\n    <tr>\n      <th>5924411224505</th>\n      <td>8250.0</td>\n      <td>8250.0</td>\n      <td>8255.0</td>\n      <td>12441.0</td>\n      <td>6239.0</td>\n      <td>1679.0</td>\n      <td>607.0</td>\n      <td>1584.0</td>\n      <td>1140.0</td>\n      <td>10000.0</td>\n      <td>...</td>\n      <td>Nee</td>\n      <td>2020</td>\n      <td>Januari</td>\n      <td>Personenauto</td>\n      <td>Personenauto - bestuurder</td>\n      <td>34.5</td>\n      <td>6.1</td>\n      <td>2.1</td>\n      <td>0.0</td>\n      <td>0.0</td>\n    </tr>\n    <tr>\n      <th>5924411224506</th>\n      <td>8250.0</td>\n      <td>8250.0</td>\n      <td>8257.0</td>\n      <td>14386.0</td>\n      <td>6241.0</td>\n      <td>1680.0</td>\n      <td>610.0</td>\n      <td>2336.0</td>\n      <td>1800.0</td>\n      <td>15000.0</td>\n      <td>...</td>\n      <td>Nee</td>\n      <td>2020</td>\n      <td>Januari</td>\n      <td>Personenauto</td>\n      <td>Personenauto - bestuurder</td>\n      <td>34.5</td>\n      <td>6.1</td>\n      <td>2.1</td>\n      <td>0.0</td>\n      <td>0.0</td>\n    </tr>\n    <tr>\n      <th>5924436281803</th>\n      <td>2564.0</td>\n      <td>2595.0</td>\n      <td>4025.0</td>\n      <td>3514.0</td>\n      <td>2032.0</td>\n      <td>739.0</td>\n      <td>770.0</td>\n      <td>1580.0</td>\n      <td>360.0</td>\n      <td>3000.0</td>\n      <td>...</td>\n      <td>Nee</td>\n      <td>2020</td>\n      <td>Januari</td>\n      <td>Personenauto</td>\n      <td>Personenauto - bestuurder</td>\n      <td>34.5</td>\n      <td>6.1</td>\n      <td>2.1</td>\n      <td>0.0</td>\n      <td>0.0</td>\n    </tr>\n    <tr>\n      <th>5924436281804</th>\n      <td>2564.0</td>\n      <td>2565.0</td>\n      <td>2855.0</td>\n      <td>3460.0</td>\n      <td>2032.0</td>\n      <td>695.0</td>\n      <td>595.0</td>\n      <td>1602.0</td>\n      <td>360.0</td>\n      <td>3000.0</td>\n      <td>...</td>\n      <td>Nee</td>\n      <td>2020</td>\n      <td>Januari</td>\n      <td>Personenauto</td>\n      <td>Personenauto - bestuurder</td>\n      <td>34.5</td>\n      <td>6.1</td>\n      <td>2.1</td>\n      <td>0.0</td>\n      <td>0.0</td>\n    </tr>\n  </tbody>\n</table>\n<p>5 rows × 35 columns</p>\n</div>"
     },
     "execution_count": 17,
     "metadata": {},
     "output_type": "execute_result"
    }
   ],
   "source": [
    "df.head()"
   ],
   "metadata": {
    "collapsed": false
   }
  },
  {
   "cell_type": "code",
   "execution_count": 18,
   "outputs": [],
   "source": [
    "df['CanFelyx'] = df['oprijbewijsau'] & df['oprijbewijsmo']"
   ],
   "metadata": {
    "collapsed": false
   }
  },
  {
   "cell_type": "code",
   "execution_count": 19,
   "outputs": [
    {
     "data": {
      "text/plain": "{'1044',\n '1045',\n '1322',\n '1327',\n '1329',\n '3165',\n '3197',\n '3895',\n '5656',\n '9979'}"
     },
     "execution_count": 19,
     "metadata": {},
     "output_type": "execute_result"
    }
   ],
   "source": [
    "set((df.aankpc.unique())).difference(set(pcdata.pc4.unique()))  #TODO"
   ],
   "metadata": {
    "collapsed": false
   }
  },
  {
   "cell_type": "code",
   "execution_count": 20,
   "outputs": [],
   "source": [
    "df = df.reset_index()"
   ],
   "metadata": {
    "collapsed": false
   }
  },
  {
   "cell_type": "code",
   "execution_count": 21,
   "outputs": [
    {
     "data": {
      "text/plain": "282828"
     },
     "execution_count": 21,
     "metadata": {},
     "output_type": "execute_result"
    }
   ],
   "source": [
    "df = df.merge(pcdata.add_prefix('aank '), left_on='aankpc', right_on='aank pc4', how = 'inner')\n",
    "len(df)"
   ],
   "metadata": {
    "collapsed": false
   }
  },
  {
   "cell_type": "code",
   "execution_count": 22,
   "outputs": [
    {
     "data": {
      "text/plain": "282509"
     },
     "execution_count": 22,
     "metadata": {},
     "output_type": "execute_result"
    }
   ],
   "source": [
    "df = df.merge(pcdata.add_prefix('vert '), left_on='vertpc', right_on='vert pc4', how = 'inner')\n",
    "len(df)"
   ],
   "metadata": {
    "collapsed": false
   }
  },
  {
   "cell_type": "code",
   "execution_count": 23,
   "outputs": [],
   "source": [
    "df = df.drop(['aank pc4', 'vert pc4'], axis=1)"
   ],
   "metadata": {
    "collapsed": false
   }
  },
  {
   "cell_type": "code",
   "execution_count": 24,
   "outputs": [],
   "source": [
    "df = df.set_index('verplid')"
   ],
   "metadata": {
    "collapsed": false
   }
  },
  {
   "cell_type": "code",
   "execution_count": 25,
   "outputs": [
    {
     "data": {
      "text/plain": "verplid\n5924411224504    1\n5924411224506    1\n6228521441503    0\n5924411224505    1\n6228521441502    0\n                ..\n5583449869101    0\n5583449869106    0\n5583449869109    0\n5592740404801    0\n6522711165603    0\nName: CanFelyx, Length: 282509, dtype: int64"
     },
     "execution_count": 25,
     "metadata": {},
     "output_type": "execute_result"
    }
   ],
   "source": [
    "df['CanFelyx']"
   ],
   "metadata": {
    "collapsed": false
   }
  },
  {
   "cell_type": "code",
   "execution_count": 26,
   "outputs": [
    {
     "data": {
      "text/plain": "Index(['walk_distance', 'bike_distance', 'car_distance', 'pt_distance',\n       'walk_duration', 'bike_duration', 'car_duration', 'pt_duration',\n       'odin_duration', 'odin_distance', 'oprijbewijsmo', 'oprijbewijsau',\n       'geslacht', 'leeftijd', 'herkomst', 'opleiding', 'doel', 'kmotiefv',\n       'hhgestinkg', 'hhauto', 'vertpc', 'aankpc', 'sin_time', 'cos_time',\n       'weekdag', 'feestdag', 'jaar', 'maand', 'hvm', 'khvm', 'windspeed',\n       'temp', 'feelslike', 'precip', 'precipcover', 'CanFelyx', 'aank Man',\n       'aank Huurwoning', 'aank Age0', 'aank Age1', 'aank hh0', 'aank hh1',\n       'aank build_age0', 'aank build_age1', 'aank Immigration0',\n       'aank Immigration1', 'aank size0', 'aank size1', 'vert Man',\n       'vert Huurwoning', 'vert Age0', 'vert Age1', 'vert hh0', 'vert hh1',\n       'vert build_age0', 'vert build_age1', 'vert Immigration0',\n       'vert Immigration1', 'vert size0', 'vert size1'],\n      dtype='object')"
     },
     "execution_count": 26,
     "metadata": {},
     "output_type": "execute_result"
    }
   ],
   "source": [
    "df.columns"
   ],
   "metadata": {
    "collapsed": false
   }
  },
  {
   "cell_type": "code",
   "execution_count": 27,
   "outputs": [],
   "source": [
    "df.to_pickle('OdinWrangled/Odin2018-2021All')"
   ],
   "metadata": {
    "collapsed": false
   }
  },
  {
   "cell_type": "code",
   "execution_count": 28,
   "outputs": [],
   "source": [
    "df = pd.read_pickle('OdinWrangled/Odin2018-2021All')"
   ],
   "metadata": {
    "collapsed": false
   }
  },
  {
   "cell_type": "code",
   "execution_count": 29,
   "outputs": [],
   "source": [
    "#2000-2037: Haarlem\n",
    "DH = list(range(2490, 2599+ 1))\n",
    "Rdam = list(range(3011,3089+ 1))\n",
    "Adam = [str(x) for x in list(range(1011, 1109 + 1)) + list(range(1381, 1384 +1))]\n",
    "Eind = list(range(5611,5658+1)) + list(range(5660,5667+1))#Geldrop\n",
    "Tilb = list(range(5011,5049+1))\n",
    "Breda = list(range(4800-4839+1))\n",
    "HaaBloZan = list(range(2000, 2061+1))\n",
    "Ensc = list(range(7511, 7548+1))\n",
    "Urban = DH + Adam + Rdam + Eind + Tilb + Breda + HaaBloZan+ Ensc\n",
    "Urban = [str(PC) for PC in Urban]"
   ],
   "metadata": {
    "collapsed": false
   }
  },
  {
   "cell_type": "code",
   "execution_count": 30,
   "outputs": [
    {
     "data": {
      "text/plain": "74646"
     },
     "execution_count": 30,
     "metadata": {},
     "output_type": "execute_result"
    }
   ],
   "source": [
    "df = df[(df['aankpc'].isin(Urban)) | (df['vertpc'].isin(Urban))]\n",
    "df.head()\n",
    "df.to_pickle('OdinWrangled/Odin2018-2021UrbanOr')\n",
    "len(df)"
   ],
   "metadata": {
    "collapsed": false
   }
  },
  {
   "cell_type": "code",
   "execution_count": 31,
   "outputs": [
    {
     "data": {
      "text/plain": "43115"
     },
     "execution_count": 31,
     "metadata": {},
     "output_type": "execute_result"
    }
   ],
   "source": [
    "df = df[(df['aankpc'].isin(Urban)) & (df['vertpc'].isin(Urban))]\n",
    "df.head()\n",
    "df.to_pickle('OdinWrangled/Odin2018-2021UrbanAnd')\n",
    "len(df)"
   ],
   "metadata": {
    "collapsed": false
   }
  },
  {
   "cell_type": "code",
   "execution_count": 32,
   "outputs": [
    {
     "data": {
      "text/plain": "10831"
     },
     "execution_count": 32,
     "metadata": {},
     "output_type": "execute_result"
    }
   ],
   "source": [
    "df = df[(df['aankpc'].isin(Adam)) | (df['vertpc'].isin(Adam))]\n",
    "df.to_pickle('OdinWrangled/Odin2018-2021Ams')\n",
    "df.head()\n",
    "len(df)"
   ],
   "metadata": {
    "collapsed": false
   }
  },
  {
   "cell_type": "code",
   "execution_count": 33,
   "outputs": [
    {
     "name": "stdout",
     "output_type": "stream",
     "text": [
      "walk_distance\n",
      "bike_distance\n",
      "car_distance\n",
      "pt_distance\n",
      "walk_duration\n",
      "bike_duration\n",
      "car_duration\n",
      "pt_duration\n",
      "odin_duration\n",
      "odin_distance\n",
      "oprijbewijsmo\n",
      "oprijbewijsau\n",
      "geslacht\n",
      "leeftijd\n",
      "herkomst\n",
      "opleiding\n",
      "doel\n",
      "kmotiefv\n",
      "hhgestinkg\n",
      "hhauto\n",
      "vertpc\n",
      "aankpc\n",
      "sin_time\n",
      "cos_time\n",
      "weekdag\n",
      "feestdag\n",
      "jaar\n",
      "maand\n",
      "hvm\n",
      "khvm\n",
      "windspeed\n",
      "temp\n",
      "feelslike\n",
      "precip\n",
      "precipcover\n",
      "CanFelyx\n",
      "aank Man\n",
      "aank Huurwoning\n",
      "aank Age0\n",
      "aank Age1\n",
      "aank hh0\n",
      "aank hh1\n",
      "aank build_age0\n",
      "aank build_age1\n",
      "aank Immigration0\n",
      "aank Immigration1\n",
      "aank size0\n",
      "aank size1\n",
      "vert Man\n",
      "vert Huurwoning\n",
      "vert Age0\n",
      "vert Age1\n",
      "vert hh0\n",
      "vert hh1\n",
      "vert build_age0\n",
      "vert build_age1\n",
      "vert Immigration0\n",
      "vert Immigration1\n",
      "vert size0\n",
      "vert size1\n"
     ]
    }
   ],
   "source": [
    "for col in df.columns:\n",
    "    print(col)"
   ],
   "metadata": {
    "collapsed": false
   }
  },
  {
   "cell_type": "code",
   "execution_count": 34,
   "outputs": [
    {
     "data": {
      "text/plain": "Index(['walk_distance', 'bike_distance', 'car_distance', 'pt_distance',\n       'walk_duration', 'bike_duration', 'car_duration', 'pt_duration',\n       'odin_duration', 'odin_distance', 'oprijbewijsmo', 'oprijbewijsau',\n       'geslacht', 'leeftijd', 'herkomst', 'opleiding', 'doel', 'kmotiefv',\n       'hhgestinkg', 'hhauto', 'vertpc', 'aankpc', 'sin_time', 'cos_time',\n       'weekdag', 'feestdag', 'jaar', 'maand', 'hvm', 'khvm', 'windspeed',\n       'temp', 'feelslike', 'precip', 'precipcover', 'CanFelyx', 'aank Man',\n       'aank Huurwoning', 'aank Age0', 'aank Age1', 'aank hh0', 'aank hh1',\n       'aank build_age0', 'aank build_age1', 'aank Immigration0',\n       'aank Immigration1', 'aank size0', 'aank size1', 'vert Man',\n       'vert Huurwoning', 'vert Age0', 'vert Age1', 'vert hh0', 'vert hh1',\n       'vert build_age0', 'vert build_age1', 'vert Immigration0',\n       'vert Immigration1', 'vert size0', 'vert size1'],\n      dtype='object')"
     },
     "execution_count": 34,
     "metadata": {},
     "output_type": "execute_result"
    }
   ],
   "source": [
    "df.columns"
   ],
   "metadata": {
    "collapsed": false
   }
  },
  {
   "cell_type": "code",
   "execution_count": 166,
   "outputs": [
    {
     "data": {
      "text/plain": "               walk_distance  bike_distance  car_distance  pt_distance   \nverplid                                                                  \n5924436012101       115442.0       115442.0      115599.0     108471.0  \\\n5908929840003       127723.0       127723.0      120844.0     125344.0   \n6203777226002       139061.0       139061.0      132641.0     130126.0   \n5896520918202        55262.0        55262.0       73904.0      61606.0   \n5617520695004        60623.0        60623.0       86469.0      69946.0   \n\n               walk_duration  bike_duration  car_duration  pt_duration   \nverplid                                                                  \n5924436012101        24454.0        24454.0        5791.0       6083.0  \\\n5908929840003        27415.0        27415.0        5719.0       7279.0   \n6203777226002        30026.0        30026.0        5767.0       8433.0   \n5896520918202        11792.0        11792.0        3273.0       4618.0   \n5617520695004        13142.0        13142.0        4115.0       5862.0   \n\n               odin_duration  odin_distance  ...  vert Age0 vert Age1   \nverplid                                      ...                        \n5924436012101         5400.0        92000.0  ...   0.558821  0.608758  \\\n5908929840003         6900.0       125000.0  ...   0.634387  0.488797   \n6203777226002         5400.0       115000.0  ...   0.471155  0.495771   \n5896520918202         4800.0       100000.0  ...   0.428045  0.553672   \n5617520695004         6000.0        80400.0  ...   0.428045  0.553672   \n\n               vert hh0  vert hh1 vert build_age0  vert build_age1   \nverplid                                                              \n5924436012101  0.780162  0.029267        0.324323         0.136410  \\\n5908929840003  0.468565  0.036772        0.556998         0.136836   \n6203777226002  0.525805  0.034008        0.507096         0.106442   \n5896520918202  0.515782  0.038699        0.017276         0.050834   \n5617520695004  0.515782  0.038699        0.017276         0.050834   \n\n              vert Immigration0 vert Immigration1 vert size0 vert size1  \nverplid                                                                  \n5924436012101          0.304127          0.289688   0.679605   0.629883  \n5908929840003          0.381816          0.348876   0.148876   0.433592  \n6203777226002          0.304127          0.289688   0.334911   0.371523  \n5896520918202          0.424018          0.112617   0.855664   0.300975  \n5617520695004          0.424018          0.112617   0.855664   0.300975  \n\n[5 rows x 59 columns]",
      "text/html": "<div>\n<style scoped>\n    .dataframe tbody tr th:only-of-type {\n        vertical-align: middle;\n    }\n\n    .dataframe tbody tr th {\n        vertical-align: top;\n    }\n\n    .dataframe thead th {\n        text-align: right;\n    }\n</style>\n<table border=\"1\" class=\"dataframe\">\n  <thead>\n    <tr style=\"text-align: right;\">\n      <th></th>\n      <th>walk_distance</th>\n      <th>bike_distance</th>\n      <th>car_distance</th>\n      <th>pt_distance</th>\n      <th>walk_duration</th>\n      <th>bike_duration</th>\n      <th>car_duration</th>\n      <th>pt_duration</th>\n      <th>odin_duration</th>\n      <th>odin_distance</th>\n      <th>...</th>\n      <th>vert Age0</th>\n      <th>vert Age1</th>\n      <th>vert hh0</th>\n      <th>vert hh1</th>\n      <th>vert build_age0</th>\n      <th>vert build_age1</th>\n      <th>vert Immigration0</th>\n      <th>vert Immigration1</th>\n      <th>vert size0</th>\n      <th>vert size1</th>\n    </tr>\n    <tr>\n      <th>verplid</th>\n      <th></th>\n      <th></th>\n      <th></th>\n      <th></th>\n      <th></th>\n      <th></th>\n      <th></th>\n      <th></th>\n      <th></th>\n      <th></th>\n      <th></th>\n      <th></th>\n      <th></th>\n      <th></th>\n      <th></th>\n      <th></th>\n      <th></th>\n      <th></th>\n      <th></th>\n      <th></th>\n      <th></th>\n    </tr>\n  </thead>\n  <tbody>\n    <tr>\n      <th>5924436012101</th>\n      <td>115442.0</td>\n      <td>115442.0</td>\n      <td>115599.0</td>\n      <td>108471.0</td>\n      <td>24454.0</td>\n      <td>24454.0</td>\n      <td>5791.0</td>\n      <td>6083.0</td>\n      <td>5400.0</td>\n      <td>92000.0</td>\n      <td>...</td>\n      <td>0.558821</td>\n      <td>0.608758</td>\n      <td>0.780162</td>\n      <td>0.029267</td>\n      <td>0.324323</td>\n      <td>0.136410</td>\n      <td>0.304127</td>\n      <td>0.289688</td>\n      <td>0.679605</td>\n      <td>0.629883</td>\n    </tr>\n    <tr>\n      <th>5908929840003</th>\n      <td>127723.0</td>\n      <td>127723.0</td>\n      <td>120844.0</td>\n      <td>125344.0</td>\n      <td>27415.0</td>\n      <td>27415.0</td>\n      <td>5719.0</td>\n      <td>7279.0</td>\n      <td>6900.0</td>\n      <td>125000.0</td>\n      <td>...</td>\n      <td>0.634387</td>\n      <td>0.488797</td>\n      <td>0.468565</td>\n      <td>0.036772</td>\n      <td>0.556998</td>\n      <td>0.136836</td>\n      <td>0.381816</td>\n      <td>0.348876</td>\n      <td>0.148876</td>\n      <td>0.433592</td>\n    </tr>\n    <tr>\n      <th>6203777226002</th>\n      <td>139061.0</td>\n      <td>139061.0</td>\n      <td>132641.0</td>\n      <td>130126.0</td>\n      <td>30026.0</td>\n      <td>30026.0</td>\n      <td>5767.0</td>\n      <td>8433.0</td>\n      <td>5400.0</td>\n      <td>115000.0</td>\n      <td>...</td>\n      <td>0.471155</td>\n      <td>0.495771</td>\n      <td>0.525805</td>\n      <td>0.034008</td>\n      <td>0.507096</td>\n      <td>0.106442</td>\n      <td>0.304127</td>\n      <td>0.289688</td>\n      <td>0.334911</td>\n      <td>0.371523</td>\n    </tr>\n    <tr>\n      <th>5896520918202</th>\n      <td>55262.0</td>\n      <td>55262.0</td>\n      <td>73904.0</td>\n      <td>61606.0</td>\n      <td>11792.0</td>\n      <td>11792.0</td>\n      <td>3273.0</td>\n      <td>4618.0</td>\n      <td>4800.0</td>\n      <td>100000.0</td>\n      <td>...</td>\n      <td>0.428045</td>\n      <td>0.553672</td>\n      <td>0.515782</td>\n      <td>0.038699</td>\n      <td>0.017276</td>\n      <td>0.050834</td>\n      <td>0.424018</td>\n      <td>0.112617</td>\n      <td>0.855664</td>\n      <td>0.300975</td>\n    </tr>\n    <tr>\n      <th>5617520695004</th>\n      <td>60623.0</td>\n      <td>60623.0</td>\n      <td>86469.0</td>\n      <td>69946.0</td>\n      <td>13142.0</td>\n      <td>13142.0</td>\n      <td>4115.0</td>\n      <td>5862.0</td>\n      <td>6000.0</td>\n      <td>80400.0</td>\n      <td>...</td>\n      <td>0.428045</td>\n      <td>0.553672</td>\n      <td>0.515782</td>\n      <td>0.038699</td>\n      <td>0.017276</td>\n      <td>0.050834</td>\n      <td>0.424018</td>\n      <td>0.112617</td>\n      <td>0.855664</td>\n      <td>0.300975</td>\n    </tr>\n  </tbody>\n</table>\n<p>5 rows × 59 columns</p>\n</div>"
     },
     "execution_count": 166,
     "metadata": {},
     "output_type": "execute_result"
    }
   ],
   "source": [
    "df.head()"
   ],
   "metadata": {
    "collapsed": false
   }
  },
  {
   "cell_type": "code",
   "execution_count": 42,
   "outputs": [
    {
     "data": {
      "text/plain": "index                                              125261\nbike_dur                                          27415.0\nbike_dist                                        127723.0\ncar_dur                                            5719.0\ncar_dist                                         120844.0\npt_dur                                             7279.0\npt_dist                                          125344.0\nwalk_dur                                          27415.0\nwalk_dist                                        127723.0\nchoice_dur                                         6900.0\nchoice_dist                                      125000.0\noprijbewijsau                                           1\ngeslacht                                              Man\nleeftijd                                               62\nherkomst                          Nederlandse achtergrond\nopleiding            Hoger beroepsonderwijs, universiteit\ndoel                         Zakelijk bezoek in werksfeer\nkmotiefv                         Zakelijk en beroepsmatig\nvertpc                                               5651\naankpc                                               1011\nsin_time                                        -0.017452\ncos_time                                        -0.999848\nweekdag                                          Woensdag\nfeestdag                                              Nee\nhvm                                          Personenauto\nkhvm                            Personenauto - bestuurder\nwindspeed                                            16.5\ntemp                                                 14.7\nfeelslike                                            14.7\nprecip                                               3.45\nprecipcover                                         45.83\naank Man                                         0.403817\naank Huurwoning                                       0.7\naank Age0                                        0.512041\naank Age1                                        0.560963\naank hh0                                         0.733383\naank hh1                                          0.03134\naank build_age0                                  0.595611\naank build_age1                                  0.127679\naank Immigration0                                0.507699\naank Immigration1                                0.409182\naank size0                                       0.460988\naank size1                                       0.764799\nvert Man                                          0.37987\nvert Huurwoning                                       0.7\nvert Age0                                        0.634387\nvert Age1                                        0.488797\nvert hh0                                         0.468565\nvert hh1                                         0.036772\nvert build_age0                                  0.556998\nvert build_age1                                  0.136836\nvert Immigration0                                0.381816\nvert Immigration1                                0.348876\nvert size0                                       0.148876\nvert size1                                       0.433592\nName: 5908929840003, dtype: object"
     },
     "execution_count": 42,
     "metadata": {},
     "output_type": "execute_result"
    }
   ],
   "source": [
    "df.iloc[5, :]"
   ],
   "metadata": {
    "collapsed": false
   }
  },
  {
   "cell_type": "code",
   "execution_count": 130,
   "outputs": [
    {
     "ename": "AttributeError",
     "evalue": "'DataFrame' object has no attribute 'prev_time'",
     "output_type": "error",
     "traceback": [
      "\u001B[0;31m---------------------------------------------------------------------------\u001B[0m",
      "\u001B[0;31mAttributeError\u001B[0m                            Traceback (most recent call last)",
      "\u001B[0;32m/var/folders/99/r_wg55g56p13sfs9r698z04w0000gn/T/ipykernel_3897/33753782.py\u001B[0m in \u001B[0;36m?\u001B[0;34m()\u001B[0m\n\u001B[0;32m----> 1\u001B[0;31m \u001B[0mdf\u001B[0m\u001B[0;34m.\u001B[0m\u001B[0mprev_time\u001B[0m\u001B[0;34m\u001B[0m\u001B[0;34m\u001B[0m\u001B[0m\n\u001B[0m",
      "\u001B[0;32m~/PycharmProjects/EmbeddedMobility/venv/lib/python3.9/site-packages/pandas/core/generic.py\u001B[0m in \u001B[0;36m?\u001B[0;34m(self, name)\u001B[0m\n\u001B[1;32m   5985\u001B[0m             \u001B[0;32mand\u001B[0m \u001B[0mname\u001B[0m \u001B[0;32mnot\u001B[0m \u001B[0;32min\u001B[0m \u001B[0mself\u001B[0m\u001B[0;34m.\u001B[0m\u001B[0m_accessors\u001B[0m\u001B[0;34m\u001B[0m\u001B[0;34m\u001B[0m\u001B[0m\n\u001B[1;32m   5986\u001B[0m             \u001B[0;32mand\u001B[0m \u001B[0mself\u001B[0m\u001B[0;34m.\u001B[0m\u001B[0m_info_axis\u001B[0m\u001B[0;34m.\u001B[0m\u001B[0m_can_hold_identifiers_and_holds_name\u001B[0m\u001B[0;34m(\u001B[0m\u001B[0mname\u001B[0m\u001B[0;34m)\u001B[0m\u001B[0;34m\u001B[0m\u001B[0;34m\u001B[0m\u001B[0m\n\u001B[1;32m   5987\u001B[0m         ):\n\u001B[1;32m   5988\u001B[0m             \u001B[0;32mreturn\u001B[0m \u001B[0mself\u001B[0m\u001B[0;34m[\u001B[0m\u001B[0mname\u001B[0m\u001B[0;34m]\u001B[0m\u001B[0;34m\u001B[0m\u001B[0;34m\u001B[0m\u001B[0m\n\u001B[0;32m-> 5989\u001B[0;31m         \u001B[0;32mreturn\u001B[0m \u001B[0mobject\u001B[0m\u001B[0;34m.\u001B[0m\u001B[0m__getattribute__\u001B[0m\u001B[0;34m(\u001B[0m\u001B[0mself\u001B[0m\u001B[0;34m,\u001B[0m \u001B[0mname\u001B[0m\u001B[0;34m)\u001B[0m\u001B[0;34m\u001B[0m\u001B[0;34m\u001B[0m\u001B[0m\n\u001B[0m",
      "\u001B[0;31mAttributeError\u001B[0m: 'DataFrame' object has no attribute 'prev_time'"
     ]
    }
   ],
   "source": [
    "df.prev_time"
   ],
   "metadata": {
    "collapsed": false
   }
  },
  {
   "cell_type": "code",
   "execution_count": null,
   "outputs": [],
   "source": [],
   "metadata": {
    "collapsed": false
   }
  }
 ],
 "metadata": {
  "kernelspec": {
   "display_name": "Python 3",
   "language": "python",
   "name": "python3"
  },
  "language_info": {
   "codemirror_mode": {
    "name": "ipython",
    "version": 2
   },
   "file_extension": ".py",
   "mimetype": "text/x-python",
   "name": "python",
   "nbconvert_exporter": "python",
   "pygments_lexer": "ipython2",
   "version": "2.7.6"
  }
 },
 "nbformat": 4,
 "nbformat_minor": 0
}
