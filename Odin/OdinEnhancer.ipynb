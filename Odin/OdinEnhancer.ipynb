{
 "cells": [
  {
   "cell_type": "code",
   "execution_count": 28,
   "outputs": [],
   "source": [
    "import pandas as pd\n",
    "import numpy as np\n",
    "import xgboost as xgb\n",
    "from sklearn.model_selection import train_test_split\n",
    "from sklearn.metrics import accuracy_score\n",
    "from sklearn.preprocessing import LabelEncoder\n",
    "import geopandas as gpd"
   ],
   "metadata": {
    "collapsed": false
   }
  },
  {
   "cell_type": "code",
   "execution_count": 29,
   "outputs": [],
   "source": [
    "df = pd.read_csv('OdinData/odin-2018-2019-v1.0.0.csv')"
   ],
   "metadata": {
    "collapsed": false
   }
  },
  {
   "cell_type": "code",
   "execution_count": 4,
   "outputs": [],
   "source": [
    "df.set_index('verplid', inplace = True)\n",
    "df.drop(['wopc', 'wogem', 'sted', 'gemgr', 'prov', 'opid'], axis = 1, inplace = True)"
   ],
   "metadata": {
    "collapsed": false
   }
  },
  {
   "cell_type": "code",
   "execution_count": 5,
   "outputs": [],
   "source": [
    "# PCs = gpd.read_file('../PublicGeoJsons/AmsPCs.json')[['Postcode4', 'geometry']]\n",
    "# merged = df.merge(PCs, left_on = 'vertpc', right_on = 'Postcode4')\n",
    "# df = gpd.GeoDataFrame(\n",
    "#     merged,\n",
    "#     geometry= merged.geometry,\n",
    "#     crs='EPSG:4326'\n",
    "# )\n",
    "\n",
    "# merged2 = df[['aankpc']].merge(PCs, left_on = 'aankpc', right_on = 'Postcode4')\n",
    "# aank = gpd.GeoDataFrame(\n",
    "#     merged2,\n",
    "#     geometry= merged2.geometry,\n",
    "#     crs='EPSG:4326'\n",
    "# )\n",
    "\n",
    "# df['start_lon'] = aank.geometry.centroid.x\n",
    "# df['start_lat'] = aank.geometry.centroid.y\n",
    "# df['end_lon'] = df.geometry.centroid.x\n",
    "# df['end_lat'] = df.geometry.centroid.y\n",
    "#\n",
    "# df.drop(['aankpc', 'vertpc', 'geometry', 'Postcode4'], axis =1, inplace = True)"
   ],
   "metadata": {
    "collapsed": false
   }
  },
  {
   "cell_type": "code",
   "execution_count": 31,
   "outputs": [],
   "source": [
    "df.drop('aanktijd', axis =1, inplace = True)\n",
    "inf = pd.to_datetime(df['verttijd'],format= '%H:%M' )\n",
    "df['seconds'] = inf.dt.second + 60*(inf.dt.hour)\n",
    "\n",
    "seconds_in_day = 24*60*60\n",
    "# df['sin_day'] = np.sin(2*np.pi*df.weekdag/7)\n",
    "# df['cos_day'] = np.cos(2*np.pi*df.weekdag/7)\n",
    "df['sin_time'] = np.sin(2*np.pi*df.seconds/seconds_in_day)\n",
    "df['cos_time'] = np.cos(2*np.pi*df.seconds/seconds_in_day)\n",
    "\n",
    "# df.drop(['weekdag', 'seconds', 'verttijd'], axis = 1, inplace = True)\n",
    "df.drop([ 'seconds', 'verttijd'], axis = 1, inplace = True)"
   ],
   "metadata": {
    "collapsed": false
   }
  },
  {
   "cell_type": "code",
   "execution_count": 31,
   "outputs": [],
   "source": [],
   "metadata": {
    "collapsed": false
   }
  },
  {
   "cell_type": "code",
   "execution_count": 32,
   "outputs": [
    {
     "data": {
      "text/plain": "['opid',\n 'wopc',\n 'verplid',\n 'choice_dur',\n 'choice_dist',\n 'bike_dur',\n 'bike_dist',\n 'car_dur',\n 'car_dist',\n 'pt_dur',\n 'pt_dist',\n 'walk_dur',\n 'walk_dist',\n 'sin_time',\n 'cos_time']"
     },
     "execution_count": 32,
     "metadata": {},
     "output_type": "execute_result"
    }
   ],
   "source": [
    "categorical_columns = pd.read_json('OdinData/odin-col-dict.json').columns\n",
    "non_categorical_columns = [x for x in df.columns if x not in categorical_columns]\n",
    "non_categorical_columns"
   ],
   "metadata": {
    "collapsed": false
   }
  },
  {
   "cell_type": "code",
   "execution_count": 33,
   "outputs": [
    {
     "data": {
      "text/plain": "opid                 0\nhhpers               0\nhhsam                0\nhhlft1               0\nhhlft2               0\nhhlft3               0\nhhlft4               0\nwopc                 0\nwogem                0\nsted                 0\ngemgr                0\nprov                 0\ngeslacht             0\nleeftijd             0\nherkomst             0\nbetwerk              0\nonbbez               0\nopleiding            0\nhhgestinkg           0\noprijbewijsau        0\nhhauto               0\nbrandstofpa1         0\nbrandstofepa1        0\nbrandstofpa2         0\nbrandstofepa2        0\nhhefiets             0\novstkaart            0\nweekdag              0\nfeestdag             0\nverplid              0\ndoel                 0\nkmotiefv             0\nvertpc               0\naankpc               0\nkhvm                 0\nchoice_dur           0\nchoice_dist          0\nbike_dur          5654\nbike_dist         5654\ncar_dur          12917\ncar_dist         12917\npt_dur           30014\npt_dist          30014\nwalk_dur         59916\nwalk_dist        59916\nsin_time             0\ncos_time             0\ndtype: int64"
     },
     "execution_count": 33,
     "metadata": {},
     "output_type": "execute_result"
    }
   ],
   "source": [
    "df.isna().sum()\n",
    "# df.dropna(inplace = True)\n",
    "# df.fillna(0)"
   ],
   "metadata": {
    "collapsed": false
   }
  },
  {
   "cell_type": "code",
   "execution_count": 34,
   "outputs": [
    {
     "data": {
      "text/plain": "        vertpc  aankpc  walk_dist  bike_dist  car_dist  pt_dist\n0         1191    1106    7375.85    7413.49  10380.46      NaN\n1         1441    1121    7600.31    7631.54  10385.84      NaN\n2         1969    1935    9922.41   10600.68  12790.36      NaN\n3         1935    1969    9922.41   10614.76  12522.10      NaN\n4         1975    1974    4890.14    4939.30   5739.89      NaN\n...        ...     ...        ...        ...       ...      ...\n198226    1188    1185    3949.00    3951.00       NaN      NaN\n198232    1951    1561        NaN   13296.00  15185.00      NaN\n198252    8043    7938        NaN   52820.00  58293.00      NaN\n198253    7083    7091    6489.00    6489.00   7036.00      NaN\n198262    8251    8252    4729.00    4729.00   5677.00      NaN\n\n[30014 rows x 6 columns]",
      "text/html": "<div>\n<style scoped>\n    .dataframe tbody tr th:only-of-type {\n        vertical-align: middle;\n    }\n\n    .dataframe tbody tr th {\n        vertical-align: top;\n    }\n\n    .dataframe thead th {\n        text-align: right;\n    }\n</style>\n<table border=\"1\" class=\"dataframe\">\n  <thead>\n    <tr style=\"text-align: right;\">\n      <th></th>\n      <th>vertpc</th>\n      <th>aankpc</th>\n      <th>walk_dist</th>\n      <th>bike_dist</th>\n      <th>car_dist</th>\n      <th>pt_dist</th>\n    </tr>\n  </thead>\n  <tbody>\n    <tr>\n      <th>0</th>\n      <td>1191</td>\n      <td>1106</td>\n      <td>7375.85</td>\n      <td>7413.49</td>\n      <td>10380.46</td>\n      <td>NaN</td>\n    </tr>\n    <tr>\n      <th>1</th>\n      <td>1441</td>\n      <td>1121</td>\n      <td>7600.31</td>\n      <td>7631.54</td>\n      <td>10385.84</td>\n      <td>NaN</td>\n    </tr>\n    <tr>\n      <th>2</th>\n      <td>1969</td>\n      <td>1935</td>\n      <td>9922.41</td>\n      <td>10600.68</td>\n      <td>12790.36</td>\n      <td>NaN</td>\n    </tr>\n    <tr>\n      <th>3</th>\n      <td>1935</td>\n      <td>1969</td>\n      <td>9922.41</td>\n      <td>10614.76</td>\n      <td>12522.10</td>\n      <td>NaN</td>\n    </tr>\n    <tr>\n      <th>4</th>\n      <td>1975</td>\n      <td>1974</td>\n      <td>4890.14</td>\n      <td>4939.30</td>\n      <td>5739.89</td>\n      <td>NaN</td>\n    </tr>\n    <tr>\n      <th>...</th>\n      <td>...</td>\n      <td>...</td>\n      <td>...</td>\n      <td>...</td>\n      <td>...</td>\n      <td>...</td>\n    </tr>\n    <tr>\n      <th>198226</th>\n      <td>1188</td>\n      <td>1185</td>\n      <td>3949.00</td>\n      <td>3951.00</td>\n      <td>NaN</td>\n      <td>NaN</td>\n    </tr>\n    <tr>\n      <th>198232</th>\n      <td>1951</td>\n      <td>1561</td>\n      <td>NaN</td>\n      <td>13296.00</td>\n      <td>15185.00</td>\n      <td>NaN</td>\n    </tr>\n    <tr>\n      <th>198252</th>\n      <td>8043</td>\n      <td>7938</td>\n      <td>NaN</td>\n      <td>52820.00</td>\n      <td>58293.00</td>\n      <td>NaN</td>\n    </tr>\n    <tr>\n      <th>198253</th>\n      <td>7083</td>\n      <td>7091</td>\n      <td>6489.00</td>\n      <td>6489.00</td>\n      <td>7036.00</td>\n      <td>NaN</td>\n    </tr>\n    <tr>\n      <th>198262</th>\n      <td>8251</td>\n      <td>8252</td>\n      <td>4729.00</td>\n      <td>4729.00</td>\n      <td>5677.00</td>\n      <td>NaN</td>\n    </tr>\n  </tbody>\n</table>\n<p>30014 rows × 6 columns</p>\n</div>"
     },
     "execution_count": 34,
     "metadata": {},
     "output_type": "execute_result"
    }
   ],
   "source": [
    "df[df.pt_dist.isna()][['vertpc', 'aankpc', 'walk_dist', 'bike_dist', 'car_dist', 'pt_dist']]\n",
    "# df['A'].fillna(df['B'], inplace=True)"
   ],
   "metadata": {
    "collapsed": false
   }
  },
  {
   "cell_type": "code",
   "execution_count": 35,
   "outputs": [],
   "source": [
    "df['walk_dist'] = df['walk_dist'].fillna(df['bike_dist']) #High Confidence\n",
    "df['walk_dur'] = df['walk_dur'].fillna(df['bike_dur']) #High Confidence\n"
   ],
   "metadata": {
    "collapsed": false
   }
  },
  {
   "cell_type": "code",
   "execution_count": 36,
   "outputs": [],
   "source": [
    "df['pt_dist'] = df['pt_dist'].fillna(df['bike_dist']) #This is QUESTIONABLE\n",
    "df['car_dist'] = df['car_dist'].fillna(df['bike_dist']) #Medium ocnfidence\n",
    "df['car_dur'] = df['car_dur'].fillna(df['bike_dur']) #Medium ocnfidence\n",
    "df['pt_dur'] = df['pt_dur'].fillna(df['bike_dur']) #This is QUESTIONABLE\n",
    "\n",
    "df = df.dropna()\n"
   ],
   "metadata": {
    "collapsed": false
   }
  },
  {
   "cell_type": "code",
   "execution_count": 37,
   "outputs": [],
   "source": [
    "cat_cols = list(set(categorical_columns).intersection(set(df.columns)))"
   ],
   "metadata": {
    "collapsed": false
   }
  },
  {
   "cell_type": "code",
   "execution_count": 38,
   "outputs": [],
   "source": [
    "df[cat_cols] = df[cat_cols].astype('object')"
   ],
   "metadata": {
    "collapsed": false
   }
  },
  {
   "cell_type": "code",
   "execution_count": 39,
   "outputs": [
    {
     "data": {
      "text/plain": "opid               int64\nhhpers            object\nhhsam             object\nhhlft1            object\nhhlft2            object\nhhlft3            object\nhhlft4            object\nwopc               int64\nwogem             object\nsted              object\ngemgr             object\nprov              object\ngeslacht          object\nleeftijd          object\nherkomst          object\nbetwerk           object\nonbbez            object\nopleiding         object\nhhgestinkg        object\noprijbewijsau     object\nhhauto            object\nbrandstofpa1      object\nbrandstofepa1     object\nbrandstofpa2      object\nbrandstofepa2     object\nhhefiets          object\novstkaart         object\nweekdag           object\nfeestdag          object\nverplid            int64\ndoel              object\nkmotiefv          object\nvertpc            object\naankpc            object\nkhvm              object\nchoice_dur         int64\nchoice_dist        int64\nbike_dur         float64\nbike_dist        float64\ncar_dur          float64\ncar_dist         float64\npt_dur           float64\npt_dist          float64\nwalk_dur         float64\nwalk_dist        float64\nsin_time         float64\ncos_time         float64\ndtype: object"
     },
     "execution_count": 39,
     "metadata": {},
     "output_type": "execute_result"
    }
   ],
   "source": [
    "df.dtypes"
   ],
   "metadata": {
    "collapsed": false
   }
  },
  {
   "cell_type": "code",
   "execution_count": 40,
   "outputs": [],
   "source": [
    "import json\n",
    "\n",
    "with open('OdinData/odin-col-dict.json', \"r\") as json_file:\n",
    "    choice_dict = json.load(json_file)\n",
    "df.khvm = df.khvm.astype(str)\n",
    "df = df.replace({\"khvm\": choice_dict['khvm']})\n",
    "df.weekdag = df.weekdag.astype(str)\n",
    "df = df.replace({\"weekdag\": choice_dict['weekdag']})"
   ],
   "metadata": {
    "collapsed": false
   }
  },
  {
   "cell_type": "code",
   "execution_count": 41,
   "outputs": [
    {
     "data": {
      "text/plain": "0                    Bus/tram/metro\n1                             Fiets\n2         Personenauto - bestuurder\n3         Personenauto - bestuurder\n4         Personenauto - bestuurder\n                    ...            \n198267                       Overig\n198268                        Fiets\n198269                        Fiets\n198270    Personenauto - bestuurder\n198271    Personenauto - bestuurder\nName: khvm, Length: 192618, dtype: object"
     },
     "execution_count": 41,
     "metadata": {},
     "output_type": "execute_result"
    }
   ],
   "source": [
    "df['khvm']"
   ],
   "metadata": {
    "collapsed": false
   }
  },
  {
   "cell_type": "code",
   "execution_count": 44,
   "outputs": [],
   "source": [
    "pcdata = pd.read_pickle('../PostcodeInfo/PCData')\n",
    "pcdata.index.names = ['pc4']\n",
    "pcdata = pcdata.reset_index()\n",
    "#\n",
    "df.aankpc = df.aankpc.astype(str)\n",
    "df.vertpc = df.vertpc.astype(str)\n",
    "# df = df.merge(pcdata.add_prefix('aank '), left_on='aankpc', right_on='aank pc4')\n",
    "# df = df.merge(pcdata.add_prefix('vert '), left_on='vertpc', right_on='vert pc4')  #\n",
    "# df = df.drop(['aank pc4', 'vert pc4'], axis=1)"
   ],
   "metadata": {
    "collapsed": false
   }
  },
  {
   "cell_type": "code",
   "execution_count": 50,
   "outputs": [
    {
     "data": {
      "text/plain": "          opid hhpers hhsam hhlft1 hhlft2 hhlft3 hhlft4  wopc wogem sted  ...   \n0  56026580953      3     6      0      0      2      1  1191   437    3  ...  \\\n1  55902592361      4     3      1      1      0      2  1191   437    3  ...   \n2  56175225767      5     3      0      1      2      2  1191   437    3  ...   \n3  55995615859      3     3      0      0      0      3  1191   437    3  ...   \n4  59095677859      4     3      2      0      0      2  1191   437    3  ...   \n\n  vert 2005 tot 2015 vert 2015 en later vert Meergezins vert Koopwoning   \n0           0.043935           0.030398        0.087046        0.001355  \\\n1           0.043935           0.030398        0.087046        0.001355   \n2           0.043935           0.030398        0.087046        0.001355   \n3           0.043935           0.030398        0.087046        0.001355   \n4           0.043935           0.030398        0.087046        0.001355   \n\n  vert Huurwoning vert Huurcoporatie vert Niet bewoond   \n0        0.000323           0.118997          0.006961  \\\n1        0.000323           0.118997          0.006961   \n2        0.000323           0.118997          0.006961   \n3        0.000323           0.118997          0.006961   \n4        0.000323           0.118997          0.006961   \n\n  vert WOZ-waarde\\nwoning   \n0                0.000317  \\\n1                0.000317   \n2                0.000317   \n3                0.000317   \n4                0.000317   \n\n  vert Personen met WW, Bijstand en/of AO uitkering\\nBeneden AOW-leeftijd   \n0                                            0.03926                       \\\n1                                            0.03926                        \n2                                            0.03926                        \n3                                            0.03926                        \n4                                            0.03926                        \n\n  vert density  \n0     0.078487  \n1     0.078487  \n2     0.078487  \n3     0.078487  \n4     0.078487  \n\n[5 rows x 119 columns]",
      "text/html": "<div>\n<style scoped>\n    .dataframe tbody tr th:only-of-type {\n        vertical-align: middle;\n    }\n\n    .dataframe tbody tr th {\n        vertical-align: top;\n    }\n\n    .dataframe thead th {\n        text-align: right;\n    }\n</style>\n<table border=\"1\" class=\"dataframe\">\n  <thead>\n    <tr style=\"text-align: right;\">\n      <th></th>\n      <th>opid</th>\n      <th>hhpers</th>\n      <th>hhsam</th>\n      <th>hhlft1</th>\n      <th>hhlft2</th>\n      <th>hhlft3</th>\n      <th>hhlft4</th>\n      <th>wopc</th>\n      <th>wogem</th>\n      <th>sted</th>\n      <th>...</th>\n      <th>vert 2005 tot 2015</th>\n      <th>vert 2015 en later</th>\n      <th>vert Meergezins</th>\n      <th>vert Koopwoning</th>\n      <th>vert Huurwoning</th>\n      <th>vert Huurcoporatie</th>\n      <th>vert Niet bewoond</th>\n      <th>vert WOZ-waarde\\nwoning</th>\n      <th>vert Personen met WW, Bijstand en/of AO uitkering\\nBeneden AOW-leeftijd</th>\n      <th>vert density</th>\n    </tr>\n  </thead>\n  <tbody>\n    <tr>\n      <th>0</th>\n      <td>56026580953</td>\n      <td>3</td>\n      <td>6</td>\n      <td>0</td>\n      <td>0</td>\n      <td>2</td>\n      <td>1</td>\n      <td>1191</td>\n      <td>437</td>\n      <td>3</td>\n      <td>...</td>\n      <td>0.043935</td>\n      <td>0.030398</td>\n      <td>0.087046</td>\n      <td>0.001355</td>\n      <td>0.000323</td>\n      <td>0.118997</td>\n      <td>0.006961</td>\n      <td>0.000317</td>\n      <td>0.03926</td>\n      <td>0.078487</td>\n    </tr>\n    <tr>\n      <th>1</th>\n      <td>55902592361</td>\n      <td>4</td>\n      <td>3</td>\n      <td>1</td>\n      <td>1</td>\n      <td>0</td>\n      <td>2</td>\n      <td>1191</td>\n      <td>437</td>\n      <td>3</td>\n      <td>...</td>\n      <td>0.043935</td>\n      <td>0.030398</td>\n      <td>0.087046</td>\n      <td>0.001355</td>\n      <td>0.000323</td>\n      <td>0.118997</td>\n      <td>0.006961</td>\n      <td>0.000317</td>\n      <td>0.03926</td>\n      <td>0.078487</td>\n    </tr>\n    <tr>\n      <th>2</th>\n      <td>56175225767</td>\n      <td>5</td>\n      <td>3</td>\n      <td>0</td>\n      <td>1</td>\n      <td>2</td>\n      <td>2</td>\n      <td>1191</td>\n      <td>437</td>\n      <td>3</td>\n      <td>...</td>\n      <td>0.043935</td>\n      <td>0.030398</td>\n      <td>0.087046</td>\n      <td>0.001355</td>\n      <td>0.000323</td>\n      <td>0.118997</td>\n      <td>0.006961</td>\n      <td>0.000317</td>\n      <td>0.03926</td>\n      <td>0.078487</td>\n    </tr>\n    <tr>\n      <th>3</th>\n      <td>55995615859</td>\n      <td>3</td>\n      <td>3</td>\n      <td>0</td>\n      <td>0</td>\n      <td>0</td>\n      <td>3</td>\n      <td>1191</td>\n      <td>437</td>\n      <td>3</td>\n      <td>...</td>\n      <td>0.043935</td>\n      <td>0.030398</td>\n      <td>0.087046</td>\n      <td>0.001355</td>\n      <td>0.000323</td>\n      <td>0.118997</td>\n      <td>0.006961</td>\n      <td>0.000317</td>\n      <td>0.03926</td>\n      <td>0.078487</td>\n    </tr>\n    <tr>\n      <th>4</th>\n      <td>59095677859</td>\n      <td>4</td>\n      <td>3</td>\n      <td>2</td>\n      <td>0</td>\n      <td>0</td>\n      <td>2</td>\n      <td>1191</td>\n      <td>437</td>\n      <td>3</td>\n      <td>...</td>\n      <td>0.043935</td>\n      <td>0.030398</td>\n      <td>0.087046</td>\n      <td>0.001355</td>\n      <td>0.000323</td>\n      <td>0.118997</td>\n      <td>0.006961</td>\n      <td>0.000317</td>\n      <td>0.03926</td>\n      <td>0.078487</td>\n    </tr>\n  </tbody>\n</table>\n<p>5 rows × 119 columns</p>\n</div>"
     },
     "execution_count": 50,
     "metadata": {},
     "output_type": "execute_result"
    }
   ],
   "source": [
    "df = df.merge(pcdata.add_prefix('aank '), left_on='aankpc', right_on='aank pc4')\n",
    "df = df.merge(pcdata.add_prefix('vert '), left_on='vertpc', right_on='vert pc4')\n",
    "df = df.drop(['aank pc4', 'vert pc4'], axis=1)\n",
    "df.head()"
   ],
   "metadata": {
    "collapsed": false
   }
  },
  {
   "cell_type": "code",
   "execution_count": 51,
   "outputs": [],
   "source": [
    "df.to_pickle('Odin2019All')"
   ],
   "metadata": {
    "collapsed": false
   }
  },
  {
   "cell_type": "code",
   "execution_count": 65,
   "outputs": [],
   "source": [
    "df = pd.read_pickle('Odin2019All')"
   ],
   "metadata": {
    "collapsed": false
   }
  },
  {
   "cell_type": "code",
   "execution_count": 66,
   "outputs": [],
   "source": [
    "#2000-2037: Haarlem\n",
    "DH = list(range(2490, 2599+ 1))\n",
    "Rdam = list(range(3011,3089+ 1))\n",
    "Adam = [str(x) for x in list(range(1011, 1109 + 1)) + list(range(1381, 1384 +1))]\n",
    "Eind = list(range(5611,5658+1)) + list(range(5660,5667+1))#Geldrop\n",
    "Tilb = list(range(5011,5049+1))\n",
    "Breda = list(range(4800-4839+1))\n",
    "HaaBloZan = list(range(2000, 2061+1))\n",
    "Ensc = list(range(7511, 7548+1))\n",
    "Urban = DH + Adam + Rdam + Eind + Tilb + Breda + HaaBloZan+ Ensc\n",
    "Urban = [str(PC) for PC in Urban]"
   ],
   "metadata": {
    "collapsed": false
   }
  },
  {
   "cell_type": "code",
   "execution_count": 67,
   "outputs": [
    {
     "data": {
      "text/plain": "49894"
     },
     "execution_count": 67,
     "metadata": {},
     "output_type": "execute_result"
    }
   ],
   "source": [
    "df = df[(df['aankpc'].isin(Urban)) | (df['vertpc'].isin(Urban))]\n",
    "df.head()\n",
    "df.to_pickle('Odin2019UrbanOr')\n",
    "len(df)"
   ],
   "metadata": {
    "collapsed": false
   }
  },
  {
   "cell_type": "code",
   "execution_count": 68,
   "outputs": [
    {
     "data": {
      "text/plain": "26229"
     },
     "execution_count": 68,
     "metadata": {},
     "output_type": "execute_result"
    }
   ],
   "source": [
    "df = df[(df['aankpc'].isin(Urban)) & (df['vertpc'].isin(Urban))]\n",
    "df.head()\n",
    "df.to_pickle('Odin2019UrbanAnd')\n",
    "len(df)"
   ],
   "metadata": {
    "collapsed": false
   }
  },
  {
   "cell_type": "code",
   "execution_count": 68,
   "outputs": [],
   "source": [],
   "metadata": {
    "collapsed": false
   }
  },
  {
   "cell_type": "code",
   "execution_count": 69,
   "outputs": [
    {
     "data": {
      "text/plain": "7926"
     },
     "execution_count": 69,
     "metadata": {},
     "output_type": "execute_result"
    }
   ],
   "source": [
    "df = df[(df['aankpc'].isin(Adam)) | (df['vertpc'].isin(Adam))]\n",
    "df.to_pickle('Odin2019Ams')\n",
    "df.head()\n",
    "len(df)"
   ],
   "metadata": {
    "collapsed": false
   }
  },
  {
   "cell_type": "code",
   "execution_count": 25,
   "outputs": [],
   "source": [],
   "metadata": {
    "collapsed": false
   }
  },
  {
   "cell_type": "code",
   "execution_count": 25,
   "outputs": [],
   "source": [],
   "metadata": {
    "collapsed": false
   }
  },
  {
   "cell_type": "code",
   "execution_count": 25,
   "outputs": [],
   "source": [],
   "metadata": {
    "collapsed": false
   }
  },
  {
   "cell_type": "code",
   "execution_count": 25,
   "outputs": [],
   "source": [],
   "metadata": {
    "collapsed": false
   }
  },
  {
   "cell_type": "code",
   "execution_count": 25,
   "outputs": [],
   "source": [],
   "metadata": {
    "collapsed": false
   }
  },
  {
   "cell_type": "code",
   "execution_count": 25,
   "outputs": [],
   "source": [],
   "metadata": {
    "collapsed": false
   }
  },
  {
   "cell_type": "code",
   "execution_count": 26,
   "outputs": [],
   "source": [
    "# Encode categorical features as numerical labels\n",
    "le = LabelEncoder()\n",
    "for col in cat_cols:\n",
    "    df[col] = le.fit_transform(df[col])"
   ],
   "metadata": {
    "collapsed": false
   }
  },
  {
   "cell_type": "code",
   "execution_count": 27,
   "outputs": [
    {
     "ename": "ValueError",
     "evalue": "With n_samples=0, test_size=0.2 and train_size=None, the resulting train set will be empty. Adjust any of the aforementioned parameters.",
     "output_type": "error",
     "traceback": [
      "\u001B[0;31m---------------------------------------------------------------------------\u001B[0m",
      "\u001B[0;31mValueError\u001B[0m                                Traceback (most recent call last)",
      "Cell \u001B[0;32mIn[27], line 4\u001B[0m\n\u001B[1;32m      2\u001B[0m X \u001B[38;5;241m=\u001B[39m df\u001B[38;5;241m.\u001B[39mdrop(\u001B[38;5;124m'\u001B[39m\u001B[38;5;124mkhvm\u001B[39m\u001B[38;5;124m'\u001B[39m, axis\u001B[38;5;241m=\u001B[39m\u001B[38;5;241m1\u001B[39m)  \u001B[38;5;66;03m# Drop the target variable from the features\u001B[39;00m\n\u001B[1;32m      3\u001B[0m y \u001B[38;5;241m=\u001B[39m df[\u001B[38;5;124m'\u001B[39m\u001B[38;5;124mkhvm\u001B[39m\u001B[38;5;124m'\u001B[39m]\n\u001B[0;32m----> 4\u001B[0m X_train, X_test, y_train, y_test \u001B[38;5;241m=\u001B[39m \u001B[43mtrain_test_split\u001B[49m\u001B[43m(\u001B[49m\u001B[43mX\u001B[49m\u001B[43m,\u001B[49m\u001B[43m \u001B[49m\u001B[43my\u001B[49m\u001B[43m,\u001B[49m\u001B[43m \u001B[49m\u001B[43mtest_size\u001B[49m\u001B[38;5;241;43m=\u001B[39;49m\u001B[38;5;241;43m0.2\u001B[39;49m\u001B[43m,\u001B[49m\u001B[43m \u001B[49m\u001B[43mrandom_state\u001B[49m\u001B[38;5;241;43m=\u001B[39;49m\u001B[38;5;241;43m42\u001B[39;49m\u001B[43m)\u001B[49m\n\u001B[1;32m      6\u001B[0m \u001B[38;5;66;03m# Define the XGBoost classifier\u001B[39;00m\n\u001B[1;32m      7\u001B[0m clf \u001B[38;5;241m=\u001B[39m xgb\u001B[38;5;241m.\u001B[39mXGBClassifier()\n",
      "File \u001B[0;32m~/PycharmProjects/EmbeddedMobility/venv/lib/python3.9/site-packages/sklearn/model_selection/_split.py:2562\u001B[0m, in \u001B[0;36mtrain_test_split\u001B[0;34m(test_size, train_size, random_state, shuffle, stratify, *arrays)\u001B[0m\n\u001B[1;32m   2559\u001B[0m arrays \u001B[38;5;241m=\u001B[39m indexable(\u001B[38;5;241m*\u001B[39marrays)\n\u001B[1;32m   2561\u001B[0m n_samples \u001B[38;5;241m=\u001B[39m _num_samples(arrays[\u001B[38;5;241m0\u001B[39m])\n\u001B[0;32m-> 2562\u001B[0m n_train, n_test \u001B[38;5;241m=\u001B[39m \u001B[43m_validate_shuffle_split\u001B[49m\u001B[43m(\u001B[49m\n\u001B[1;32m   2563\u001B[0m \u001B[43m    \u001B[49m\u001B[43mn_samples\u001B[49m\u001B[43m,\u001B[49m\u001B[43m \u001B[49m\u001B[43mtest_size\u001B[49m\u001B[43m,\u001B[49m\u001B[43m \u001B[49m\u001B[43mtrain_size\u001B[49m\u001B[43m,\u001B[49m\u001B[43m \u001B[49m\u001B[43mdefault_test_size\u001B[49m\u001B[38;5;241;43m=\u001B[39;49m\u001B[38;5;241;43m0.25\u001B[39;49m\n\u001B[1;32m   2564\u001B[0m \u001B[43m\u001B[49m\u001B[43m)\u001B[49m\n\u001B[1;32m   2566\u001B[0m \u001B[38;5;28;01mif\u001B[39;00m shuffle \u001B[38;5;129;01mis\u001B[39;00m \u001B[38;5;28;01mFalse\u001B[39;00m:\n\u001B[1;32m   2567\u001B[0m     \u001B[38;5;28;01mif\u001B[39;00m stratify \u001B[38;5;129;01mis\u001B[39;00m \u001B[38;5;129;01mnot\u001B[39;00m \u001B[38;5;28;01mNone\u001B[39;00m:\n",
      "File \u001B[0;32m~/PycharmProjects/EmbeddedMobility/venv/lib/python3.9/site-packages/sklearn/model_selection/_split.py:2236\u001B[0m, in \u001B[0;36m_validate_shuffle_split\u001B[0;34m(n_samples, test_size, train_size, default_test_size)\u001B[0m\n\u001B[1;32m   2233\u001B[0m n_train, n_test \u001B[38;5;241m=\u001B[39m \u001B[38;5;28mint\u001B[39m(n_train), \u001B[38;5;28mint\u001B[39m(n_test)\n\u001B[1;32m   2235\u001B[0m \u001B[38;5;28;01mif\u001B[39;00m n_train \u001B[38;5;241m==\u001B[39m \u001B[38;5;241m0\u001B[39m:\n\u001B[0;32m-> 2236\u001B[0m     \u001B[38;5;28;01mraise\u001B[39;00m \u001B[38;5;167;01mValueError\u001B[39;00m(\n\u001B[1;32m   2237\u001B[0m         \u001B[38;5;124m\"\u001B[39m\u001B[38;5;124mWith n_samples=\u001B[39m\u001B[38;5;132;01m{}\u001B[39;00m\u001B[38;5;124m, test_size=\u001B[39m\u001B[38;5;132;01m{}\u001B[39;00m\u001B[38;5;124m and train_size=\u001B[39m\u001B[38;5;132;01m{}\u001B[39;00m\u001B[38;5;124m, the \u001B[39m\u001B[38;5;124m\"\u001B[39m\n\u001B[1;32m   2238\u001B[0m         \u001B[38;5;124m\"\u001B[39m\u001B[38;5;124mresulting train set will be empty. Adjust any of the \u001B[39m\u001B[38;5;124m\"\u001B[39m\n\u001B[1;32m   2239\u001B[0m         \u001B[38;5;124m\"\u001B[39m\u001B[38;5;124maforementioned parameters.\u001B[39m\u001B[38;5;124m\"\u001B[39m\u001B[38;5;241m.\u001B[39mformat(n_samples, test_size, train_size)\n\u001B[1;32m   2240\u001B[0m     )\n\u001B[1;32m   2242\u001B[0m \u001B[38;5;28;01mreturn\u001B[39;00m n_train, n_test\n",
      "\u001B[0;31mValueError\u001B[0m: With n_samples=0, test_size=0.2 and train_size=None, the resulting train set will be empty. Adjust any of the aforementioned parameters."
     ]
    }
   ],
   "source": [
    "# Split the data into train and test sets\n",
    "X = df.drop('khvm', axis=1)  # Drop the target variable from the features\n",
    "y = df['khvm']\n",
    "X_train, X_test, y_train, y_test = train_test_split(X, y, test_size=0.2, random_state=42)\n",
    "\n",
    "# Define the XGBoost classifier\n",
    "clf = xgb.XGBClassifier()\n",
    "\n",
    "# Train the classifier\n",
    "clf.fit(X_train, y_train)\n",
    "\n",
    "# Test the classifier\n",
    "y_pred = clf.predict(X_test)\n",
    "\n",
    "# Evaluate the classifier\n",
    "accuracy = accuracy_score(y_test, y_pred)\n",
    "print(f'Accuracy: {accuracy}')"
   ],
   "metadata": {
    "collapsed": false
   }
  }
 ],
 "metadata": {
  "kernelspec": {
   "display_name": "Python 3",
   "language": "python",
   "name": "python3"
  },
  "language_info": {
   "codemirror_mode": {
    "name": "ipython",
    "version": 2
   },
   "file_extension": ".py",
   "mimetype": "text/x-python",
   "name": "python",
   "nbconvert_exporter": "python",
   "pygments_lexer": "ipython2",
   "version": "2.7.6"
  }
 },
 "nbformat": 4,
 "nbformat_minor": 0
}
