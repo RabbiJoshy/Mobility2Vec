{
 "cells": [
  {
   "cell_type": "code",
   "execution_count": 1,
   "outputs": [],
   "source": [
    "import pandas as pd\n",
    "import numpy as np\n",
    "import xgboost as xgb\n",
    "from sklearn.model_selection import train_test_split\n",
    "from sklearn.metrics import accuracy_score\n",
    "from sklearn.preprocessing import LabelEncoder\n",
    "import geopandas as gpd"
   ],
   "metadata": {
    "collapsed": false
   }
  },
  {
   "cell_type": "code",
   "execution_count": 48,
   "outputs": [],
   "source": [
    "df = pd.read_csv('OdinData/odin-2018-2019-v1.0.0.csv')"
   ],
   "metadata": {
    "collapsed": false
   }
  },
  {
   "cell_type": "code",
   "execution_count": 49,
   "outputs": [],
   "source": [
    "# aim = ['vertpc', 'aankpc', 'khvm', 'weekdag', 'choice_dur', 'choice_dist', 'bike_dur', 'bike_dist', 'car_dur', 'car_dist', 'pt_dur', 'pt_dist', 'walk_dur', 'walk_dist', 'hour'"
   ],
   "metadata": {
    "collapsed": false
   }
  },
  {
   "cell_type": "code",
   "execution_count": 50,
   "outputs": [],
   "source": [
    "df.set_index('verplid', inplace = True)\n",
    "df.drop(['wopc', 'wogem', 'sted', 'gemgr', 'prov', 'opid'], axis = 1, inplace = True)"
   ],
   "metadata": {
    "collapsed": false
   }
  },
  {
   "cell_type": "code",
   "execution_count": 51,
   "outputs": [],
   "source": [
    "# PCs = gpd.read_file('../PublicGeoJsons/AmsPCs.json')[['Postcode4', 'geometry']]\n",
    "# merged = df.merge(PCs, left_on = 'vertpc', right_on = 'Postcode4')\n",
    "# df = gpd.GeoDataFrame(\n",
    "#     merged,\n",
    "#     geometry= merged.geometry,\n",
    "#     crs='EPSG:4326'\n",
    "# )"
   ],
   "metadata": {
    "collapsed": false
   }
  },
  {
   "cell_type": "code",
   "execution_count": 52,
   "outputs": [],
   "source": [
    "# merged2 = df[['aankpc']].merge(PCs, left_on = 'aankpc', right_on = 'Postcode4')\n",
    "# aank = gpd.GeoDataFrame(\n",
    "#     merged2,\n",
    "#     geometry= merged2.geometry,\n",
    "#     crs='EPSG:4326'\n",
    "# )"
   ],
   "metadata": {
    "collapsed": false
   }
  },
  {
   "cell_type": "code",
   "execution_count": 53,
   "outputs": [],
   "source": [
    "# df['start_lon'] = aank.geometry.centroid.x\n",
    "# df['start_lat'] = aank.geometry.centroid.y\n",
    "# df['end_lon'] = df.geometry.centroid.x\n",
    "# df['end_lat'] = df.geometry.centroid.y\n",
    "#\n",
    "# df.drop(['aankpc', 'vertpc', 'geometry', 'Postcode4'], axis =1, inplace = True)"
   ],
   "metadata": {
    "collapsed": false
   }
  },
  {
   "cell_type": "code",
   "execution_count": 54,
   "outputs": [],
   "source": [
    "df.drop('aanktijd', axis =1, inplace = True)\n",
    "inf = pd.to_datetime(df['verttijd'],format= '%H:%M' )\n",
    "df['seconds'] = inf.dt.second + 60*(inf.dt.hour)\n",
    "\n",
    "seconds_in_day = 24*60*60\n",
    "# df['sin_day'] = np.sin(2*np.pi*df.weekdag/7)\n",
    "# df['cos_day'] = np.cos(2*np.pi*df.weekdag/7)\n",
    "df['sin_time'] = np.sin(2*np.pi*df.seconds/seconds_in_day)\n",
    "df['cos_time'] = np.cos(2*np.pi*df.seconds/seconds_in_day)\n",
    "\n",
    "# df.drop(['weekdag', 'seconds', 'verttijd'], axis = 1, inplace = True)\n",
    "df.drop([ 'seconds', 'verttijd'], axis = 1, inplace = True)"
   ],
   "metadata": {
    "collapsed": false
   }
  },
  {
   "cell_type": "code",
   "execution_count": 54,
   "outputs": [],
   "source": [],
   "metadata": {
    "collapsed": false
   }
  },
  {
   "cell_type": "code",
   "execution_count": 55,
   "outputs": [
    {
     "data": {
      "text/plain": "['choice_dur',\n 'choice_dist',\n 'bike_dur',\n 'bike_dist',\n 'car_dur',\n 'car_dist',\n 'pt_dur',\n 'pt_dist',\n 'walk_dur',\n 'walk_dist',\n 'sin_time',\n 'cos_time']"
     },
     "execution_count": 55,
     "metadata": {},
     "output_type": "execute_result"
    }
   ],
   "source": [
    "categorical_columns = pd.read_json('OdinData/odin-col-dict.json').columns\n",
    "non_categorical_columns = [x for x in df.columns if x not in categorical_columns]\n",
    "non_categorical_columns"
   ],
   "metadata": {
    "collapsed": false
   }
  },
  {
   "cell_type": "code",
   "execution_count": 56,
   "outputs": [
    {
     "data": {
      "text/plain": "hhpers               0\nhhsam                0\nhhlft1               0\nhhlft2               0\nhhlft3               0\nhhlft4               0\ngeslacht             0\nleeftijd             0\nherkomst             0\nbetwerk              0\nonbbez               0\nopleiding            0\nhhgestinkg           0\noprijbewijsau        0\nhhauto               0\nbrandstofpa1         0\nbrandstofepa1        0\nbrandstofpa2         0\nbrandstofepa2        0\nhhefiets             0\novstkaart            0\nweekdag              0\nfeestdag             0\ndoel                 0\nkmotiefv             0\nvertpc               0\naankpc               0\nkhvm                 0\nchoice_dur           0\nchoice_dist          0\nbike_dur          5654\nbike_dist         5654\ncar_dur          12917\ncar_dist         12917\npt_dur           30014\npt_dist          30014\nwalk_dur         59916\nwalk_dist        59916\nsin_time             0\ncos_time             0\ndtype: int64"
     },
     "execution_count": 56,
     "metadata": {},
     "output_type": "execute_result"
    }
   ],
   "source": [
    "df.isna().sum()\n",
    "# df.dropna(inplace = True)\n",
    "# df.fillna(0)"
   ],
   "metadata": {
    "collapsed": false
   }
  },
  {
   "cell_type": "code",
   "execution_count": 57,
   "outputs": [
    {
     "data": {
      "text/plain": "               vertpc  aankpc  walk_dist  bike_dist  car_dist  pt_dist\nverplid                                                               \n5602658095301    1191    1106    7375.85    7413.49  10380.46      NaN\n5602658752503    1441    1121    7600.31    7631.54  10385.84      NaN\n5602656133007    1969    1935    9922.41   10600.68  12790.36      NaN\n5602656133008    1935    1969    9922.41   10614.76  12522.10      NaN\n5602659574002    1975    1974    4890.14    4939.30   5739.89      NaN\n...               ...     ...        ...        ...       ...      ...\n5909567172101    1188    1185    3949.00    3951.00       NaN      NaN\n5909577786502    1951    1561        NaN   13296.00  15185.00      NaN\n5912013465803    8043    7938        NaN   52820.00  58293.00      NaN\n5912013515406    7083    7091    6489.00    6489.00   7036.00      NaN\n5912016138002    8251    8252    4729.00    4729.00   5677.00      NaN\n\n[30014 rows x 6 columns]",
      "text/html": "<div>\n<style scoped>\n    .dataframe tbody tr th:only-of-type {\n        vertical-align: middle;\n    }\n\n    .dataframe tbody tr th {\n        vertical-align: top;\n    }\n\n    .dataframe thead th {\n        text-align: right;\n    }\n</style>\n<table border=\"1\" class=\"dataframe\">\n  <thead>\n    <tr style=\"text-align: right;\">\n      <th></th>\n      <th>vertpc</th>\n      <th>aankpc</th>\n      <th>walk_dist</th>\n      <th>bike_dist</th>\n      <th>car_dist</th>\n      <th>pt_dist</th>\n    </tr>\n    <tr>\n      <th>verplid</th>\n      <th></th>\n      <th></th>\n      <th></th>\n      <th></th>\n      <th></th>\n      <th></th>\n    </tr>\n  </thead>\n  <tbody>\n    <tr>\n      <th>5602658095301</th>\n      <td>1191</td>\n      <td>1106</td>\n      <td>7375.85</td>\n      <td>7413.49</td>\n      <td>10380.46</td>\n      <td>NaN</td>\n    </tr>\n    <tr>\n      <th>5602658752503</th>\n      <td>1441</td>\n      <td>1121</td>\n      <td>7600.31</td>\n      <td>7631.54</td>\n      <td>10385.84</td>\n      <td>NaN</td>\n    </tr>\n    <tr>\n      <th>5602656133007</th>\n      <td>1969</td>\n      <td>1935</td>\n      <td>9922.41</td>\n      <td>10600.68</td>\n      <td>12790.36</td>\n      <td>NaN</td>\n    </tr>\n    <tr>\n      <th>5602656133008</th>\n      <td>1935</td>\n      <td>1969</td>\n      <td>9922.41</td>\n      <td>10614.76</td>\n      <td>12522.10</td>\n      <td>NaN</td>\n    </tr>\n    <tr>\n      <th>5602659574002</th>\n      <td>1975</td>\n      <td>1974</td>\n      <td>4890.14</td>\n      <td>4939.30</td>\n      <td>5739.89</td>\n      <td>NaN</td>\n    </tr>\n    <tr>\n      <th>...</th>\n      <td>...</td>\n      <td>...</td>\n      <td>...</td>\n      <td>...</td>\n      <td>...</td>\n      <td>...</td>\n    </tr>\n    <tr>\n      <th>5909567172101</th>\n      <td>1188</td>\n      <td>1185</td>\n      <td>3949.00</td>\n      <td>3951.00</td>\n      <td>NaN</td>\n      <td>NaN</td>\n    </tr>\n    <tr>\n      <th>5909577786502</th>\n      <td>1951</td>\n      <td>1561</td>\n      <td>NaN</td>\n      <td>13296.00</td>\n      <td>15185.00</td>\n      <td>NaN</td>\n    </tr>\n    <tr>\n      <th>5912013465803</th>\n      <td>8043</td>\n      <td>7938</td>\n      <td>NaN</td>\n      <td>52820.00</td>\n      <td>58293.00</td>\n      <td>NaN</td>\n    </tr>\n    <tr>\n      <th>5912013515406</th>\n      <td>7083</td>\n      <td>7091</td>\n      <td>6489.00</td>\n      <td>6489.00</td>\n      <td>7036.00</td>\n      <td>NaN</td>\n    </tr>\n    <tr>\n      <th>5912016138002</th>\n      <td>8251</td>\n      <td>8252</td>\n      <td>4729.00</td>\n      <td>4729.00</td>\n      <td>5677.00</td>\n      <td>NaN</td>\n    </tr>\n  </tbody>\n</table>\n<p>30014 rows × 6 columns</p>\n</div>"
     },
     "execution_count": 57,
     "metadata": {},
     "output_type": "execute_result"
    }
   ],
   "source": [
    "df[df.pt_dist.isna()][['vertpc', 'aankpc', 'walk_dist', 'bike_dist', 'car_dist', 'pt_dist']]\n",
    "# df['A'].fillna(df['B'], inplace=True)"
   ],
   "metadata": {
    "collapsed": false
   }
  },
  {
   "cell_type": "code",
   "execution_count": 58,
   "outputs": [],
   "source": [
    "df['walk_dist'] = df['walk_dist'].fillna(df['bike_dist']) #High Confidence\n",
    "df['walk_dur'] = df['walk_dur'].fillna(df['bike_dur']) #High Confidence\n"
   ],
   "metadata": {
    "collapsed": false
   }
  },
  {
   "cell_type": "code",
   "execution_count": 59,
   "outputs": [],
   "source": [
    "df['pt_dist'] = df['pt_dist'].fillna(df['bike_dist']) #This is QUESTIONABLE\n",
    "df['car_dist'] = df['car_dist'].fillna(df['bike_dist']) #Medium ocnfidence\n",
    "df['car_dur'] = df['car_dur'].fillna(df['bike_dur']) #Medium ocnfidence\n",
    "df['pt_dur'] = df['pt_dur'].fillna(df['bike_dur']) #This is QUESTIONABLE\n",
    "\n",
    "df = df.dropna()\n"
   ],
   "metadata": {
    "collapsed": false
   }
  },
  {
   "cell_type": "code",
   "execution_count": 60,
   "outputs": [],
   "source": [
    "cat_cols = list(set(categorical_columns).intersection(set(df.columns)))"
   ],
   "metadata": {
    "collapsed": false
   }
  },
  {
   "cell_type": "code",
   "execution_count": 61,
   "outputs": [],
   "source": [
    "df[cat_cols] = df[cat_cols].astype('object')"
   ],
   "metadata": {
    "collapsed": false
   }
  },
  {
   "cell_type": "code",
   "execution_count": 62,
   "outputs": [
    {
     "data": {
      "text/plain": "hhpers            object\nhhsam             object\nhhlft1            object\nhhlft2            object\nhhlft3            object\nhhlft4            object\ngeslacht          object\nleeftijd          object\nherkomst          object\nbetwerk           object\nonbbez            object\nopleiding         object\nhhgestinkg        object\noprijbewijsau     object\nhhauto            object\nbrandstofpa1      object\nbrandstofepa1     object\nbrandstofpa2      object\nbrandstofepa2     object\nhhefiets          object\novstkaart         object\nweekdag           object\nfeestdag          object\ndoel              object\nkmotiefv          object\nvertpc            object\naankpc            object\nkhvm              object\nchoice_dur         int64\nchoice_dist        int64\nbike_dur         float64\nbike_dist        float64\ncar_dur          float64\ncar_dist         float64\npt_dur           float64\npt_dist          float64\nwalk_dur         float64\nwalk_dist        float64\nsin_time         float64\ncos_time         float64\ndtype: object"
     },
     "execution_count": 62,
     "metadata": {},
     "output_type": "execute_result"
    }
   ],
   "source": [
    "df.dtypes"
   ],
   "metadata": {
    "collapsed": false
   }
  },
  {
   "cell_type": "code",
   "execution_count": 63,
   "outputs": [],
   "source": [
    "import json\n",
    "\n",
    "with open('OdinData/odin-col-dict.json', \"r\") as json_file:\n",
    "    choice_dict = json.load(json_file)\n",
    "df.khvm = df.khvm.astype(str)\n",
    "df = df.replace({\"khvm\": choice_dict['khvm']})\n",
    "df.weekdag = df.weekdag.astype(str)\n",
    "df = df.replace({\"weekdag\": choice_dict['weekdag']})"
   ],
   "metadata": {
    "collapsed": false
   }
  },
  {
   "cell_type": "code",
   "execution_count": 64,
   "outputs": [
    {
     "data": {
      "text/plain": "verplid\n5602658095301               Bus/tram/metro\n5602658752503                        Fiets\n5602656133007    Personenauto - bestuurder\n5602656133008    Personenauto - bestuurder\n5602659574002    Personenauto - bestuurder\n                           ...            \n5912017839903                       Overig\n5912017849203                        Fiets\n5912018010402                        Fiets\n5912018118903    Personenauto - bestuurder\n5912018118904    Personenauto - bestuurder\nName: khvm, Length: 192618, dtype: object"
     },
     "execution_count": 64,
     "metadata": {},
     "output_type": "execute_result"
    }
   ],
   "source": [
    "df['khvm']"
   ],
   "metadata": {
    "collapsed": false
   }
  },
  {
   "cell_type": "code",
   "execution_count": 65,
   "outputs": [],
   "source": [
    "df.to_pickle('Odin2019All')"
   ],
   "metadata": {
    "collapsed": false
   }
  },
  {
   "cell_type": "code",
   "execution_count": 70,
   "outputs": [],
   "source": [
    "df = pd.read_pickle('Odin2019All')"
   ],
   "metadata": {
    "collapsed": false
   }
  },
  {
   "cell_type": "code",
   "execution_count": 67,
   "outputs": [],
   "source": [
    "#2000-2037: Haarlem\n",
    "DH = list(range(2490, 2599+ 1))\n",
    "Rdam = list(range(3011,3089+ 1))\n",
    "Adam = list(range(1011, 1109 + 1)) + list(range(1381, 1384 +1))\n",
    "Eind = list(range(5611,5658+1)) + list(range(5660,5667+1))#Geldrop\n",
    "Tilb = list(range(5011,5049+1))\n",
    "Breda = list(range(4800-4839+1))\n",
    "HaaBloZan = list(range(2000, 2061+1))\n",
    "Ensc = list(range(7511, 7548+1))\n",
    "Urban = DH + Adam + Rdam + Eind + Tilb + Breda + HaaBloZan+ Ensc"
   ],
   "metadata": {
    "collapsed": false
   }
  },
  {
   "cell_type": "code",
   "execution_count": 68,
   "outputs": [
    {
     "data": {
      "text/plain": "50093"
     },
     "execution_count": 68,
     "metadata": {},
     "output_type": "execute_result"
    }
   ],
   "source": [
    "df = df[(df['aankpc'].isin(Urban)) | (df['vertpc'].isin(Urban))]\n",
    "df.head()\n",
    "df.to_pickle('Odin2019UrbanOr')\n",
    "len(df)"
   ],
   "metadata": {
    "collapsed": false
   }
  },
  {
   "cell_type": "code",
   "execution_count": 69,
   "outputs": [
    {
     "data": {
      "text/plain": "26287"
     },
     "execution_count": 69,
     "metadata": {},
     "output_type": "execute_result"
    }
   ],
   "source": [
    "df = df[(df['aankpc'].isin(Urban)) & (df['vertpc'].isin(Urban))]\n",
    "df.head()\n",
    "df.to_pickle('Odin2019UrbanAnd')\n",
    "len(df)"
   ],
   "metadata": {
    "collapsed": false
   }
  },
  {
   "cell_type": "code",
   "execution_count": 34,
   "outputs": [],
   "source": [],
   "metadata": {
    "collapsed": false
   }
  },
  {
   "cell_type": "code",
   "execution_count": 71,
   "outputs": [
    {
     "data": {
      "text/plain": "14801"
     },
     "execution_count": 71,
     "metadata": {},
     "output_type": "execute_result"
    }
   ],
   "source": [
    "df = df[(df['aankpc'].isin(Adam)) | (df['vertpc'].isin(Adam))]\n",
    "df.to_pickle('Odin2019Ams')\n",
    "df.head()\n",
    "len(df)"
   ],
   "metadata": {
    "collapsed": false
   }
  },
  {
   "cell_type": "code",
   "execution_count": null,
   "outputs": [],
   "source": [],
   "metadata": {
    "collapsed": false
   }
  },
  {
   "cell_type": "code",
   "execution_count": null,
   "outputs": [],
   "source": [],
   "metadata": {
    "collapsed": false
   }
  },
  {
   "cell_type": "code",
   "execution_count": null,
   "outputs": [],
   "source": [],
   "metadata": {
    "collapsed": false
   }
  },
  {
   "cell_type": "code",
   "execution_count": null,
   "outputs": [],
   "source": [],
   "metadata": {
    "collapsed": false
   }
  },
  {
   "cell_type": "code",
   "execution_count": null,
   "outputs": [],
   "source": [],
   "metadata": {
    "collapsed": false
   }
  },
  {
   "cell_type": "code",
   "execution_count": null,
   "outputs": [],
   "source": [],
   "metadata": {
    "collapsed": false
   }
  },
  {
   "cell_type": "code",
   "execution_count": 18,
   "outputs": [],
   "source": [
    "# Encode categorical features as numerical labels\n",
    "le = LabelEncoder()\n",
    "for col in cat_cols:\n",
    "    df[col] = le.fit_transform(df[col])"
   ],
   "metadata": {
    "collapsed": false
   }
  },
  {
   "cell_type": "code",
   "execution_count": 17,
   "outputs": [
    {
     "ename": "KeyboardInterrupt",
     "evalue": "",
     "output_type": "error",
     "traceback": [
      "\u001B[0;31m---------------------------------------------------------------------------\u001B[0m",
      "\u001B[0;31mKeyboardInterrupt\u001B[0m                         Traceback (most recent call last)",
      "Cell \u001B[0;32mIn[17], line 10\u001B[0m\n\u001B[1;32m      7\u001B[0m clf \u001B[38;5;241m=\u001B[39m xgb\u001B[38;5;241m.\u001B[39mXGBClassifier()\n\u001B[1;32m      9\u001B[0m \u001B[38;5;66;03m# Train the classifier\u001B[39;00m\n\u001B[0;32m---> 10\u001B[0m \u001B[43mclf\u001B[49m\u001B[38;5;241;43m.\u001B[39;49m\u001B[43mfit\u001B[49m\u001B[43m(\u001B[49m\u001B[43mX_train\u001B[49m\u001B[43m,\u001B[49m\u001B[43m \u001B[49m\u001B[43my_train\u001B[49m\u001B[43m)\u001B[49m\n\u001B[1;32m     12\u001B[0m \u001B[38;5;66;03m# Test the classifier\u001B[39;00m\n\u001B[1;32m     13\u001B[0m y_pred \u001B[38;5;241m=\u001B[39m clf\u001B[38;5;241m.\u001B[39mpredict(X_test)\n",
      "File \u001B[0;32m~/PycharmProjects/EmbeddedMobility/venv/lib/python3.9/site-packages/xgboost/core.py:620\u001B[0m, in \u001B[0;36mrequire_keyword_args.<locals>.throw_if.<locals>.inner_f\u001B[0;34m(*args, **kwargs)\u001B[0m\n\u001B[1;32m    618\u001B[0m \u001B[38;5;28;01mfor\u001B[39;00m k, arg \u001B[38;5;129;01min\u001B[39;00m \u001B[38;5;28mzip\u001B[39m(sig\u001B[38;5;241m.\u001B[39mparameters, args):\n\u001B[1;32m    619\u001B[0m     kwargs[k] \u001B[38;5;241m=\u001B[39m arg\n\u001B[0;32m--> 620\u001B[0m \u001B[38;5;28;01mreturn\u001B[39;00m \u001B[43mfunc\u001B[49m\u001B[43m(\u001B[49m\u001B[38;5;241;43m*\u001B[39;49m\u001B[38;5;241;43m*\u001B[39;49m\u001B[43mkwargs\u001B[49m\u001B[43m)\u001B[49m\n",
      "File \u001B[0;32m~/PycharmProjects/EmbeddedMobility/venv/lib/python3.9/site-packages/xgboost/sklearn.py:1490\u001B[0m, in \u001B[0;36mXGBClassifier.fit\u001B[0;34m(self, X, y, sample_weight, base_margin, eval_set, eval_metric, early_stopping_rounds, verbose, xgb_model, sample_weight_eval_set, base_margin_eval_set, feature_weights, callbacks)\u001B[0m\n\u001B[1;32m   1462\u001B[0m (\n\u001B[1;32m   1463\u001B[0m     model,\n\u001B[1;32m   1464\u001B[0m     metric,\n\u001B[0;32m   (...)\u001B[0m\n\u001B[1;32m   1469\u001B[0m     xgb_model, eval_metric, params, early_stopping_rounds, callbacks\n\u001B[1;32m   1470\u001B[0m )\n\u001B[1;32m   1471\u001B[0m train_dmatrix, evals \u001B[38;5;241m=\u001B[39m _wrap_evaluation_matrices(\n\u001B[1;32m   1472\u001B[0m     missing\u001B[38;5;241m=\u001B[39m\u001B[38;5;28mself\u001B[39m\u001B[38;5;241m.\u001B[39mmissing,\n\u001B[1;32m   1473\u001B[0m     X\u001B[38;5;241m=\u001B[39mX,\n\u001B[0;32m   (...)\u001B[0m\n\u001B[1;32m   1487\u001B[0m     feature_types\u001B[38;5;241m=\u001B[39m\u001B[38;5;28mself\u001B[39m\u001B[38;5;241m.\u001B[39mfeature_types,\n\u001B[1;32m   1488\u001B[0m )\n\u001B[0;32m-> 1490\u001B[0m \u001B[38;5;28mself\u001B[39m\u001B[38;5;241m.\u001B[39m_Booster \u001B[38;5;241m=\u001B[39m \u001B[43mtrain\u001B[49m\u001B[43m(\u001B[49m\n\u001B[1;32m   1491\u001B[0m \u001B[43m    \u001B[49m\u001B[43mparams\u001B[49m\u001B[43m,\u001B[49m\n\u001B[1;32m   1492\u001B[0m \u001B[43m    \u001B[49m\u001B[43mtrain_dmatrix\u001B[49m\u001B[43m,\u001B[49m\n\u001B[1;32m   1493\u001B[0m \u001B[43m    \u001B[49m\u001B[38;5;28;43mself\u001B[39;49m\u001B[38;5;241;43m.\u001B[39;49m\u001B[43mget_num_boosting_rounds\u001B[49m\u001B[43m(\u001B[49m\u001B[43m)\u001B[49m\u001B[43m,\u001B[49m\n\u001B[1;32m   1494\u001B[0m \u001B[43m    \u001B[49m\u001B[43mevals\u001B[49m\u001B[38;5;241;43m=\u001B[39;49m\u001B[43mevals\u001B[49m\u001B[43m,\u001B[49m\n\u001B[1;32m   1495\u001B[0m \u001B[43m    \u001B[49m\u001B[43mearly_stopping_rounds\u001B[49m\u001B[38;5;241;43m=\u001B[39;49m\u001B[43mearly_stopping_rounds\u001B[49m\u001B[43m,\u001B[49m\n\u001B[1;32m   1496\u001B[0m \u001B[43m    \u001B[49m\u001B[43mevals_result\u001B[49m\u001B[38;5;241;43m=\u001B[39;49m\u001B[43mevals_result\u001B[49m\u001B[43m,\u001B[49m\n\u001B[1;32m   1497\u001B[0m \u001B[43m    \u001B[49m\u001B[43mobj\u001B[49m\u001B[38;5;241;43m=\u001B[39;49m\u001B[43mobj\u001B[49m\u001B[43m,\u001B[49m\n\u001B[1;32m   1498\u001B[0m \u001B[43m    \u001B[49m\u001B[43mcustom_metric\u001B[49m\u001B[38;5;241;43m=\u001B[39;49m\u001B[43mmetric\u001B[49m\u001B[43m,\u001B[49m\n\u001B[1;32m   1499\u001B[0m \u001B[43m    \u001B[49m\u001B[43mverbose_eval\u001B[49m\u001B[38;5;241;43m=\u001B[39;49m\u001B[43mverbose\u001B[49m\u001B[43m,\u001B[49m\n\u001B[1;32m   1500\u001B[0m \u001B[43m    \u001B[49m\u001B[43mxgb_model\u001B[49m\u001B[38;5;241;43m=\u001B[39;49m\u001B[43mmodel\u001B[49m\u001B[43m,\u001B[49m\n\u001B[1;32m   1501\u001B[0m \u001B[43m    \u001B[49m\u001B[43mcallbacks\u001B[49m\u001B[38;5;241;43m=\u001B[39;49m\u001B[43mcallbacks\u001B[49m\u001B[43m,\u001B[49m\n\u001B[1;32m   1502\u001B[0m \u001B[43m\u001B[49m\u001B[43m)\u001B[49m\n\u001B[1;32m   1504\u001B[0m \u001B[38;5;28;01mif\u001B[39;00m \u001B[38;5;129;01mnot\u001B[39;00m \u001B[38;5;28mcallable\u001B[39m(\u001B[38;5;28mself\u001B[39m\u001B[38;5;241m.\u001B[39mobjective):\n\u001B[1;32m   1505\u001B[0m     \u001B[38;5;28mself\u001B[39m\u001B[38;5;241m.\u001B[39mobjective \u001B[38;5;241m=\u001B[39m params[\u001B[38;5;124m\"\u001B[39m\u001B[38;5;124mobjective\u001B[39m\u001B[38;5;124m\"\u001B[39m]\n",
      "File \u001B[0;32m~/PycharmProjects/EmbeddedMobility/venv/lib/python3.9/site-packages/xgboost/core.py:620\u001B[0m, in \u001B[0;36mrequire_keyword_args.<locals>.throw_if.<locals>.inner_f\u001B[0;34m(*args, **kwargs)\u001B[0m\n\u001B[1;32m    618\u001B[0m \u001B[38;5;28;01mfor\u001B[39;00m k, arg \u001B[38;5;129;01min\u001B[39;00m \u001B[38;5;28mzip\u001B[39m(sig\u001B[38;5;241m.\u001B[39mparameters, args):\n\u001B[1;32m    619\u001B[0m     kwargs[k] \u001B[38;5;241m=\u001B[39m arg\n\u001B[0;32m--> 620\u001B[0m \u001B[38;5;28;01mreturn\u001B[39;00m \u001B[43mfunc\u001B[49m\u001B[43m(\u001B[49m\u001B[38;5;241;43m*\u001B[39;49m\u001B[38;5;241;43m*\u001B[39;49m\u001B[43mkwargs\u001B[49m\u001B[43m)\u001B[49m\n",
      "File \u001B[0;32m~/PycharmProjects/EmbeddedMobility/venv/lib/python3.9/site-packages/xgboost/training.py:185\u001B[0m, in \u001B[0;36mtrain\u001B[0;34m(params, dtrain, num_boost_round, evals, obj, feval, maximize, early_stopping_rounds, evals_result, verbose_eval, xgb_model, callbacks, custom_metric)\u001B[0m\n\u001B[1;32m    183\u001B[0m \u001B[38;5;28;01mif\u001B[39;00m cb_container\u001B[38;5;241m.\u001B[39mbefore_iteration(bst, i, dtrain, evals):\n\u001B[1;32m    184\u001B[0m     \u001B[38;5;28;01mbreak\u001B[39;00m\n\u001B[0;32m--> 185\u001B[0m \u001B[43mbst\u001B[49m\u001B[38;5;241;43m.\u001B[39;49m\u001B[43mupdate\u001B[49m\u001B[43m(\u001B[49m\u001B[43mdtrain\u001B[49m\u001B[43m,\u001B[49m\u001B[43m \u001B[49m\u001B[43mi\u001B[49m\u001B[43m,\u001B[49m\u001B[43m \u001B[49m\u001B[43mobj\u001B[49m\u001B[43m)\u001B[49m\n\u001B[1;32m    186\u001B[0m \u001B[38;5;28;01mif\u001B[39;00m cb_container\u001B[38;5;241m.\u001B[39mafter_iteration(bst, i, dtrain, evals):\n\u001B[1;32m    187\u001B[0m     \u001B[38;5;28;01mbreak\u001B[39;00m\n",
      "File \u001B[0;32m~/PycharmProjects/EmbeddedMobility/venv/lib/python3.9/site-packages/xgboost/core.py:1918\u001B[0m, in \u001B[0;36mBooster.update\u001B[0;34m(self, dtrain, iteration, fobj)\u001B[0m\n\u001B[1;32m   1915\u001B[0m \u001B[38;5;28mself\u001B[39m\u001B[38;5;241m.\u001B[39m_validate_dmatrix_features(dtrain)\n\u001B[1;32m   1917\u001B[0m \u001B[38;5;28;01mif\u001B[39;00m fobj \u001B[38;5;129;01mis\u001B[39;00m \u001B[38;5;28;01mNone\u001B[39;00m:\n\u001B[0;32m-> 1918\u001B[0m     _check_call(\u001B[43m_LIB\u001B[49m\u001B[38;5;241;43m.\u001B[39;49m\u001B[43mXGBoosterUpdateOneIter\u001B[49m\u001B[43m(\u001B[49m\u001B[38;5;28;43mself\u001B[39;49m\u001B[38;5;241;43m.\u001B[39;49m\u001B[43mhandle\u001B[49m\u001B[43m,\u001B[49m\n\u001B[1;32m   1919\u001B[0m \u001B[43m                                            \u001B[49m\u001B[43mctypes\u001B[49m\u001B[38;5;241;43m.\u001B[39;49m\u001B[43mc_int\u001B[49m\u001B[43m(\u001B[49m\u001B[43miteration\u001B[49m\u001B[43m)\u001B[49m\u001B[43m,\u001B[49m\n\u001B[1;32m   1920\u001B[0m \u001B[43m                                            \u001B[49m\u001B[43mdtrain\u001B[49m\u001B[38;5;241;43m.\u001B[39;49m\u001B[43mhandle\u001B[49m\u001B[43m)\u001B[49m)\n\u001B[1;32m   1921\u001B[0m \u001B[38;5;28;01melse\u001B[39;00m:\n\u001B[1;32m   1922\u001B[0m     pred \u001B[38;5;241m=\u001B[39m \u001B[38;5;28mself\u001B[39m\u001B[38;5;241m.\u001B[39mpredict(dtrain, output_margin\u001B[38;5;241m=\u001B[39m\u001B[38;5;28;01mTrue\u001B[39;00m, training\u001B[38;5;241m=\u001B[39m\u001B[38;5;28;01mTrue\u001B[39;00m)\n",
      "\u001B[0;31mKeyboardInterrupt\u001B[0m: "
     ]
    }
   ],
   "source": [
    "# Split the data into train and test sets\n",
    "X = df.drop('khvm', axis=1)  # Drop the target variable from the features\n",
    "y = df['khvm']\n",
    "X_train, X_test, y_train, y_test = train_test_split(X, y, test_size=0.2, random_state=42)\n",
    "\n",
    "# Define the XGBoost classifier\n",
    "clf = xgb.XGBClassifier()\n",
    "\n",
    "# Train the classifier\n",
    "clf.fit(X_train, y_train)\n",
    "\n",
    "# Test the classifier\n",
    "y_pred = clf.predict(X_test)\n",
    "\n",
    "# Evaluate the classifier\n",
    "accuracy = accuracy_score(y_test, y_pred)\n",
    "print(f'Accuracy: {accuracy}')"
   ],
   "metadata": {
    "collapsed": false
   }
  }
 ],
 "metadata": {
  "kernelspec": {
   "display_name": "Python 3",
   "language": "python",
   "name": "python3"
  },
  "language_info": {
   "codemirror_mode": {
    "name": "ipython",
    "version": 2
   },
   "file_extension": ".py",
   "mimetype": "text/x-python",
   "name": "python",
   "nbconvert_exporter": "python",
   "pygments_lexer": "ipython2",
   "version": "2.7.6"
  }
 },
 "nbformat": 4,
 "nbformat_minor": 0
}
