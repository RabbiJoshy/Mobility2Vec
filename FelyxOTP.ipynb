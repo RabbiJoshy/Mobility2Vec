{
 "cells": [
  {
   "cell_type": "code",
   "execution_count": null,
   "metadata": {
    "collapsed": true
   },
   "outputs": [],
   "source": [
    "from otpclient import Router\n",
    "\n",
    "# Request data\n",
    "origin = \"51.915959,4.472913\"  # lat, lon\n",
    "destination = \"52.376919,4.901873\"  # lat, lon\n",
    "\n",
    "# Get a router instance\n",
    "r = Router(dest_folder=\"./output/TRANSIT,WALK\")\n",
    "\n",
    "# Create the URL\n",
    "# Weekday follows the rule 1 = Sunday\n",
    "# Available mode (combinations) can be found here:\n",
    "# http://docs.opentripplanner.org/en/v1.5.0/Configuration/#routing-modes\n",
    "# https://docs.opentripplanner.org/en/v2.2.0/Configuration/#routing-modes\n",
    "url = r.construct_url(origin=origin, destination=destination, departuretime=\"11:12\", weekday=6, transportmode=\"TRANSIT,WALK\")\n",
    "\n",
    "# Create the destination filename (e.g. the ODiN trip_id)\n",
    "fname = r.construct_filename(trip_id=101)\n",
    "\n",
    "# Call OTP, the output JSON will be stored in the dest_folder under the filename \"101.json\"\n",
    "r.route(full_url=url, filename=fname)"
   ]
  }
 ],
 "metadata": {
  "kernelspec": {
   "display_name": "Python 3",
   "language": "python",
   "name": "python3"
  },
  "language_info": {
   "codemirror_mode": {
    "name": "ipython",
    "version": 2
   },
   "file_extension": ".py",
   "mimetype": "text/x-python",
   "name": "python",
   "nbconvert_exporter": "python",
   "pygments_lexer": "ipython2",
   "version": "2.7.6"
  }
 },
 "nbformat": 4,
 "nbformat_minor": 0
}
